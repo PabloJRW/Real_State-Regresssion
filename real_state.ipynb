{
 "cells": [
  {
   "cell_type": "code",
   "execution_count": 38,
   "id": "81040308-cbf3-468c-9eb8-e85ac626ba26",
   "metadata": {},
   "outputs": [],
   "source": [
    "import numpy as np\n",
    "import pandas as pd\n",
    "\n",
    "import matplotlib.pyplot as plt\n",
    "import seaborn as sns\n",
    "plt.style.use('ggplot')\n",
    "\n",
    "from sklearn.model_selection import train_test_split\n",
    "from sklearn.preprocessing import MinMaxScaler, normalize\n",
    "from sklearn.model_selection import cross_val_predict\n",
    "from sklearn.ensemble import RandomForestRegressor\n",
    "from sklearn.model_selection import cross_val_score\n",
    "from sklearn.metrics import mean_squared_error\n",
    "from sklearn.model_selection import RandomizedSearchCV\n",
    "\n",
    "from io import StringIO\n",
    "from IPython.display import Image, display\n",
    "import pydotplus"
   ]
  },
  {
   "cell_type": "markdown",
   "id": "0279759a-db00-48fc-abfa-b3ddb4274747",
   "metadata": {},
   "source": [
    "## Análisis Exploratorio"
   ]
  },
  {
   "cell_type": "code",
   "execution_count": 2,
   "id": "a78de706-7207-4537-9de9-b3a704fb162c",
   "metadata": {},
   "outputs": [
    {
     "data": {
      "text/html": [
       "<div>\n",
       "<style scoped>\n",
       "    .dataframe tbody tr th:only-of-type {\n",
       "        vertical-align: middle;\n",
       "    }\n",
       "\n",
       "    .dataframe tbody tr th {\n",
       "        vertical-align: top;\n",
       "    }\n",
       "\n",
       "    .dataframe thead th {\n",
       "        text-align: right;\n",
       "    }\n",
       "</style>\n",
       "<table border=\"1\" class=\"dataframe\">\n",
       "  <thead>\n",
       "    <tr style=\"text-align: right;\">\n",
       "      <th></th>\n",
       "      <th>No</th>\n",
       "      <th>X1 transaction date</th>\n",
       "      <th>X2 house age</th>\n",
       "      <th>X3 distance to the nearest MRT station</th>\n",
       "      <th>X4 number of convenience stores</th>\n",
       "      <th>X5 latitude</th>\n",
       "      <th>X6 longitude</th>\n",
       "      <th>Y house price of unit area</th>\n",
       "    </tr>\n",
       "  </thead>\n",
       "  <tbody>\n",
       "    <tr>\n",
       "      <th>0</th>\n",
       "      <td>1</td>\n",
       "      <td>2012.916667</td>\n",
       "      <td>32.0</td>\n",
       "      <td>84.87882</td>\n",
       "      <td>10</td>\n",
       "      <td>24.98298</td>\n",
       "      <td>121.54024</td>\n",
       "      <td>37.9</td>\n",
       "    </tr>\n",
       "    <tr>\n",
       "      <th>1</th>\n",
       "      <td>2</td>\n",
       "      <td>2012.916667</td>\n",
       "      <td>19.5</td>\n",
       "      <td>306.59470</td>\n",
       "      <td>9</td>\n",
       "      <td>24.98034</td>\n",
       "      <td>121.53951</td>\n",
       "      <td>42.2</td>\n",
       "    </tr>\n",
       "    <tr>\n",
       "      <th>2</th>\n",
       "      <td>3</td>\n",
       "      <td>2013.583333</td>\n",
       "      <td>13.3</td>\n",
       "      <td>561.98450</td>\n",
       "      <td>5</td>\n",
       "      <td>24.98746</td>\n",
       "      <td>121.54391</td>\n",
       "      <td>47.3</td>\n",
       "    </tr>\n",
       "    <tr>\n",
       "      <th>3</th>\n",
       "      <td>4</td>\n",
       "      <td>2013.500000</td>\n",
       "      <td>13.3</td>\n",
       "      <td>561.98450</td>\n",
       "      <td>5</td>\n",
       "      <td>24.98746</td>\n",
       "      <td>121.54391</td>\n",
       "      <td>54.8</td>\n",
       "    </tr>\n",
       "    <tr>\n",
       "      <th>4</th>\n",
       "      <td>5</td>\n",
       "      <td>2012.833333</td>\n",
       "      <td>5.0</td>\n",
       "      <td>390.56840</td>\n",
       "      <td>5</td>\n",
       "      <td>24.97937</td>\n",
       "      <td>121.54245</td>\n",
       "      <td>43.1</td>\n",
       "    </tr>\n",
       "  </tbody>\n",
       "</table>\n",
       "</div>"
      ],
      "text/plain": [
       "   No  X1 transaction date  X2 house age  \\\n",
       "0   1          2012.916667          32.0   \n",
       "1   2          2012.916667          19.5   \n",
       "2   3          2013.583333          13.3   \n",
       "3   4          2013.500000          13.3   \n",
       "4   5          2012.833333           5.0   \n",
       "\n",
       "   X3 distance to the nearest MRT station  X4 number of convenience stores  \\\n",
       "0                                84.87882                               10   \n",
       "1                               306.59470                                9   \n",
       "2                               561.98450                                5   \n",
       "3                               561.98450                                5   \n",
       "4                               390.56840                                5   \n",
       "\n",
       "   X5 latitude  X6 longitude  Y house price of unit area  \n",
       "0     24.98298     121.54024                        37.9  \n",
       "1     24.98034     121.53951                        42.2  \n",
       "2     24.98746     121.54391                        47.3  \n",
       "3     24.98746     121.54391                        54.8  \n",
       "4     24.97937     121.54245                        43.1  "
      ]
     },
     "execution_count": 2,
     "metadata": {},
     "output_type": "execute_result"
    }
   ],
   "source": [
    "# Carga de los datos\n",
    "data = pd.read_excel('Real estate valuation data set.xlsx')\n",
    "data.head()"
   ]
  },
  {
   "cell_type": "code",
   "execution_count": 3,
   "id": "15faa36e-88e8-4d74-8b06-4a7d9703cb7e",
   "metadata": {},
   "outputs": [
    {
     "name": "stdout",
     "output_type": "stream",
     "text": [
      "<class 'pandas.core.frame.DataFrame'>\n",
      "RangeIndex: 414 entries, 0 to 413\n",
      "Data columns (total 8 columns):\n",
      " #   Column                                  Non-Null Count  Dtype  \n",
      "---  ------                                  --------------  -----  \n",
      " 0   No                                      414 non-null    int64  \n",
      " 1   X1 transaction date                     414 non-null    float64\n",
      " 2   X2 house age                            414 non-null    float64\n",
      " 3   X3 distance to the nearest MRT station  414 non-null    float64\n",
      " 4   X4 number of convenience stores         414 non-null    int64  \n",
      " 5   X5 latitude                             414 non-null    float64\n",
      " 6   X6 longitude                            414 non-null    float64\n",
      " 7   Y house price of unit area              414 non-null    float64\n",
      "dtypes: float64(6), int64(2)\n",
      "memory usage: 26.0 KB\n"
     ]
    }
   ],
   "source": [
    "# Información de los datos\n",
    "data.info()"
   ]
  },
  {
   "cell_type": "code",
   "execution_count": 4,
   "id": "4ef120fd-f374-472b-a945-764962f7dbdf",
   "metadata": {},
   "outputs": [
    {
     "data": {
      "text/html": [
       "<div>\n",
       "<style scoped>\n",
       "    .dataframe tbody tr th:only-of-type {\n",
       "        vertical-align: middle;\n",
       "    }\n",
       "\n",
       "    .dataframe tbody tr th {\n",
       "        vertical-align: top;\n",
       "    }\n",
       "\n",
       "    .dataframe thead th {\n",
       "        text-align: right;\n",
       "    }\n",
       "</style>\n",
       "<table border=\"1\" class=\"dataframe\">\n",
       "  <thead>\n",
       "    <tr style=\"text-align: right;\">\n",
       "      <th></th>\n",
       "      <th>No</th>\n",
       "      <th>X1 transaction date</th>\n",
       "      <th>X2 house age</th>\n",
       "      <th>X3 distance to the nearest MRT station</th>\n",
       "      <th>X4 number of convenience stores</th>\n",
       "      <th>X5 latitude</th>\n",
       "      <th>X6 longitude</th>\n",
       "      <th>Y house price of unit area</th>\n",
       "    </tr>\n",
       "  </thead>\n",
       "  <tbody>\n",
       "    <tr>\n",
       "      <th>count</th>\n",
       "      <td>414.000000</td>\n",
       "      <td>414.000000</td>\n",
       "      <td>414.000000</td>\n",
       "      <td>414.000000</td>\n",
       "      <td>414.000000</td>\n",
       "      <td>414.000000</td>\n",
       "      <td>414.000000</td>\n",
       "      <td>414.000000</td>\n",
       "    </tr>\n",
       "    <tr>\n",
       "      <th>mean</th>\n",
       "      <td>207.500000</td>\n",
       "      <td>2013.148953</td>\n",
       "      <td>17.712560</td>\n",
       "      <td>1083.885689</td>\n",
       "      <td>4.094203</td>\n",
       "      <td>24.969030</td>\n",
       "      <td>121.533361</td>\n",
       "      <td>37.980193</td>\n",
       "    </tr>\n",
       "    <tr>\n",
       "      <th>std</th>\n",
       "      <td>119.655756</td>\n",
       "      <td>0.281995</td>\n",
       "      <td>11.392485</td>\n",
       "      <td>1262.109595</td>\n",
       "      <td>2.945562</td>\n",
       "      <td>0.012410</td>\n",
       "      <td>0.015347</td>\n",
       "      <td>13.606488</td>\n",
       "    </tr>\n",
       "    <tr>\n",
       "      <th>min</th>\n",
       "      <td>1.000000</td>\n",
       "      <td>2012.666667</td>\n",
       "      <td>0.000000</td>\n",
       "      <td>23.382840</td>\n",
       "      <td>0.000000</td>\n",
       "      <td>24.932070</td>\n",
       "      <td>121.473530</td>\n",
       "      <td>7.600000</td>\n",
       "    </tr>\n",
       "    <tr>\n",
       "      <th>25%</th>\n",
       "      <td>104.250000</td>\n",
       "      <td>2012.916667</td>\n",
       "      <td>9.025000</td>\n",
       "      <td>289.324800</td>\n",
       "      <td>1.000000</td>\n",
       "      <td>24.963000</td>\n",
       "      <td>121.528085</td>\n",
       "      <td>27.700000</td>\n",
       "    </tr>\n",
       "    <tr>\n",
       "      <th>50%</th>\n",
       "      <td>207.500000</td>\n",
       "      <td>2013.166667</td>\n",
       "      <td>16.100000</td>\n",
       "      <td>492.231300</td>\n",
       "      <td>4.000000</td>\n",
       "      <td>24.971100</td>\n",
       "      <td>121.538630</td>\n",
       "      <td>38.450000</td>\n",
       "    </tr>\n",
       "    <tr>\n",
       "      <th>75%</th>\n",
       "      <td>310.750000</td>\n",
       "      <td>2013.416667</td>\n",
       "      <td>28.150000</td>\n",
       "      <td>1454.279000</td>\n",
       "      <td>6.000000</td>\n",
       "      <td>24.977455</td>\n",
       "      <td>121.543305</td>\n",
       "      <td>46.600000</td>\n",
       "    </tr>\n",
       "    <tr>\n",
       "      <th>max</th>\n",
       "      <td>414.000000</td>\n",
       "      <td>2013.583333</td>\n",
       "      <td>43.800000</td>\n",
       "      <td>6488.021000</td>\n",
       "      <td>10.000000</td>\n",
       "      <td>25.014590</td>\n",
       "      <td>121.566270</td>\n",
       "      <td>117.500000</td>\n",
       "    </tr>\n",
       "  </tbody>\n",
       "</table>\n",
       "</div>"
      ],
      "text/plain": [
       "               No  X1 transaction date  X2 house age  \\\n",
       "count  414.000000           414.000000    414.000000   \n",
       "mean   207.500000          2013.148953     17.712560   \n",
       "std    119.655756             0.281995     11.392485   \n",
       "min      1.000000          2012.666667      0.000000   \n",
       "25%    104.250000          2012.916667      9.025000   \n",
       "50%    207.500000          2013.166667     16.100000   \n",
       "75%    310.750000          2013.416667     28.150000   \n",
       "max    414.000000          2013.583333     43.800000   \n",
       "\n",
       "       X3 distance to the nearest MRT station  \\\n",
       "count                              414.000000   \n",
       "mean                              1083.885689   \n",
       "std                               1262.109595   \n",
       "min                                 23.382840   \n",
       "25%                                289.324800   \n",
       "50%                                492.231300   \n",
       "75%                               1454.279000   \n",
       "max                               6488.021000   \n",
       "\n",
       "       X4 number of convenience stores  X5 latitude  X6 longitude  \\\n",
       "count                       414.000000   414.000000    414.000000   \n",
       "mean                          4.094203    24.969030    121.533361   \n",
       "std                           2.945562     0.012410      0.015347   \n",
       "min                           0.000000    24.932070    121.473530   \n",
       "25%                           1.000000    24.963000    121.528085   \n",
       "50%                           4.000000    24.971100    121.538630   \n",
       "75%                           6.000000    24.977455    121.543305   \n",
       "max                          10.000000    25.014590    121.566270   \n",
       "\n",
       "       Y house price of unit area  \n",
       "count                  414.000000  \n",
       "mean                    37.980193  \n",
       "std                     13.606488  \n",
       "min                      7.600000  \n",
       "25%                     27.700000  \n",
       "50%                     38.450000  \n",
       "75%                     46.600000  \n",
       "max                    117.500000  "
      ]
     },
     "execution_count": 4,
     "metadata": {},
     "output_type": "execute_result"
    }
   ],
   "source": [
    "# Descripción de los datos\n",
    "data.describe()"
   ]
  },
  {
   "cell_type": "code",
   "execution_count": 5,
   "id": "838dac10-0cdc-4486-b9c9-422598d34fea",
   "metadata": {},
   "outputs": [],
   "source": [
    "# Elimino la columna 'No'\n",
    "data.drop('No', axis=1, inplace=True)\n",
    "\n",
    "# Renombrar columnas\n",
    "data.columns = ['transaction_date','house_age','distance_to_station','n_stores','latitude','longitude','price']\n",
    "\n",
    "# Convertir tipo de datos\n",
    "data['transaction_date'] = pd.to_datetime(data['transaction_date'], format='%Y/%m/%d')"
   ]
  },
  {
   "cell_type": "code",
   "execution_count": 6,
   "id": "939b8445-f3e2-42d4-bda2-8082031ee91e",
   "metadata": {},
   "outputs": [
    {
     "data": {
      "text/plain": [
       "array(['1970-01-01T00:00:00.000002012', '1970-01-01T00:00:00.000002013'],\n",
       "      dtype='datetime64[ns]')"
      ]
     },
     "execution_count": 6,
     "metadata": {},
     "output_type": "execute_result"
    }
   ],
   "source": [
    "# Observo los valores únicos en la variable 'transaction_date'\n",
    "data['transaction_date'].unique()"
   ]
  },
  {
   "cell_type": "markdown",
   "id": "314cd835-d9a0-4c2f-9f70-e84c8a8715f8",
   "metadata": {},
   "source": [
    "La variable 'transaction_date' sólo contiene dos elementos distintos que no tienen mayor relevancia para el análisis, por lo que, la elimino de los datos."
   ]
  },
  {
   "cell_type": "code",
   "execution_count": 7,
   "id": "a871d39c-11cc-4720-87f4-b1ebf75a2486",
   "metadata": {},
   "outputs": [],
   "source": [
    "data.drop( 'transaction_date', axis=1, inplace=True)"
   ]
  },
  {
   "cell_type": "markdown",
   "id": "34d638ba-14da-4530-91d8-08bdb9e8d3fe",
   "metadata": {},
   "source": [
    "### Visualización de datos geográficos"
   ]
  },
  {
   "cell_type": "markdown",
   "id": "79a3cd02-60d2-40a0-839b-b2f04d2bf71a",
   "metadata": {},
   "source": [
    "Contamos con datos geográficos(longitud, latitud). Los visualizamos para buscar patrones.  \n"
   ]
  },
  {
   "cell_type": "code",
   "execution_count": 8,
   "id": "083872f0-57d9-4b6c-a18a-5b19dab5ea6c",
   "metadata": {},
   "outputs": [
    {
     "data": {
      "text/plain": [
       "<AxesSubplot:xlabel='longitude', ylabel='latitude'>"
      ]
     },
     "execution_count": 8,
     "metadata": {},
     "output_type": "execute_result"
    },
    {
     "data": {
      "image/png": "[encoded data removed]",
      "text/plain": [
       "<Figure size 432x288 with 2 Axes>"
      ]
     },
     "metadata": {},
     "output_type": "display_data"
    }
   ],
   "source": [
    "data.plot(kind='scatter', x='longitude', y='latitude', alpha=.25,\n",
    "          s=data['price']*1.5,c=data['price'], cmap=plt.get_cmap('jet'), colorbar=True)"
   ]
  },
  {
   "cell_type": "markdown",
   "id": "a095e514-f858-41e1-84c7-d2dd88e1e9b6",
   "metadata": {},
   "source": [
    "Podemos observar que existe un área donde se concentran una gran cantidad de viviendas con precios medios-altos, sin embargo, en esta área se puede observar que hay instancias con valores bajos. Las vivivendas de precios más bajos, se encuentran dispersas, por lo general, alejadas del área anteriormente mencionada. "
   ]
  },
  {
   "cell_type": "markdown",
   "id": "40723cf6-5084-4208-93dc-b18784190a0b",
   "metadata": {},
   "source": [
    "### Correlaciones"
   ]
  },
  {
   "cell_type": "code",
   "execution_count": 9,
   "id": "f8e65f84-b9c5-481b-ac29-98b1c6e75e92",
   "metadata": {},
   "outputs": [
    {
     "data": {
      "text/plain": [
       "distance_to_station   -0.775948\n",
       "house_age             -0.281753\n",
       "longitude              0.437672\n",
       "latitude               0.578419\n",
       "n_stores               0.617333\n",
       "price                  1.000000\n",
       "Name: price, dtype: float64"
      ]
     },
     "execution_count": 9,
     "metadata": {},
     "output_type": "execute_result"
    }
   ],
   "source": [
    "corr_matrix = data.corr(method='spearman')\n",
    "corr_matrix['price'].sort_values()"
   ]
  },
  {
   "cell_type": "markdown",
   "id": "81d928df-9470-4199-8a60-4f0bf67d1df2",
   "metadata": {},
   "source": [
    "Mediante el coeficiente de correlación (de Spearman), podemos resaltar que:\n",
    "* La distancia hasta la estación del metro(distance_to_station) y,\n",
    "* La cantidad de tiendas de conveniencias cercanas(n_store), \n",
    "\n",
    "están fuertemente correlacionadas con el precio de las viviendas. Más, esto no significa causalidad."
   ]
  },
  {
   "cell_type": "markdown",
   "id": "6cb61588-65ce-4fdc-b2f5-8b7cf9d889aa",
   "metadata": {},
   "source": [
    "## <b>Modelo (Bosque Aleatorio)"
   ]
  },
  {
   "cell_type": "code",
   "execution_count": 10,
   "id": "53b93f27-dfb9-4d45-9ea4-a2ca19e1055e",
   "metadata": {
    "tags": []
   },
   "outputs": [
    {
     "data": {
      "text/html": [
       "<div>\n",
       "<style scoped>\n",
       "    .dataframe tbody tr th:only-of-type {\n",
       "        vertical-align: middle;\n",
       "    }\n",
       "\n",
       "    .dataframe tbody tr th {\n",
       "        vertical-align: top;\n",
       "    }\n",
       "\n",
       "    .dataframe thead th {\n",
       "        text-align: right;\n",
       "    }\n",
       "</style>\n",
       "<table border=\"1\" class=\"dataframe\">\n",
       "  <thead>\n",
       "    <tr style=\"text-align: right;\">\n",
       "      <th></th>\n",
       "      <th>house_age</th>\n",
       "      <th>distance_to_station</th>\n",
       "      <th>n_stores</th>\n",
       "      <th>latitude</th>\n",
       "      <th>longitude</th>\n",
       "    </tr>\n",
       "  </thead>\n",
       "  <tbody>\n",
       "    <tr>\n",
       "      <th>0</th>\n",
       "      <td>32.0</td>\n",
       "      <td>84.87882</td>\n",
       "      <td>10</td>\n",
       "      <td>24.98298</td>\n",
       "      <td>121.54024</td>\n",
       "    </tr>\n",
       "    <tr>\n",
       "      <th>1</th>\n",
       "      <td>19.5</td>\n",
       "      <td>306.59470</td>\n",
       "      <td>9</td>\n",
       "      <td>24.98034</td>\n",
       "      <td>121.53951</td>\n",
       "    </tr>\n",
       "  </tbody>\n",
       "</table>\n",
       "</div>"
      ],
      "text/plain": [
       "   house_age  distance_to_station  n_stores  latitude  longitude\n",
       "0       32.0             84.87882        10  24.98298  121.54024\n",
       "1       19.5            306.59470         9  24.98034  121.53951"
      ]
     },
     "execution_count": 10,
     "metadata": {},
     "output_type": "execute_result"
    }
   ],
   "source": [
    "# Datos de entrada\n",
    "# ================================================================\n",
    "X = data\n",
    "y = data.pop('price')\n",
    "X.head(2)"
   ]
  },
  {
   "cell_type": "code",
   "execution_count": 11,
   "id": "19de83c6-245b-4d21-b001-e100056d6529",
   "metadata": {
    "tags": []
   },
   "outputs": [],
   "source": [
    "# Separar datos de entrenamiento y prueba\n",
    "X_train, X_test, y_train, y_test = train_test_split(X, y, random_state=23, test_size=.3)"
   ]
  },
  {
   "cell_type": "markdown",
   "id": "edd865ba-aceb-4d3e-9942-f87b7cfd1ce3",
   "metadata": {},
   "source": [
    "### DecisionTreeRegressor"
   ]
  },
  {
   "cell_type": "markdown",
   "id": "91cd9f40-b2f5-41f4-9798-cb2ccd97898d",
   "metadata": {},
   "source": [
    "Algoritmo de Árbol de decisión (Regresión) con parámetros por defecto."
   ]
  },
  {
   "cell_type": "code",
   "execution_count": 13,
   "id": "0a24730d-01c2-4464-b22c-6b2ae2851a14",
   "metadata": {},
   "outputs": [
    {
     "data": {
      "text/plain": [
       "RandomForestRegressor(random_state=0)"
      ]
     },
     "execution_count": 13,
     "metadata": {},
     "output_type": "execute_result"
    }
   ],
   "source": [
    "# Regresor de Bosque Aleatorio\n",
    "# Entrenamiento del modelo\n",
    "# =====================================================================\n",
    "randomf_reg = RandomForestRegressor(random_state=0)\n",
    "randomf_reg.fit(X_train, y_train)"
   ]
  },
  {
   "cell_type": "code",
   "execution_count": 14,
   "id": "339ee31d-d0e8-4b4a-83fe-fe3ce812ba5a",
   "metadata": {},
   "outputs": [
    {
     "name": "stdout",
     "output_type": "stream",
     "text": [
      "Importancia de los predictores en el modelo\n",
      "-------------------------------------------\n"
     ]
    },
    {
     "data": {
      "text/html": [
       "<div>\n",
       "<style scoped>\n",
       "    .dataframe tbody tr th:only-of-type {\n",
       "        vertical-align: middle;\n",
       "    }\n",
       "\n",
       "    .dataframe tbody tr th {\n",
       "        vertical-align: top;\n",
       "    }\n",
       "\n",
       "    .dataframe thead th {\n",
       "        text-align: right;\n",
       "    }\n",
       "</style>\n",
       "<table border=\"1\" class=\"dataframe\">\n",
       "  <thead>\n",
       "    <tr style=\"text-align: right;\">\n",
       "      <th></th>\n",
       "      <th>predictor</th>\n",
       "      <th>importancia</th>\n",
       "    </tr>\n",
       "  </thead>\n",
       "  <tbody>\n",
       "    <tr>\n",
       "      <th>1</th>\n",
       "      <td>distance_to_station</td>\n",
       "      <td>0.608068</td>\n",
       "    </tr>\n",
       "    <tr>\n",
       "      <th>0</th>\n",
       "      <td>house_age</td>\n",
       "      <td>0.167869</td>\n",
       "    </tr>\n",
       "    <tr>\n",
       "      <th>4</th>\n",
       "      <td>longitude</td>\n",
       "      <td>0.100956</td>\n",
       "    </tr>\n",
       "    <tr>\n",
       "      <th>3</th>\n",
       "      <td>latitude</td>\n",
       "      <td>0.100732</td>\n",
       "    </tr>\n",
       "    <tr>\n",
       "      <th>2</th>\n",
       "      <td>n_stores</td>\n",
       "      <td>0.022376</td>\n",
       "    </tr>\n",
       "  </tbody>\n",
       "</table>\n",
       "</div>"
      ],
      "text/plain": [
       "             predictor  importancia\n",
       "1  distance_to_station     0.608068\n",
       "0            house_age     0.167869\n",
       "4            longitude     0.100956\n",
       "3             latitude     0.100732\n",
       "2             n_stores     0.022376"
      ]
     },
     "execution_count": 14,
     "metadata": {},
     "output_type": "execute_result"
    }
   ],
   "source": [
    "importancia_predictores = pd.DataFrame(\n",
    "                            {'predictor': data.columns,\n",
    "                             'importancia': randomf_reg.feature_importances_}\n",
    "                            )\n",
    "print(\"Importancia de los predictores en el modelo\")\n",
    "print(\"-------------------------------------------\")\n",
    "importancia_predictores.sort_values('importancia', ascending=False)"
   ]
  },
  {
   "cell_type": "markdown",
   "id": "a3506ff0-5f71-4f83-b0c7-06bafcaf2215",
   "metadata": {},
   "source": [
    "Nuestro modelo de bosque aleatorio como el coeficiente de correlación nos indican que \"distance_to_station\" es la variable que mayor información nos aporta para la regresión de nuestra variable objetivo."
   ]
  },
  {
   "cell_type": "markdown",
   "id": "488c00d6-fdd2-495c-b395-3e5f4d1f92aa",
   "metadata": {},
   "source": [
    "### Validación Cruzada (10 k-folds)"
   ]
  },
  {
   "cell_type": "markdown",
   "id": "cb7db1f5-eb26-4009-a9e4-382fd021c466",
   "metadata": {},
   "source": [
    "Realizo una validación cruzada de 10 k-folds para evaluar la capacidad de predicción del modelo (con los hiperparámetros por defecto)."
   ]
  },
  {
   "cell_type": "code",
   "execution_count": 15,
   "id": "2ef49b97-d540-499c-829b-a1998c1307de",
   "metadata": {},
   "outputs": [
    {
     "name": "stdout",
     "output_type": "stream",
     "text": [
      "RMSE de los 10 k-folds:\n",
      "[ 6.06883631 15.13032459  5.60258963  7.78305387  9.54635335  5.78060085\n",
      "  6.52780971  9.00321417  5.23699947  7.37638103]\n",
      "\n",
      "RMSE promedio: 7.81, desviación: 2.8\n"
     ]
    }
   ],
   "source": [
    "# Cross-Validation\n",
    "# =====================================================================\n",
    "y_preds = cross_val_score(randomf_reg, X_train, y_train,\n",
    "                         scoring='neg_mean_squared_error', cv=10)\n",
    "rf_rmse = np.sqrt(-y_preds)\n",
    "print('RMSE de los 10 k-folds:')\n",
    "print(rf_rmse)\n",
    "print()\n",
    "rf_rmse_mean = round(np.mean(rf_rmse),2)\n",
    "rf_rmse_std = round(np.std(rf_rmse),2)\n",
    "print(f'RMSE promedio: {rf_rmse_mean}, desviación: {rf_rmse_std}')"
   ]
  },
  {
   "cell_type": "markdown",
   "id": "28c2ff18-e021-4520-8b12-a68fc06edf3f",
   "metadata": {},
   "source": [
    "### Ajuste del modelo"
   ]
  },
  {
   "cell_type": "code",
   "execution_count": 21,
   "id": "e83a3f34-f3c7-4dda-9627-57220fde10a7",
   "metadata": {},
   "outputs": [
    {
     "data": {
      "text/plain": [
       "{'bootstrap': True,\n",
       " 'ccp_alpha': 0.0,\n",
       " 'criterion': 'mse',\n",
       " 'max_depth': None,\n",
       " 'max_features': 'auto',\n",
       " 'max_leaf_nodes': None,\n",
       " 'max_samples': None,\n",
       " 'min_impurity_decrease': 0.0,\n",
       " 'min_impurity_split': None,\n",
       " 'min_samples_leaf': 1,\n",
       " 'min_samples_split': 2,\n",
       " 'min_weight_fraction_leaf': 0.0,\n",
       " 'n_estimators': 100,\n",
       " 'n_jobs': None,\n",
       " 'oob_score': False,\n",
       " 'random_state': 123,\n",
       " 'verbose': 0,\n",
       " 'warm_start': False}"
      ]
     },
     "execution_count": 21,
     "metadata": {},
     "output_type": "execute_result"
    }
   ],
   "source": [
    "modelo = RandomForestRegressor(random_state=123)     \n",
    "modelo.get_params()"
   ]
  },
  {
   "cell_type": "code",
   "execution_count": 53,
   "id": "f045a5c8-eadd-419f-9fb5-6bd10c5aea0d",
   "metadata": {},
   "outputs": [
    {
     "name": "stderr",
     "output_type": "stream",
     "text": [
      "/home/pablo/anaconda3/lib/python3.8/site-packages/sklearn/model_selection/_search.py:918: UserWarning: One or more of the test scores are non-finite: [-69.03421637          nan          nan          nan -79.5904142\n",
      " -80.56685504 -69.06286866 -68.25590782          nan -68.55074552]\n",
      "  warnings.warn(\n"
     ]
    },
    {
     "data": {
      "text/plain": [
       "RandomizedSearchCV(cv=10, estimator=RandomForestRegressor(random_state=123),\n",
       "                   n_jobs=-1,\n",
       "                   param_distributions={'bootstrap': [True, False],\n",
       "                                        'max_depth': [None,\n",
       "                                                      [10, 15, 20, 25, 30, 35,\n",
       "                                                       40, 45, 50, 55, 60, 65,\n",
       "                                                       70, 75, 80, 85, 90, 95,\n",
       "                                                       100, 105, 110, 115]],\n",
       "                                        'max_features': ['auto', 'sqrt'],\n",
       "                                        'min_samples_leaf': [4, 7, 9],\n",
       "                                        'min_samples_split': [5, 8, 11, 14, 17,\n",
       "                                                              20, 23, 26, 29],\n",
       "                                        'n_estimators': [30, 31, 32, 33, 34, 35,\n",
       "                                                         36, 37, 38, 39, 40, 41,\n",
       "                                                         42, 43, 44, 45, 46, 47,\n",
       "                                                         48, 49, 50, 51, 52, 53,\n",
       "                                                         54, 55, 56, 57, 58, 59, ...]},\n",
       "                   random_state=40, scoring='neg_mean_squared_error')"
      ]
     },
     "execution_count": 53,
     "metadata": {},
     "output_type": "execute_result"
    }
   ],
   "source": [
    "# Hiperparámetros - RandomForest\n",
    "# ==========================================================================\n",
    "\n",
    "# Método de selección de muestra\n",
    "bootstrap = [True, False]\n",
    "# Niveles máximos en cada árbol\n",
    "max_depth = [None, [x for x in np.arange(10, 120, step=5)]]\n",
    "# Cantidad de características a considerar para cada división\n",
    "max_features = ['auto', 'sqrt']\n",
    "# Cantidad mínima de muestras requeridas para un nodo hoja\n",
    "min_samples_leaf = [4, 7, 9]\n",
    "# Cantidad mínimas de muestras para dividir un nodo\n",
    "min_samples_split = [x for x in np.arange(5, 30, step=3)]\n",
    "# Cantidad de árboles\n",
    "n_estimators = [x for x in np.arange(30, 500)]\n",
    "\n",
    "params = {\n",
    "    'n_estimators'      : n_estimators,\n",
    "    'max_features'      : max_features,\n",
    "    'max_depth'         : max_depth,\n",
    "    'min_samples_split' : min_samples_split,\n",
    "    'min_samples_leaf'  : min_samples_leaf,\n",
    "    'bootstrap'         : bootstrap,\n",
    "}\n",
    "\n",
    "# Búsqueda aleatoria de hiperparámetros\n",
    "random_search = RandomizedSearchCV(estimator=modelo, \n",
    "                        param_distributions=params,\n",
    "                        scoring='neg_mean_squared_error',\n",
    "                        cv=10, \n",
    "                        n_jobs=-1, \n",
    "                        random_state=40)    \n",
    "\n",
    "random_search.fit(X_train, y_train)"
   ]
  },
  {
   "cell_type": "code",
   "execution_count": 51,
   "id": "e31abb23-ec8d-4b7b-867a-b30f6a73f415",
   "metadata": {},
   "outputs": [
    {
     "data": {
      "text/plain": [
       "{'n_estimators': 235,\n",
       " 'min_samples_split': 5,\n",
       " 'min_samples_leaf': 4,\n",
       " 'max_features': 'sqrt',\n",
       " 'max_depth': None,\n",
       " 'bootstrap': True}"
      ]
     },
     "execution_count": 51,
     "metadata": {},
     "output_type": "execute_result"
    }
   ],
   "source": [
    "random_search.best_params_"
   ]
  },
  {
   "cell_type": "code",
   "execution_count": null,
   "id": "e03407b2-6dec-4787-9888-01acc4d4372a",
   "metadata": {},
   "outputs": [],
   "source": []
  }
 ],
 "metadata": {
  "kernelspec": {
   "display_name": "Python 3",
   "language": "python",
   "name": "python3"
  },
  "language_info": {
   "codemirror_mode": {
    "name": "ipython",
    "version": 3
   },
   "file_extension": ".py",
   "mimetype": "text/x-python",
   "name": "python",
   "nbconvert_exporter": "python",
   "pygments_lexer": "ipython3",
   "version": "3.8.8"
  }
 },
 "nbformat": 4,
 "nbformat_minor": 5
}
