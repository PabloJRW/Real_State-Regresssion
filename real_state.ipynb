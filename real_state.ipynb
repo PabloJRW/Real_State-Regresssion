{
 "cells": [
  {
   "cell_type": "code",
   "execution_count": 1,
   "id": "81040308-cbf3-468c-9eb8-e85ac626ba26",
   "metadata": {
    "scrolled": true
   },
   "outputs": [],
   "source": [
    "import numpy as np\n",
    "import pandas as pd\n",
    "#pd.options.display.float_format = '{:2f}'.format\n",
    "\n",
    "import matplotlib.pyplot as plt\n",
    "import seaborn as sns\n",
    "%matplotlib inline\n",
    "plt.style.use('ggplot')\n",
    "\n",
    "from sklearn.model_selection import train_test_split\n",
    "from sklearn.preprocessing import MinMaxScaler, normalize\n",
    "from sklearn.model_selection import cross_val_predict\n",
    "from sklearn.ensemble import RandomForestRegressor\n",
    "from sklearn.model_selection import cross_val_score\n",
    "from sklearn.metrics import mean_squared_error\n",
    "from sklearn.model_selection import RandomizedSearchCV, GridSearchCV\n",
    "\n",
    "from io import StringIO\n",
    "from IPython.display import Image, display\n",
    "import pydotplus"
   ]
  },
  {
   "cell_type": "code",
   "execution_count": 2,
   "id": "049f6207",
   "metadata": {},
   "outputs": [
    {
     "name": "stdout",
     "output_type": "stream",
     "text": [
      " file4k.html\t    README.md\t\t\t\t   requirements.txt\r\n",
      " img\t\t   'Real estate valuation data set.xlsx'   rstate\r\n",
      " price_by_geo.jpg   real_state.ipynb\t\t\t   tree.png\r\n"
     ]
    }
   ],
   "source": [
    "!ls"
   ]
  },
  {
   "cell_type": "code",
   "execution_count": 9,
   "id": "a78de706-7207-4537-9de9-b3a704fb162c",
   "metadata": {},
   "outputs": [],
   "source": [
    "# Carga de los datos\n",
    "data = pd.read_excel(\"Real estate valuation data set.xlsx\", parse_dates=['X1 transaction date'])\n",
    "data['X1 transaction date'] = pd.to_datetime(data['X1 transaction date'])"
   ]
  },
  {
   "cell_type": "markdown",
   "id": "64da7a26-51a1-45e3-8409-a0988e39fef8",
   "metadata": {},
   "source": [
    "## Data Preparation"
   ]
  },
  {
   "cell_type": "code",
   "execution_count": 10,
   "id": "589f2222-642e-401c-8aa8-08dbbd0357b7",
   "metadata": {},
   "outputs": [
    {
     "data": {
      "text/html": [
       "<div>\n",
       "<style scoped>\n",
       "    .dataframe tbody tr th:only-of-type {\n",
       "        vertical-align: middle;\n",
       "    }\n",
       "\n",
       "    .dataframe tbody tr th {\n",
       "        vertical-align: top;\n",
       "    }\n",
       "\n",
       "    .dataframe thead th {\n",
       "        text-align: right;\n",
       "    }\n",
       "</style>\n",
       "<table border=\"1\" class=\"dataframe\">\n",
       "  <thead>\n",
       "    <tr style=\"text-align: right;\">\n",
       "      <th></th>\n",
       "      <th>No</th>\n",
       "      <th>X1 transaction date</th>\n",
       "      <th>X2 house age</th>\n",
       "      <th>X3 distance to the nearest MRT station</th>\n",
       "      <th>X4 number of convenience stores</th>\n",
       "      <th>X5 latitude</th>\n",
       "      <th>X6 longitude</th>\n",
       "      <th>Y house price of unit area</th>\n",
       "    </tr>\n",
       "  </thead>\n",
       "  <tbody>\n",
       "    <tr>\n",
       "      <th>0</th>\n",
       "      <td>1</td>\n",
       "      <td>1970-01-01 00:00:00.000002012</td>\n",
       "      <td>32.0</td>\n",
       "      <td>84.87882</td>\n",
       "      <td>10</td>\n",
       "      <td>24.98298</td>\n",
       "      <td>121.54024</td>\n",
       "      <td>37.9</td>\n",
       "    </tr>\n",
       "    <tr>\n",
       "      <th>1</th>\n",
       "      <td>2</td>\n",
       "      <td>1970-01-01 00:00:00.000002012</td>\n",
       "      <td>19.5</td>\n",
       "      <td>306.59470</td>\n",
       "      <td>9</td>\n",
       "      <td>24.98034</td>\n",
       "      <td>121.53951</td>\n",
       "      <td>42.2</td>\n",
       "    </tr>\n",
       "    <tr>\n",
       "      <th>2</th>\n",
       "      <td>3</td>\n",
       "      <td>1970-01-01 00:00:00.000002013</td>\n",
       "      <td>13.3</td>\n",
       "      <td>561.98450</td>\n",
       "      <td>5</td>\n",
       "      <td>24.98746</td>\n",
       "      <td>121.54391</td>\n",
       "      <td>47.3</td>\n",
       "    </tr>\n",
       "    <tr>\n",
       "      <th>3</th>\n",
       "      <td>4</td>\n",
       "      <td>1970-01-01 00:00:00.000002013</td>\n",
       "      <td>13.3</td>\n",
       "      <td>561.98450</td>\n",
       "      <td>5</td>\n",
       "      <td>24.98746</td>\n",
       "      <td>121.54391</td>\n",
       "      <td>54.8</td>\n",
       "    </tr>\n",
       "    <tr>\n",
       "      <th>4</th>\n",
       "      <td>5</td>\n",
       "      <td>1970-01-01 00:00:00.000002012</td>\n",
       "      <td>5.0</td>\n",
       "      <td>390.56840</td>\n",
       "      <td>5</td>\n",
       "      <td>24.97937</td>\n",
       "      <td>121.54245</td>\n",
       "      <td>43.1</td>\n",
       "    </tr>\n",
       "  </tbody>\n",
       "</table>\n",
       "</div>"
      ],
      "text/plain": [
       "   No           X1 transaction date  X2 house age  \\\n",
       "0   1 1970-01-01 00:00:00.000002012          32.0   \n",
       "1   2 1970-01-01 00:00:00.000002012          19.5   \n",
       "2   3 1970-01-01 00:00:00.000002013          13.3   \n",
       "3   4 1970-01-01 00:00:00.000002013          13.3   \n",
       "4   5 1970-01-01 00:00:00.000002012           5.0   \n",
       "\n",
       "   X3 distance to the nearest MRT station  X4 number of convenience stores  \\\n",
       "0                                84.87882                               10   \n",
       "1                               306.59470                                9   \n",
       "2                               561.98450                                5   \n",
       "3                               561.98450                                5   \n",
       "4                               390.56840                                5   \n",
       "\n",
       "   X5 latitude  X6 longitude  Y house price of unit area  \n",
       "0     24.98298     121.54024                        37.9  \n",
       "1     24.98034     121.53951                        42.2  \n",
       "2     24.98746     121.54391                        47.3  \n",
       "3     24.98746     121.54391                        54.8  \n",
       "4     24.97937     121.54245                        43.1  "
      ]
     },
     "execution_count": 10,
     "metadata": {},
     "output_type": "execute_result"
    }
   ],
   "source": [
    "data.head()"
   ]
  },
  {
   "cell_type": "code",
   "execution_count": 11,
   "id": "21013202-1653-4cf2-b58b-00a8f455b994",
   "metadata": {},
   "outputs": [],
   "source": [
    "# Renaming columns\n",
    "data.columns = ['no','transaction_date','house_age','distance_to_station','n_stores','latitude','longitude','price']\n",
    "\n",
    "# Dropping column 'no'\n",
    "data.drop('no', axis=1, inplace=True)"
   ]
  },
  {
   "cell_type": "markdown",
   "id": "862c3d67-0384-447e-973e-67d6624a9abd",
   "metadata": {},
   "source": [
    "## Exploratory Data Analysis"
   ]
  },
  {
   "cell_type": "code",
   "execution_count": 12,
   "id": "15faa36e-88e8-4d74-8b06-4a7d9703cb7e",
   "metadata": {},
   "outputs": [
    {
     "name": "stdout",
     "output_type": "stream",
     "text": [
      "<class 'pandas.core.frame.DataFrame'>\n",
      "RangeIndex: 414 entries, 0 to 413\n",
      "Data columns (total 7 columns):\n",
      " #   Column               Non-Null Count  Dtype         \n",
      "---  ------               --------------  -----         \n",
      " 0   transaction_date     414 non-null    datetime64[ns]\n",
      " 1   house_age            414 non-null    float64       \n",
      " 2   distance_to_station  414 non-null    float64       \n",
      " 3   n_stores             414 non-null    int64         \n",
      " 4   latitude             414 non-null    float64       \n",
      " 5   longitude            414 non-null    float64       \n",
      " 6   price                414 non-null    float64       \n",
      "dtypes: datetime64[ns](1), float64(5), int64(1)\n",
      "memory usage: 22.8 KB\n"
     ]
    }
   ],
   "source": [
    "# Infromación de los datos\n",
    "data.info()"
   ]
  },
  {
   "cell_type": "code",
   "execution_count": 13,
   "id": "4340f76e-36c6-4f9d-8da7-0966dff81527",
   "metadata": {},
   "outputs": [
    {
     "data": {
      "text/plain": [
       "transaction_date         2\n",
       "house_age              236\n",
       "distance_to_station    259\n",
       "n_stores                11\n",
       "latitude               234\n",
       "longitude              232\n",
       "price                  270\n",
       "dtype: int64"
      ]
     },
     "execution_count": 13,
     "metadata": {},
     "output_type": "execute_result"
    }
   ],
   "source": [
    "# Valores únicos por variable\n",
    "data.nunique()"
   ]
  },
  {
   "cell_type": "code",
   "execution_count": 14,
   "id": "57104aa4-6006-4490-923f-f21a28482d74",
   "metadata": {},
   "outputs": [],
   "source": [
    "# 'transaction_date' review\n",
    "print(data['transaction_date'].unique())\n",
    "\n",
    "# Borrado de la variable \"transaction_date\"\n",
    "data.drop('transaction_date', axis=1, inplace=True)"
   ]
  },
  {
   "cell_type": "markdown",
   "id": "b4bdcf66-7dc4-4a36-b8b1-36168304bda9",
   "metadata": {},
   "source": [
    "### Distribution of price"
   ]
  },
  {
   "cell_type": "code",
   "execution_count": 17,
   "id": "6e1b9e62-b1f4-4012-8252-aa01f5648234",
   "metadata": {},
   "outputs": [
    {
     "data": {
      "image/png": "[encoded data removed]",
      "text/plain": [
       "<Figure size 648x432 with 1 Axes>"
      ]
     },
     "metadata": {},
     "output_type": "display_data"
    }
   ],
   "source": [
    "# Distribución de precios\n",
    "fig, ax =plt.subplots(figsize=(9,6))\n",
    "plt.title('Distribución de precio de casas')\n",
    "ax = sns.histplot(data.price, bins=50)\n",
    "ax.set_xlabel('Precios de viviendas')\n",
    "plt.show()"
   ]
  },
  {
   "cell_type": "code",
   "execution_count": 28,
   "id": "b8b3ca3a-aec4-4425-a17b-ff54fd963e26",
   "metadata": {},
   "outputs": [],
   "source": [
    "# Conversión logarítmica de los precios\n",
    "def log_transformer(arr):\n",
    "    return np.log1p(arr)\n",
    "\n",
    "data['price_log'] = log_transformer(data['price'])"
   ]
  },
  {
   "cell_type": "code",
   "execution_count": 30,
   "id": "b9ac95d5-6f96-4b6f-bc7d-8bd8480d7303",
   "metadata": {},
   "outputs": [
    {
     "data": {
      "image/png": "[encoded data removed]",
      "text/plain": [
       "<Figure size 648x432 with 1 Axes>"
      ]
     },
     "metadata": {},
     "output_type": "display_data"
    }
   ],
   "source": [
    "# LogNormal price distribution\n",
    "fig, ax =plt.subplots(figsize=(9,6))\n",
    "plt.title('Distribución logarítmica de Precios')\n",
    "sns.histplot(data['price_log'], bins=50)\n",
    "ax.set_xlabel('Precios Log de Viviendas')\n",
    "plt.show()"
   ]
  },
  {
   "cell_type": "markdown",
   "id": "b1a2569e-9695-4376-ad11-8d947a1ca3fa",
   "metadata": {},
   "source": [
    "### Valores Nulos"
   ]
  },
  {
   "cell_type": "code",
   "execution_count": 12,
   "id": "c46aa934-e649-4e4f-96a3-ac79189b235b",
   "metadata": {},
   "outputs": [
    {
     "data": {
      "text/plain": [
       "house_age              0\n",
       "distance_to_station    0\n",
       "n_stores               0\n",
       "latitude               0\n",
       "longitude              0\n",
       "price_logs             0\n",
       "dtype: int64"
      ]
     },
     "execution_count": 12,
     "metadata": {},
     "output_type": "execute_result"
    }
   ],
   "source": [
    "data.isnull().sum()"
   ]
  },
  {
   "cell_type": "markdown",
   "id": "34d638ba-14da-4530-91d8-08bdb9e8d3fe",
   "metadata": {},
   "source": [
    "### Visualización de datos geográficos"
   ]
  },
  {
   "cell_type": "markdown",
   "id": "79a3cd02-60d2-40a0-839b-b2f04d2bf71a",
   "metadata": {},
   "source": [
    "Contamos con datos geográficos(longitud, latitud). Los visualizamos para buscar patrones.  \n"
   ]
  },
  {
   "cell_type": "code",
   "execution_count": 13,
   "id": "083872f0-57d9-4b6c-a18a-5b19dab5ea6c",
   "metadata": {},
   "outputs": [
    {
     "data": {
      "image/png": "[encoded data removed]",
      "text/plain": [
       "<Figure size 648x432 with 2 Axes>"
      ]
     },
     "metadata": {},
     "output_type": "display_data"
    }
   ],
   "source": [
    "# By price\n",
    "fig, ax = plt.subplots(1,1)\n",
    "data.plot(kind='scatter', x='longitude', y='latitude', alpha=.3,\n",
    "          s=data['price_logs']*5,c=data['price_logs'], cmap=plt.get_cmap('jet'), colorbar=True,\n",
    "          ax=ax, figsize=(9,6))\n",
    "plt.savefig('img/price_by_geo.jpg')"
   ]
  },
  {
   "cell_type": "markdown",
   "id": "a095e514-f858-41e1-84c7-d2dd88e1e9b6",
   "metadata": {},
   "source": [
    "Podemos observar que existe un área donde se concentran una gran cantidad de viviendas con precios medios-altos, sin embargo, en esta área se puede observar que hay instancias con valores bajos. Las vivivendas de precios más bajos, se encuentran dispersas, por lo general, alejadas del área anteriormente mencionada. "
   ]
  },
  {
   "cell_type": "code",
   "execution_count": 50,
   "id": "cff28b48",
   "metadata": {},
   "outputs": [
    {
     "ename": "NameError",
     "evalue": "name 'plt' is not defined",
     "output_type": "error",
     "traceback": [
      "\u001b[0;31m---------------------------------------------------------------------------\u001b[0m",
      "\u001b[0;31mNameError\u001b[0m                                 Traceback (most recent call last)",
      "\u001b[0;32m/tmp/ipykernel_7983/2112328975.py\u001b[0m in \u001b[0;36m<module>\u001b[0;34m\u001b[0m\n\u001b[1;32m      1\u001b[0m \u001b[0;32mimport\u001b[0m \u001b[0mrstate_functions\u001b[0m\u001b[0;34m\u001b[0m\u001b[0;34m\u001b[0m\u001b[0m\n\u001b[0;32m----> 2\u001b[0;31m \u001b[0mrstate_functions\u001b[0m\u001b[0;34m.\u001b[0m\u001b[0mdistPlotter\u001b[0m\u001b[0;34m(\u001b[0m\u001b[0mdata\u001b[0m\u001b[0;34m)\u001b[0m\u001b[0;34m\u001b[0m\u001b[0;34m\u001b[0m\u001b[0m\n\u001b[0m",
      "\u001b[0;32m~/Documentos/DATA SCIENCE/Projects/Portafolio/real_state/rstate_functions.py\u001b[0m in \u001b[0;36mdistPlotter\u001b[0;34m(df)\u001b[0m\n\u001b[1;32m      9\u001b[0m     \u001b[0mcolumnas_numeric\u001b[0m \u001b[0;34m=\u001b[0m \u001b[0mdf\u001b[0m\u001b[0;34m.\u001b[0m\u001b[0mselect_dtypes\u001b[0m\u001b[0;34m(\u001b[0m\u001b[0minclude\u001b[0m\u001b[0;34m=\u001b[0m\u001b[0;34m[\u001b[0m\u001b[0;34m'float64'\u001b[0m\u001b[0;34m,\u001b[0m \u001b[0;34m'int'\u001b[0m\u001b[0;34m]\u001b[0m\u001b[0;34m)\u001b[0m\u001b[0;34m.\u001b[0m\u001b[0mcolumns\u001b[0m\u001b[0;34m\u001b[0m\u001b[0;34m\u001b[0m\u001b[0m\n\u001b[1;32m     10\u001b[0m     \u001b[0mn_cols\u001b[0m \u001b[0;34m=\u001b[0m \u001b[0mdf\u001b[0m\u001b[0;34m.\u001b[0m\u001b[0mshape\u001b[0m\u001b[0;34m[\u001b[0m\u001b[0;36m1\u001b[0m\u001b[0;34m]\u001b[0m\u001b[0;34m\u001b[0m\u001b[0;34m\u001b[0m\u001b[0m\n\u001b[0;32m---> 11\u001b[0;31m \u001b[0;34m\u001b[0m\u001b[0m\n\u001b[0m\u001b[1;32m     12\u001b[0m     \u001b[0mfig\u001b[0m\u001b[0;34m,\u001b[0m \u001b[0maxes\u001b[0m \u001b[0;34m=\u001b[0m \u001b[0mplt\u001b[0m\u001b[0;34m.\u001b[0m\u001b[0msubplots\u001b[0m\u001b[0;34m(\u001b[0m\u001b[0mnrows\u001b[0m\u001b[0;34m=\u001b[0m\u001b[0;36m2\u001b[0m\u001b[0;34m,\u001b[0m \u001b[0mncols\u001b[0m\u001b[0;34m=\u001b[0m\u001b[0;36m3\u001b[0m\u001b[0;34m,\u001b[0m \u001b[0mfigsize\u001b[0m\u001b[0;34m=\u001b[0m\u001b[0;34m(\u001b[0m\u001b[0;36m15\u001b[0m\u001b[0;34m,\u001b[0m \u001b[0;36m6\u001b[0m\u001b[0;34m)\u001b[0m\u001b[0;34m)\u001b[0m\u001b[0;34m\u001b[0m\u001b[0;34m\u001b[0m\u001b[0m\n\u001b[1;32m     13\u001b[0m     \u001b[0maxes\u001b[0m \u001b[0;34m=\u001b[0m \u001b[0maxes\u001b[0m\u001b[0;34m.\u001b[0m\u001b[0mflat\u001b[0m\u001b[0;34m\u001b[0m\u001b[0;34m\u001b[0m\u001b[0m\n",
      "\u001b[0;31mNameError\u001b[0m: name 'plt' is not defined"
     ]
    }
   ],
   "source": [
    "import rstate_functions\n",
    "rstate_functions.distPlotter(data)"
   ]
  },
  {
   "cell_type": "code",
   "execution_count": 48,
   "id": "facd96d2",
   "metadata": {},
   "outputs": [
    {
     "name": "stdout",
     "output_type": "stream",
     "text": [
      " file4k.html\t    README.md\t\t\t\t   rstate\r\n",
      " img\t\t   'Real estate valuation data set.xlsx'   rstate_functions.py\r\n",
      " price_by_geo.jpg   real_state.ipynb\t\t\t   tree.png\r\n",
      " __pycache__\t    requirements.txt\r\n"
     ]
    }
   ],
   "source": [
    "!ls"
   ]
  },
  {
   "cell_type": "markdown",
   "id": "40723cf6-5084-4208-93dc-b18784190a0b",
   "metadata": {},
   "source": [
    "### Correlaciones"
   ]
  },
  {
   "cell_type": "code",
   "execution_count": 31,
   "id": "f8e65f84-b9c5-481b-ac29-98b1c6e75e92",
   "metadata": {},
   "outputs": [
    {
     "data": {
      "text/plain": [
       "distance_to_station   -0.775948\n",
       "house_age             -0.281753\n",
       "longitude              0.437672\n",
       "latitude               0.578419\n",
       "n_stores               0.617333\n",
       "price                  1.000000\n",
       "price_log              1.000000\n",
       "Name: price_log, dtype: float64"
      ]
     },
     "execution_count": 31,
     "metadata": {},
     "output_type": "execute_result"
    }
   ],
   "source": [
    "# Matriz de correlación - Rangos de Spearman\n",
    "corr_matrix = data.corr(method='spearman')\n",
    "# Correlaciones con respecto al precio de viviendas\n",
    "corr_matrix['price_log'].sort_values()"
   ]
  },
  {
   "cell_type": "code",
   "execution_count": 32,
   "id": "640b9719",
   "metadata": {},
   "outputs": [
    {
     "data": {
      "text/plain": [
       "Index(['house_age', 'distance_to_station', 'n_stores', 'latitude', 'longitude',\n",
       "       'price', 'price_log'],\n",
       "      dtype='object')"
      ]
     },
     "execution_count": 32,
     "metadata": {},
     "output_type": "execute_result"
    }
   ],
   "source": [
    "data.columns"
   ]
  },
  {
   "cell_type": "markdown",
   "id": "6cb61588-65ce-4fdc-b2f5-8b7cf9d889aa",
   "metadata": {},
   "source": [
    "## <b>Modelo"
   ]
  },
  {
   "cell_type": "code",
   "execution_count": 36,
   "id": "53b93f27-dfb9-4d45-9ea4-a2ca19e1055e",
   "metadata": {
    "tags": []
   },
   "outputs": [
    {
     "data": {
      "text/html": [
       "<div>\n",
       "<style scoped>\n",
       "    .dataframe tbody tr th:only-of-type {\n",
       "        vertical-align: middle;\n",
       "    }\n",
       "\n",
       "    .dataframe tbody tr th {\n",
       "        vertical-align: top;\n",
       "    }\n",
       "\n",
       "    .dataframe thead th {\n",
       "        text-align: right;\n",
       "    }\n",
       "</style>\n",
       "<table border=\"1\" class=\"dataframe\">\n",
       "  <thead>\n",
       "    <tr style=\"text-align: right;\">\n",
       "      <th></th>\n",
       "      <th>house_age</th>\n",
       "      <th>distance_to_station</th>\n",
       "      <th>n_stores</th>\n",
       "      <th>latitude</th>\n",
       "      <th>longitude</th>\n",
       "      <th>price</th>\n",
       "      <th>price_log</th>\n",
       "    </tr>\n",
       "  </thead>\n",
       "  <tbody>\n",
       "    <tr>\n",
       "      <th>0</th>\n",
       "      <td>32.0</td>\n",
       "      <td>84.87882</td>\n",
       "      <td>10</td>\n",
       "      <td>24.98298</td>\n",
       "      <td>121.54024</td>\n",
       "      <td>37.9</td>\n",
       "      <td>3.660994</td>\n",
       "    </tr>\n",
       "    <tr>\n",
       "      <th>1</th>\n",
       "      <td>19.5</td>\n",
       "      <td>306.59470</td>\n",
       "      <td>9</td>\n",
       "      <td>24.98034</td>\n",
       "      <td>121.53951</td>\n",
       "      <td>42.2</td>\n",
       "      <td>3.765840</td>\n",
       "    </tr>\n",
       "    <tr>\n",
       "      <th>2</th>\n",
       "      <td>13.3</td>\n",
       "      <td>561.98450</td>\n",
       "      <td>5</td>\n",
       "      <td>24.98746</td>\n",
       "      <td>121.54391</td>\n",
       "      <td>47.3</td>\n",
       "      <td>3.877432</td>\n",
       "    </tr>\n",
       "    <tr>\n",
       "      <th>3</th>\n",
       "      <td>13.3</td>\n",
       "      <td>561.98450</td>\n",
       "      <td>5</td>\n",
       "      <td>24.98746</td>\n",
       "      <td>121.54391</td>\n",
       "      <td>54.8</td>\n",
       "      <td>4.021774</td>\n",
       "    </tr>\n",
       "    <tr>\n",
       "      <th>4</th>\n",
       "      <td>5.0</td>\n",
       "      <td>390.56840</td>\n",
       "      <td>5</td>\n",
       "      <td>24.97937</td>\n",
       "      <td>121.54245</td>\n",
       "      <td>43.1</td>\n",
       "      <td>3.786460</td>\n",
       "    </tr>\n",
       "  </tbody>\n",
       "</table>\n",
       "</div>"
      ],
      "text/plain": [
       "   house_age  distance_to_station  n_stores  latitude  longitude  price  \\\n",
       "0       32.0             84.87882        10  24.98298  121.54024   37.9   \n",
       "1       19.5            306.59470         9  24.98034  121.53951   42.2   \n",
       "2       13.3            561.98450         5  24.98746  121.54391   47.3   \n",
       "3       13.3            561.98450         5  24.98746  121.54391   54.8   \n",
       "4        5.0            390.56840         5  24.97937  121.54245   43.1   \n",
       "\n",
       "   price_log  \n",
       "0   3.660994  \n",
       "1   3.765840  \n",
       "2   3.877432  \n",
       "3   4.021774  \n",
       "4   3.786460  "
      ]
     },
     "execution_count": 36,
     "metadata": {},
     "output_type": "execute_result"
    }
   ],
   "source": [
    "# Datos de entrada al modelo\n",
    "# ================================================================\n",
    "features = ['house_age', 'distance_to_station', 'n_stores', 'latitude', 'longitude']\n",
    "X = data\n",
    "y = data['price_log']\n",
    "X.head(5)"
   ]
  },
  {
   "cell_type": "code",
   "execution_count": 37,
   "id": "19de83c6-245b-4d21-b001-e100056d6529",
   "metadata": {
    "tags": []
   },
   "outputs": [],
   "source": [
    "# División de los datos en datos de entrenamiento y prueba\n",
    "# 80% datos de entrenamiento              \n",
    "# 20% datos de prueba\n",
    "X_train, X_test, y_train, y_test = train_test_split(X, y, random_state=23, test_size=.2)"
   ]
  },
  {
   "cell_type": "markdown",
   "id": "edd865ba-aceb-4d3e-9942-f87b7cfd1ce3",
   "metadata": {},
   "source": [
    "### Randon Forest (Bosque Aleatorio)"
   ]
  },
  {
   "cell_type": "markdown",
   "id": "91cd9f40-b2f5-41f4-9798-cb2ccd97898d",
   "metadata": {},
   "source": [
    "Algoritmo de Bosque Aleatorio (Regresión) con parámetros por defecto."
   ]
  },
  {
   "cell_type": "code",
   "execution_count": 38,
   "id": "0a24730d-01c2-4464-b22c-6b2ae2851a14",
   "metadata": {},
   "outputs": [
    {
     "data": {
      "text/plain": [
       "RandomForestRegressor(random_state=0)"
      ]
     },
     "execution_count": 38,
     "metadata": {},
     "output_type": "execute_result"
    }
   ],
   "source": [
    "# Regresor de Bosque Aleatorio\n",
    "# Entrenamiento del modelo\n",
    "# =====================================================================\n",
    "rf_reg = RandomForestRegressor(random_state=0)\n",
    "rf_reg.fit(X_train, y_train)"
   ]
  },
  {
   "cell_type": "code",
   "execution_count": 40,
   "id": "339ee31d-d0e8-4b4a-83fe-fe3ce812ba5a",
   "metadata": {},
   "outputs": [
    {
     "name": "stdout",
     "output_type": "stream",
     "text": [
      "Importancia de los predictores en el modelo\n",
      "-------------------------------------------\n"
     ]
    },
    {
     "data": {
      "text/html": [
       "<div>\n",
       "<style scoped>\n",
       "    .dataframe tbody tr th:only-of-type {\n",
       "        vertical-align: middle;\n",
       "    }\n",
       "\n",
       "    .dataframe tbody tr th {\n",
       "        vertical-align: top;\n",
       "    }\n",
       "\n",
       "    .dataframe thead th {\n",
       "        text-align: right;\n",
       "    }\n",
       "</style>\n",
       "<table border=\"1\" class=\"dataframe\">\n",
       "  <thead>\n",
       "    <tr style=\"text-align: right;\">\n",
       "      <th></th>\n",
       "      <th>predictor</th>\n",
       "      <th>importancia</th>\n",
       "    </tr>\n",
       "  </thead>\n",
       "  <tbody>\n",
       "    <tr>\n",
       "      <th>5</th>\n",
       "      <td>price</td>\n",
       "      <td>0.541595</td>\n",
       "    </tr>\n",
       "    <tr>\n",
       "      <th>6</th>\n",
       "      <td>price_log</td>\n",
       "      <td>0.453728</td>\n",
       "    </tr>\n",
       "    <tr>\n",
       "      <th>4</th>\n",
       "      <td>longitude</td>\n",
       "      <td>0.001828</td>\n",
       "    </tr>\n",
       "    <tr>\n",
       "      <th>2</th>\n",
       "      <td>n_stores</td>\n",
       "      <td>0.001651</td>\n",
       "    </tr>\n",
       "    <tr>\n",
       "      <th>1</th>\n",
       "      <td>distance_to_station</td>\n",
       "      <td>0.000458</td>\n",
       "    </tr>\n",
       "    <tr>\n",
       "      <th>3</th>\n",
       "      <td>latitude</td>\n",
       "      <td>0.000432</td>\n",
       "    </tr>\n",
       "    <tr>\n",
       "      <th>0</th>\n",
       "      <td>house_age</td>\n",
       "      <td>0.000307</td>\n",
       "    </tr>\n",
       "  </tbody>\n",
       "</table>\n",
       "</div>"
      ],
      "text/plain": [
       "             predictor  importancia\n",
       "5                price     0.541595\n",
       "6            price_log     0.453728\n",
       "4            longitude     0.001828\n",
       "2             n_stores     0.001651\n",
       "1  distance_to_station     0.000458\n",
       "3             latitude     0.000432\n",
       "0            house_age     0.000307"
      ]
     },
     "execution_count": 40,
     "metadata": {},
     "output_type": "execute_result"
    }
   ],
   "source": [
    "importancia_predictores = pd.DataFrame(\n",
    "                            {'predictor': data.columns,\n",
    "                             'importancia': rf_reg.feature_importances_}\n",
    "                            )\n",
    "print(\"Importancia de los predictores en el modelo\")\n",
    "print(\"-------------------------------------------\")\n",
    "importancia_predictores.sort_values('importancia', ascending=False)"
   ]
  },
  {
   "cell_type": "markdown",
   "id": "488c00d6-fdd2-495c-b395-3e5f4d1f92aa",
   "metadata": {},
   "source": [
    "### Cross_validation (Validación Cruzada) - 10 k-folds"
   ]
  },
  {
   "cell_type": "code",
   "execution_count": 42,
   "id": "2ef49b97-d540-499c-829b-a1998c1307de",
   "metadata": {},
   "outputs": [
    {
     "name": "stdout",
     "output_type": "stream",
     "text": [
      "RMSE de los 10 k-folds:\n",
      "[0.00610473 0.00738255 0.07886605 0.00511256 0.07049975 0.0083909\n",
      " 0.00400301 0.01196851 0.00859624 0.01032154]\n",
      "\n",
      "RMSE promedio: 0.02, desviación: 0.03\n"
     ]
    }
   ],
   "source": [
    "# Validación cruzada de 10 plieges\n",
    "# =====================================================================\n",
    "y_preds = cross_val_score(rf_reg, X_train, y_train,\n",
    "                         scoring='neg_mean_squared_error', cv=10)\n",
    "rf_rmse = np.sqrt(-y_preds)\n",
    "print('RMSE de los 10 k-folds:')\n",
    "print(rf_rmse)\n",
    "print()\n",
    "rf_rmse_mean = round(np.mean(rf_rmse),2)\n",
    "rf_rmse_std = round(np.std(rf_rmse),2)\n",
    "print(f'RMSE promedio: {rf_rmse_mean}, desviación: {rf_rmse_std}')"
   ]
  },
  {
   "cell_type": "markdown",
   "id": "28c2ff18-e021-4520-8b12-a68fc06edf3f",
   "metadata": {},
   "source": [
    "### Ajuste del modelo"
   ]
  },
  {
   "cell_type": "code",
   "execution_count": 43,
   "id": "e83a3f34-f3c7-4dda-9627-57220fde10a7",
   "metadata": {},
   "outputs": [
    {
     "data": {
      "text/plain": [
       "{'bootstrap': True,\n",
       " 'ccp_alpha': 0.0,\n",
       " 'criterion': 'mse',\n",
       " 'max_depth': None,\n",
       " 'max_features': 'auto',\n",
       " 'max_leaf_nodes': None,\n",
       " 'max_samples': None,\n",
       " 'min_impurity_decrease': 0.0,\n",
       " 'min_impurity_split': None,\n",
       " 'min_samples_leaf': 1,\n",
       " 'min_samples_split': 2,\n",
       " 'min_weight_fraction_leaf': 0.0,\n",
       " 'n_estimators': 100,\n",
       " 'n_jobs': None,\n",
       " 'oob_score': False,\n",
       " 'random_state': 0,\n",
       " 'verbose': 0,\n",
       " 'warm_start': False}"
      ]
     },
     "execution_count": 43,
     "metadata": {},
     "output_type": "execute_result"
    }
   ],
   "source": [
    "# Parámetros del modelo - Random Forest\n",
    "rf_reg.get_params()"
   ]
  },
  {
   "cell_type": "code",
   "execution_count": 21,
   "id": "f045a5c8-eadd-419f-9fb5-6bd10c5aea0d",
   "metadata": {},
   "outputs": [
    {
     "name": "stderr",
     "output_type": "stream",
     "text": [
      "/home/pablo/anaconda3/envs/venv/lib/python3.9/site-packages/sklearn/model_selection/_validation.py:372: FitFailedWarning: \n",
      "20 fits failed out of a total of 100.\n",
      "The score on these train-test partitions for these parameters will be set to nan.\n",
      "If these failures are not expected, you can try to debug them by setting error_score='raise'.\n",
      "\n",
      "Below are more details about the failures:\n",
      "--------------------------------------------------------------------------------\n",
      "10 fits failed with the following error:\n",
      "Traceback (most recent call last):\n",
      "  File \"/home/pablo/anaconda3/envs/venv/lib/python3.9/site-packages/sklearn/model_selection/_validation.py\", line 680, in _fit_and_score\n",
      "    estimator.fit(X_train, y_train, **fit_params)\n",
      "  File \"/home/pablo/anaconda3/envs/venv/lib/python3.9/site-packages/sklearn/ensemble/_forest.py\", line 450, in fit\n",
      "    trees = Parallel(\n",
      "  File \"/home/pablo/anaconda3/envs/venv/lib/python3.9/site-packages/joblib/parallel.py\", line 1043, in __call__\n",
      "    if self.dispatch_one_batch(iterator):\n",
      "  File \"/home/pablo/anaconda3/envs/venv/lib/python3.9/site-packages/joblib/parallel.py\", line 861, in dispatch_one_batch\n",
      "    self._dispatch(tasks)\n",
      "  File \"/home/pablo/anaconda3/envs/venv/lib/python3.9/site-packages/joblib/parallel.py\", line 779, in _dispatch\n",
      "    job = self._backend.apply_async(batch, callback=cb)\n",
      "  File \"/home/pablo/anaconda3/envs/venv/lib/python3.9/site-packages/joblib/_parallel_backends.py\", line 208, in apply_async\n",
      "    result = ImmediateResult(func)\n",
      "  File \"/home/pablo/anaconda3/envs/venv/lib/python3.9/site-packages/joblib/_parallel_backends.py\", line 572, in __init__\n",
      "    self.results = batch()\n",
      "  File \"/home/pablo/anaconda3/envs/venv/lib/python3.9/site-packages/joblib/parallel.py\", line 262, in __call__\n",
      "    return [func(*args, **kwargs)\n",
      "  File \"/home/pablo/anaconda3/envs/venv/lib/python3.9/site-packages/joblib/parallel.py\", line 262, in <listcomp>\n",
      "    return [func(*args, **kwargs)\n",
      "  File \"/home/pablo/anaconda3/envs/venv/lib/python3.9/site-packages/sklearn/utils/fixes.py\", line 216, in __call__\n",
      "    return self.function(*args, **kwargs)\n",
      "  File \"/home/pablo/anaconda3/envs/venv/lib/python3.9/site-packages/sklearn/ensemble/_forest.py\", line 185, in _parallel_build_trees\n",
      "    tree.fit(X, y, sample_weight=curr_sample_weight, check_input=False)\n",
      "  File \"/home/pablo/anaconda3/envs/venv/lib/python3.9/site-packages/sklearn/tree/_classes.py\", line 1315, in fit\n",
      "    super().fit(\n",
      "  File \"/home/pablo/anaconda3/envs/venv/lib/python3.9/site-packages/sklearn/tree/_classes.py\", line 250, in fit\n",
      "    raise ValueError(\n",
      "ValueError: min_samples_split must be an integer greater than 1 or a float in (0.0, 1.0]; got the integer 0\n",
      "\n",
      "--------------------------------------------------------------------------------\n",
      "10 fits failed with the following error:\n",
      "Traceback (most recent call last):\n",
      "  File \"/home/pablo/anaconda3/envs/venv/lib/python3.9/site-packages/sklearn/model_selection/_validation.py\", line 680, in _fit_and_score\n",
      "    estimator.fit(X_train, y_train, **fit_params)\n",
      "  File \"/home/pablo/anaconda3/envs/venv/lib/python3.9/site-packages/sklearn/ensemble/_forest.py\", line 450, in fit\n",
      "    trees = Parallel(\n",
      "  File \"/home/pablo/anaconda3/envs/venv/lib/python3.9/site-packages/joblib/parallel.py\", line 1043, in __call__\n",
      "    if self.dispatch_one_batch(iterator):\n",
      "  File \"/home/pablo/anaconda3/envs/venv/lib/python3.9/site-packages/joblib/parallel.py\", line 861, in dispatch_one_batch\n",
      "    self._dispatch(tasks)\n",
      "  File \"/home/pablo/anaconda3/envs/venv/lib/python3.9/site-packages/joblib/parallel.py\", line 779, in _dispatch\n",
      "    job = self._backend.apply_async(batch, callback=cb)\n",
      "  File \"/home/pablo/anaconda3/envs/venv/lib/python3.9/site-packages/joblib/_parallel_backends.py\", line 208, in apply_async\n",
      "    result = ImmediateResult(func)\n",
      "  File \"/home/pablo/anaconda3/envs/venv/lib/python3.9/site-packages/joblib/_parallel_backends.py\", line 572, in __init__\n",
      "    self.results = batch()\n",
      "  File \"/home/pablo/anaconda3/envs/venv/lib/python3.9/site-packages/joblib/parallel.py\", line 262, in __call__\n",
      "    return [func(*args, **kwargs)\n",
      "  File \"/home/pablo/anaconda3/envs/venv/lib/python3.9/site-packages/joblib/parallel.py\", line 262, in <listcomp>\n",
      "    return [func(*args, **kwargs)\n",
      "  File \"/home/pablo/anaconda3/envs/venv/lib/python3.9/site-packages/sklearn/utils/fixes.py\", line 216, in __call__\n",
      "    return self.function(*args, **kwargs)\n",
      "  File \"/home/pablo/anaconda3/envs/venv/lib/python3.9/site-packages/sklearn/ensemble/_forest.py\", line 185, in _parallel_build_trees\n",
      "    tree.fit(X, y, sample_weight=curr_sample_weight, check_input=False)\n",
      "  File \"/home/pablo/anaconda3/envs/venv/lib/python3.9/site-packages/sklearn/tree/_classes.py\", line 1315, in fit\n",
      "    super().fit(\n",
      "  File \"/home/pablo/anaconda3/envs/venv/lib/python3.9/site-packages/sklearn/tree/_classes.py\", line 235, in fit\n",
      "    raise ValueError(\n",
      "ValueError: min_samples_leaf must be at least 1 or in (0, 0.5], got 0\n",
      "\n",
      "  warnings.warn(some_fits_failed_message, FitFailedWarning)\n",
      "/home/pablo/anaconda3/envs/venv/lib/python3.9/site-packages/sklearn/model_selection/_search.py:969: UserWarning: One or more of the test scores are non-finite: [-0.04988668 -0.04829933 -0.03953373 -0.04740426         nan -0.04684211\n",
      " -0.04951509 -0.04025917 -0.04115372         nan]\n",
      "  warnings.warn(\n"
     ]
    },
    {
     "data": {
      "text/plain": [
       "RandomizedSearchCV(cv=10, estimator=RandomForestRegressor(random_state=34),\n",
       "                   n_jobs=-1,\n",
       "                   param_distributions={'bootstrap': [True, False],\n",
       "                                        'max_depth': [10, 20, 30, 40, 50, 60,\n",
       "                                                      70, 80, 90, 100, 110, 120,\n",
       "                                                      130, 140],\n",
       "                                        'max_features': ['auto', 'sqrt'],\n",
       "                                        'min_samples_leaf': [0, 5, 10, 15, 20,\n",
       "                                                             25],\n",
       "                                        'min_samples_split': [0, 5, 10, 15, 20,\n",
       "                                                              25],\n",
       "                                        'n_estimators': [30, 55, 80, 105, 130,\n",
       "                                                         155, 180, 205, 230,\n",
       "                                                         255, 280, 305, 330,\n",
       "                                                         355, 380, 405, 430,\n",
       "                                                         455, 480]},\n",
       "                   random_state=40, scoring='neg_mean_squared_error')"
      ]
     },
     "execution_count": 21,
     "metadata": {},
     "output_type": "execute_result"
    }
   ],
   "source": [
    "# Hiperparámetros - RandomForest\n",
    "# ==========================================================================\n",
    "\n",
    "# Método de selección de muestra\n",
    "bootstrap = [True, False]\n",
    "# Niveles máximos en cada árbol\n",
    "max_depth = [x for x in np.arange(10, 150, step=10)]\n",
    "# Cantidad de características a considerar para cada división\n",
    "max_features = ['auto', 'sqrt']\n",
    "# Cantidad mínima de muestras requeridas para un nodo hoja\n",
    "min_samples_leaf = [x for x in np.arange(0, 30, step=5)]\n",
    "# Cantidad mínimas de muestras para dividir un nodo\n",
    "min_samples_split = [x for x in np.arange(0, 30, step=5)]\n",
    "# Cantidad de árboles\n",
    "n_estimators = [x for x in np.arange(30, 500, step=25)]\n",
    "\n",
    "param_distributions = {\n",
    "    'bootstrap'         : bootstrap,\n",
    "    'max_depth'         : max_depth,\n",
    "    'max_features'      : max_features,\n",
    "    'min_samples_leaf'  : min_samples_leaf,\n",
    "    'min_samples_split' : min_samples_split,\n",
    "    'n_estimators'      : n_estimators,\n",
    "}\n",
    "\n",
    "# Búsqueda aleatoria de hiperparámetros\n",
    "random_search = RandomizedSearchCV(estimator=rf_reg, \n",
    "                        param_distributions=param_distributions,\n",
    "                        scoring='neg_mean_squared_error',\n",
    "                        cv=10, \n",
    "                        n_jobs=-1, \n",
    "                        random_state=40)    \n",
    "\n",
    "random_search.fit(X_train, y_train)"
   ]
  },
  {
   "cell_type": "code",
   "execution_count": 22,
   "id": "e31abb23-ec8d-4b7b-867a-b30f6a73f415",
   "metadata": {},
   "outputs": [
    {
     "data": {
      "text/plain": [
       "{'n_estimators': 130,\n",
       " 'min_samples_split': 5,\n",
       " 'min_samples_leaf': 5,\n",
       " 'max_features': 'sqrt',\n",
       " 'max_depth': 110,\n",
       " 'bootstrap': True}"
      ]
     },
     "execution_count": 22,
     "metadata": {},
     "output_type": "execute_result"
    }
   ],
   "source": [
    "random_search.best_params_"
   ]
  },
  {
   "cell_type": "code",
   "execution_count": 23,
   "id": "e03407b2-6dec-4787-9888-01acc4d4372a",
   "metadata": {},
   "outputs": [],
   "source": [
    "def evaluate(model, X_train, y_train):\n",
    "    y_preds = cross_val_score(model, X_train, y_train,\n",
    "                         scoring='neg_mean_squared_error', cv=10)\n",
    "    scores = np.sqrt(-y_preds)\n",
    "    model_score = np.mean(scores)\n",
    "    print('Model Performance')\n",
    "    print('Root Mean Squared Error: {:0.4f}'.format(model_score))\n",
    "    \n",
    "    return model_score"
   ]
  },
  {
   "cell_type": "code",
   "execution_count": 24,
   "id": "45cd3366-6692-479d-b5eb-3f073e62622c",
   "metadata": {},
   "outputs": [
    {
     "name": "stdout",
     "output_type": "stream",
     "text": [
      "Model Performance\n",
      "Root Mean Squared Error: 0.1965\n"
     ]
    }
   ],
   "source": [
    "#base_model.fit(X_train, y_train)\n",
    "base_rmse = evaluate(randomf_reg, X_train, y_train)"
   ]
  },
  {
   "cell_type": "code",
   "execution_count": 25,
   "id": "a5cf9ddd-f759-44b2-96f8-fcc6d323c6ab",
   "metadata": {},
   "outputs": [
    {
     "name": "stdout",
     "output_type": "stream",
     "text": [
      "Model Performance\n",
      "Root Mean Squared Error: 0.1902\n"
     ]
    }
   ],
   "source": [
    "best_random = random_search.best_estimator_\n",
    "random_rmse = evaluate(best_random, X_train, y_train)"
   ]
  },
  {
   "cell_type": "markdown",
   "id": "49c9ceb0-cd07-42f5-9464-61aa4fb162a3",
   "metadata": {},
   "source": [
    "#### GridSearchCV"
   ]
  },
  {
   "cell_type": "code",
   "execution_count": 26,
   "id": "8e6dec6a-2247-4545-ac26-70ae7fd2dcde",
   "metadata": {},
   "outputs": [
    {
     "data": {
      "text/plain": [
       "{'n_estimators': 130,\n",
       " 'min_samples_split': 5,\n",
       " 'min_samples_leaf': 5,\n",
       " 'max_features': 'sqrt',\n",
       " 'max_depth': 110,\n",
       " 'bootstrap': True}"
      ]
     },
     "execution_count": 26,
     "metadata": {},
     "output_type": "execute_result"
    }
   ],
   "source": [
    "random_search.best_params_"
   ]
  },
  {
   "cell_type": "code",
   "execution_count": 27,
   "id": "8636c4a5-ffe8-42e0-80e9-005fba090e89",
   "metadata": {},
   "outputs": [],
   "source": [
    "# Create the parameter grid based on the results of random search \n",
    "param_grid = {\n",
    "    'n_estimators':      [i for i in np.arange(128,132)],\n",
    "    'min_samples_split': [i for i in np.arange(3, 7)],\n",
    "    'min_samples_leaf':  [i for i in np.arange(3, 7)],\n",
    "    'max_features':      ['sqrt'],\n",
    "    'max_depth':         [i for i in np.arange(108, 112)],\n",
    "    'bootstrap':         [True]\n",
    "}\n",
    "\n",
    "# Create a based model\n",
    "rf = RandomForestRegressor()\n",
    "\n",
    "# Instantiate the grid search model\n",
    "grid_search = GridSearchCV(estimator = rf, param_grid = param_grid, \n",
    "                          cv = 3, n_jobs = -1, verbose = 2)"
   ]
  },
  {
   "cell_type": "code",
   "execution_count": 28,
   "id": "0fab3bf0-a16b-488a-9a3a-302fa87c960d",
   "metadata": {},
   "outputs": [
    {
     "name": "stdout",
     "output_type": "stream",
     "text": [
      "Fitting 3 folds for each of 256 candidates, totalling 768 fits\n",
      "[CV] END bootstrap=True, max_depth=108, max_features=sqrt, min_samples_leaf=3, min_samples_split=3, n_estimators=128; total time=   0.3s\n",
      "[CV] END bootstrap=True, max_depth=108, max_features=sqrt, min_samples_leaf=3, min_samples_split=3, n_estimators=130; total time=   0.3s\n",
      "[CV] END bootstrap=True, max_depth=108, max_features=sqrt, min_samples_leaf=3, min_samples_split=3, n_estimators=131; total time=   0.3s\n",
      "[CV] END bootstrap=True, max_depth=108, max_features=sqrt, min_samples_leaf=3, min_samples_split=4, n_estimators=128; total time=   0.3s\n",
      "[CV] END bootstrap=True, max_depth=108, max_features=sqrt, min_samples_leaf=3, min_samples_split=4, n_estimators=130; total time=   0.3s\n",
      "[CV] END bootstrap=True, max_depth=108, max_features=sqrt, min_samples_leaf=3, min_samples_split=4, n_estimators=131; total time=   0.3s\n",
      "[CV] END bootstrap=True, max_depth=108, max_features=sqrt, min_samples_leaf=3, min_samples_split=5, n_estimators=128; total time=   0.3s\n",
      "[CV] END bootstrap=True, max_depth=108, max_features=sqrt, min_samples_leaf=3, min_samples_split=5, n_estimators=129; total time=   0.3s\n",
      "[CV] END bootstrap=True, max_depth=108, max_features=sqrt, min_samples_leaf=3, min_samples_split=5, n_estimators=131; total time=   0.3s\n",
      "[CV] END bootstrap=True, max_depth=108, max_features=sqrt, min_samples_leaf=3, min_samples_split=6, n_estimators=128; total time=   0.3s\n",
      "[CV] END bootstrap=True, max_depth=108, max_features=sqrt, min_samples_leaf=3, min_samples_split=6, n_estimators=129; total time=   0.3s\n",
      "[CV] END bootstrap=True, max_depth=108, max_features=sqrt, min_samples_leaf=3, min_samples_split=6, n_estimators=131; total time=   0.3s\n",
      "[CV] END bootstrap=True, max_depth=108, max_features=sqrt, min_samples_leaf=4, min_samples_split=3, n_estimators=128; total time=   0.3s\n",
      "[CV] END bootstrap=True, max_depth=108, max_features=sqrt, min_samples_leaf=4, min_samples_split=3, n_estimators=129; total time=   0.3s\n",
      "[CV] END bootstrap=True, max_depth=108, max_features=sqrt, min_samples_leaf=4, min_samples_split=3, n_estimators=131; total time=   0.3s\n",
      "[CV] END bootstrap=True, max_depth=108, max_features=sqrt, min_samples_leaf=4, min_samples_split=4, n_estimators=128; total time=   0.3s\n",
      "[CV] END bootstrap=True, max_depth=108, max_features=sqrt, min_samples_leaf=4, min_samples_split=4, n_estimators=129; total time=   0.3s\n",
      "[CV] END bootstrap=True, max_depth=108, max_features=sqrt, min_samples_leaf=4, min_samples_split=4, n_estimators=131; total time=   0.3s\n",
      "[CV] END bootstrap=True, max_depth=108, max_features=sqrt, min_samples_leaf=4, min_samples_split=5, n_estimators=128; total time=   0.3s\n",
      "[CV] END bootstrap=True, max_depth=108, max_features=sqrt, min_samples_leaf=4, min_samples_split=5, n_estimators=129; total time=   0.3s\n",
      "[CV] END bootstrap=True, max_depth=108, max_features=sqrt, min_samples_leaf=4, min_samples_split=5, n_estimators=131; total time=   0.3s\n",
      "[CV] END bootstrap=True, max_depth=108, max_features=sqrt, min_samples_leaf=4, min_samples_split=6, n_estimators=128; total time=   0.3s\n",
      "[CV] END bootstrap=True, max_depth=108, max_features=sqrt, min_samples_leaf=4, min_samples_split=6, n_estimators=129; total time=   0.3s\n",
      "[CV] END bootstrap=True, max_depth=108, max_features=sqrt, min_samples_leaf=4, min_samples_split=6, n_estimators=131; total time=   0.3s\n",
      "[CV] END bootstrap=True, max_depth=108, max_features=sqrt, min_samples_leaf=5, min_samples_split=3, n_estimators=128; total time=   0.3s\n",
      "[CV] END bootstrap=True, max_depth=108, max_features=sqrt, min_samples_leaf=5, min_samples_split=3, n_estimators=129; total time=   0.3s\n",
      "[CV] END bootstrap=True, max_depth=108, max_features=sqrt, min_samples_leaf=5, min_samples_split=3, n_estimators=130; total time=   0.3s\n",
      "[CV] END bootstrap=True, max_depth=108, max_features=sqrt, min_samples_leaf=5, min_samples_split=4, n_estimators=128; total time=   0.3s\n",
      "[CV] END bootstrap=True, max_depth=108, max_features=sqrt, min_samples_leaf=5, min_samples_split=4, n_estimators=129; total time=   0.3s\n",
      "[CV] END bootstrap=True, max_depth=108, max_features=sqrt, min_samples_leaf=5, min_samples_split=4, n_estimators=130; total time=   0.3s\n",
      "[CV] END bootstrap=True, max_depth=108, max_features=sqrt, min_samples_leaf=5, min_samples_split=4, n_estimators=131; total time=   0.3s\n",
      "[CV] END bootstrap=True, max_depth=108, max_features=sqrt, min_samples_leaf=5, min_samples_split=5, n_estimators=129; total time=   0.3s\n",
      "[CV] END bootstrap=True, max_depth=108, max_features=sqrt, min_samples_leaf=5, min_samples_split=5, n_estimators=130; total time=   0.3s\n",
      "[CV] END bootstrap=True, max_depth=108, max_features=sqrt, min_samples_leaf=5, min_samples_split=6, n_estimators=128; total time=   0.3s\n",
      "[CV] END bootstrap=True, max_depth=108, max_features=sqrt, min_samples_leaf=5, min_samples_split=6, n_estimators=128; total time=   0.3s\n",
      "[CV] END bootstrap=True, max_depth=108, max_features=sqrt, min_samples_leaf=5, min_samples_split=6, n_estimators=130; total time=   0.3s\n",
      "[CV] END bootstrap=True, max_depth=108, max_features=sqrt, min_samples_leaf=5, min_samples_split=6, n_estimators=131; total time=   0.3s\n",
      "[CV] END bootstrap=True, max_depth=108, max_features=sqrt, min_samples_leaf=6, min_samples_split=3, n_estimators=128; total time=   0.3s\n",
      "[CV] END bootstrap=True, max_depth=108, max_features=sqrt, min_samples_leaf=6, min_samples_split=3, n_estimators=130; total time=   0.3s\n",
      "[CV] END bootstrap=True, max_depth=108, max_features=sqrt, min_samples_leaf=6, min_samples_split=3, n_estimators=131; total time=   0.3s\n",
      "[CV] END bootstrap=True, max_depth=108, max_features=sqrt, min_samples_leaf=6, min_samples_split=4, n_estimators=128; total time=   0.3s\n",
      "[CV] END bootstrap=True, max_depth=108, max_features=sqrt, min_samples_leaf=6, min_samples_split=4, n_estimators=130; total time=   0.3s\n",
      "[CV] END bootstrap=True, max_depth=108, max_features=sqrt, min_samples_leaf=6, min_samples_split=4, n_estimators=131; total time=   0.3s\n",
      "[CV] END bootstrap=True, max_depth=108, max_features=sqrt, min_samples_leaf=6, min_samples_split=5, n_estimators=128; total time=   0.3s\n",
      "[CV] END bootstrap=True, max_depth=108, max_features=sqrt, min_samples_leaf=6, min_samples_split=5, n_estimators=130; total time=   0.3s\n",
      "[CV] END bootstrap=True, max_depth=108, max_features=sqrt, min_samples_leaf=6, min_samples_split=5, n_estimators=131; total time=   0.3s\n",
      "[CV] END bootstrap=True, max_depth=108, max_features=sqrt, min_samples_leaf=6, min_samples_split=6, n_estimators=128; total time=   0.3s\n",
      "[CV] END bootstrap=True, max_depth=108, max_features=sqrt, min_samples_leaf=6, min_samples_split=6, n_estimators=129; total time=   0.3s\n",
      "[CV] END bootstrap=True, max_depth=108, max_features=sqrt, min_samples_leaf=6, min_samples_split=6, n_estimators=131; total time=   0.3s\n",
      "[CV] END bootstrap=True, max_depth=109, max_features=sqrt, min_samples_leaf=3, min_samples_split=3, n_estimators=128; total time=   0.3s\n",
      "[CV] END bootstrap=True, max_depth=109, max_features=sqrt, min_samples_leaf=3, min_samples_split=3, n_estimators=129; total time=   0.3s\n",
      "[CV] END bootstrap=True, max_depth=109, max_features=sqrt, min_samples_leaf=3, min_samples_split=3, n_estimators=131; total time=   0.3s\n",
      "[CV] END bootstrap=True, max_depth=109, max_features=sqrt, min_samples_leaf=3, min_samples_split=4, n_estimators=128; total time=   0.3s\n",
      "[CV] END bootstrap=True, max_depth=109, max_features=sqrt, min_samples_leaf=3, min_samples_split=4, n_estimators=129; total time=   0.3s\n",
      "[CV] END bootstrap=True, max_depth=109, max_features=sqrt, min_samples_leaf=3, min_samples_split=4, n_estimators=131; total time=   0.3s\n",
      "[CV] END bootstrap=True, max_depth=109, max_features=sqrt, min_samples_leaf=3, min_samples_split=5, n_estimators=128; total time=   0.3s\n",
      "[CV] END bootstrap=True, max_depth=109, max_features=sqrt, min_samples_leaf=3, min_samples_split=5, n_estimators=129; total time=   0.3s\n",
      "[CV] END bootstrap=True, max_depth=109, max_features=sqrt, min_samples_leaf=3, min_samples_split=5, n_estimators=131; total time=   0.3s\n",
      "[CV] END bootstrap=True, max_depth=109, max_features=sqrt, min_samples_leaf=3, min_samples_split=6, n_estimators=128; total time=   0.3s\n",
      "[CV] END bootstrap=True, max_depth=108, max_features=sqrt, min_samples_leaf=3, min_samples_split=3, n_estimators=128; total time=   0.3s\n",
      "[CV] END bootstrap=True, max_depth=108, max_features=sqrt, min_samples_leaf=3, min_samples_split=3, n_estimators=129; total time=   0.3s\n",
      "[CV] END bootstrap=True, max_depth=108, max_features=sqrt, min_samples_leaf=3, min_samples_split=3, n_estimators=130; total time=   0.3s\n",
      "[CV] END bootstrap=True, max_depth=108, max_features=sqrt, min_samples_leaf=3, min_samples_split=4, n_estimators=128; total time=   0.3s\n",
      "[CV] END bootstrap=True, max_depth=108, max_features=sqrt, min_samples_leaf=3, min_samples_split=4, n_estimators=129; total time=   0.3s\n",
      "[CV] END bootstrap=True, max_depth=108, max_features=sqrt, min_samples_leaf=3, min_samples_split=4, n_estimators=130; total time=   0.3s\n",
      "[CV] END bootstrap=True, max_depth=108, max_features=sqrt, min_samples_leaf=3, min_samples_split=5, n_estimators=128; total time=   0.3s\n",
      "[CV] END bootstrap=True, max_depth=108, max_features=sqrt, min_samples_leaf=3, min_samples_split=5, n_estimators=129; total time=   0.3s\n",
      "[CV] END bootstrap=True, max_depth=108, max_features=sqrt, min_samples_leaf=3, min_samples_split=5, n_estimators=130; total time=   0.3s\n",
      "[CV] END bootstrap=True, max_depth=108, max_features=sqrt, min_samples_leaf=3, min_samples_split=6, n_estimators=128; total time=   0.3s\n",
      "[CV] END bootstrap=True, max_depth=108, max_features=sqrt, min_samples_leaf=3, min_samples_split=6, n_estimators=129; total time=   0.3s\n",
      "[CV] END bootstrap=True, max_depth=108, max_features=sqrt, min_samples_leaf=3, min_samples_split=6, n_estimators=130; total time=   0.3s\n",
      "[CV] END bootstrap=True, max_depth=108, max_features=sqrt, min_samples_leaf=4, min_samples_split=3, n_estimators=128; total time=   0.3s\n",
      "[CV] END bootstrap=True, max_depth=108, max_features=sqrt, min_samples_leaf=4, min_samples_split=3, n_estimators=129; total time=   0.3s\n",
      "[CV] END bootstrap=True, max_depth=108, max_features=sqrt, min_samples_leaf=4, min_samples_split=3, n_estimators=130; total time=   0.3s\n",
      "[CV] END bootstrap=True, max_depth=108, max_features=sqrt, min_samples_leaf=4, min_samples_split=4, n_estimators=128; total time=   0.3s\n",
      "[CV] END bootstrap=True, max_depth=108, max_features=sqrt, min_samples_leaf=4, min_samples_split=4, n_estimators=129; total time=   0.3s\n",
      "[CV] END bootstrap=True, max_depth=108, max_features=sqrt, min_samples_leaf=4, min_samples_split=4, n_estimators=130; total time=   0.3s\n",
      "[CV] END bootstrap=True, max_depth=108, max_features=sqrt, min_samples_leaf=4, min_samples_split=5, n_estimators=128; total time=   0.3s\n",
      "[CV] END bootstrap=True, max_depth=108, max_features=sqrt, min_samples_leaf=4, min_samples_split=5, n_estimators=129; total time=   0.3s\n",
      "[CV] END bootstrap=True, max_depth=108, max_features=sqrt, min_samples_leaf=4, min_samples_split=5, n_estimators=130; total time=   0.3s\n",
      "[CV] END bootstrap=True, max_depth=108, max_features=sqrt, min_samples_leaf=4, min_samples_split=6, n_estimators=128; total time=   0.3s\n",
      "[CV] END bootstrap=True, max_depth=108, max_features=sqrt, min_samples_leaf=4, min_samples_split=6, n_estimators=129; total time=   0.3s\n",
      "[CV] END bootstrap=True, max_depth=108, max_features=sqrt, min_samples_leaf=4, min_samples_split=6, n_estimators=130; total time=   0.3s\n",
      "[CV] END bootstrap=True, max_depth=108, max_features=sqrt, min_samples_leaf=4, min_samples_split=6, n_estimators=131; total time=   0.3s\n",
      "[CV] END bootstrap=True, max_depth=108, max_features=sqrt, min_samples_leaf=5, min_samples_split=3, n_estimators=129; total time=   0.3s\n",
      "[CV] END bootstrap=True, max_depth=108, max_features=sqrt, min_samples_leaf=5, min_samples_split=3, n_estimators=130; total time=   0.3s\n",
      "[CV] END bootstrap=True, max_depth=108, max_features=sqrt, min_samples_leaf=5, min_samples_split=3, n_estimators=131; total time=   0.3s\n",
      "[CV] END bootstrap=True, max_depth=108, max_features=sqrt, min_samples_leaf=5, min_samples_split=4, n_estimators=129; total time=   0.3s\n",
      "[CV] END bootstrap=True, max_depth=108, max_features=sqrt, min_samples_leaf=5, min_samples_split=4, n_estimators=130; total time=   0.3s\n",
      "[CV] END bootstrap=True, max_depth=108, max_features=sqrt, min_samples_leaf=5, min_samples_split=5, n_estimators=128; total time=   0.3s\n",
      "[CV] END bootstrap=True, max_depth=108, max_features=sqrt, min_samples_leaf=5, min_samples_split=5, n_estimators=128; total time=   0.3s\n",
      "[CV] END bootstrap=True, max_depth=108, max_features=sqrt, min_samples_leaf=5, min_samples_split=5, n_estimators=130; total time=   0.3s\n",
      "[CV] END bootstrap=True, max_depth=108, max_features=sqrt, min_samples_leaf=5, min_samples_split=5, n_estimators=131; total time=   0.3s\n",
      "[CV] END bootstrap=True, max_depth=108, max_features=sqrt, min_samples_leaf=5, min_samples_split=6, n_estimators=129; total time=   0.3s\n",
      "[CV] END bootstrap=True, max_depth=108, max_features=sqrt, min_samples_leaf=5, min_samples_split=6, n_estimators=130; total time=   0.3s\n",
      "[CV] END bootstrap=True, max_depth=108, max_features=sqrt, min_samples_leaf=5, min_samples_split=6, n_estimators=131; total time=   0.3s\n",
      "[CV] END bootstrap=True, max_depth=108, max_features=sqrt, min_samples_leaf=6, min_samples_split=3, n_estimators=129; total time=   0.3s\n",
      "[CV] END bootstrap=True, max_depth=108, max_features=sqrt, min_samples_leaf=6, min_samples_split=3, n_estimators=130; total time=   0.3s\n",
      "[CV] END bootstrap=True, max_depth=108, max_features=sqrt, min_samples_leaf=6, min_samples_split=3, n_estimators=131; total time=   0.3s\n",
      "[CV] END bootstrap=True, max_depth=108, max_features=sqrt, min_samples_leaf=6, min_samples_split=4, n_estimators=129; total time=   0.3s\n",
      "[CV] END bootstrap=True, max_depth=108, max_features=sqrt, min_samples_leaf=6, min_samples_split=4, n_estimators=130; total time=   0.3s\n",
      "[CV] END bootstrap=True, max_depth=108, max_features=sqrt, min_samples_leaf=6, min_samples_split=4, n_estimators=131; total time=   0.3s\n",
      "[CV] END bootstrap=True, max_depth=108, max_features=sqrt, min_samples_leaf=6, min_samples_split=5, n_estimators=129; total time=   0.3s\n",
      "[CV] END bootstrap=True, max_depth=108, max_features=sqrt, min_samples_leaf=6, min_samples_split=5, n_estimators=130; total time=   0.3s\n",
      "[CV] END bootstrap=True, max_depth=108, max_features=sqrt, min_samples_leaf=6, min_samples_split=5, n_estimators=131; total time=   0.3s\n",
      "[CV] END bootstrap=True, max_depth=108, max_features=sqrt, min_samples_leaf=6, min_samples_split=6, n_estimators=129; total time=   0.3s\n",
      "[CV] END bootstrap=True, max_depth=108, max_features=sqrt, min_samples_leaf=6, min_samples_split=6, n_estimators=130; total time=   0.3s\n",
      "[CV] END bootstrap=True, max_depth=108, max_features=sqrt, min_samples_leaf=6, min_samples_split=6, n_estimators=131; total time=   0.3s\n",
      "[CV] END bootstrap=True, max_depth=109, max_features=sqrt, min_samples_leaf=3, min_samples_split=3, n_estimators=129; total time=   0.3s\n",
      "[CV] END bootstrap=True, max_depth=109, max_features=sqrt, min_samples_leaf=3, min_samples_split=3, n_estimators=130; total time=   0.3s\n",
      "[CV] END bootstrap=True, max_depth=109, max_features=sqrt, min_samples_leaf=3, min_samples_split=3, n_estimators=131; total time=   0.3s\n",
      "[CV] END bootstrap=True, max_depth=109, max_features=sqrt, min_samples_leaf=3, min_samples_split=4, n_estimators=128; total time=   0.3s\n",
      "[CV] END bootstrap=True, max_depth=109, max_features=sqrt, min_samples_leaf=3, min_samples_split=4, n_estimators=130; total time=   0.3s\n",
      "[CV] END bootstrap=True, max_depth=109, max_features=sqrt, min_samples_leaf=3, min_samples_split=4, n_estimators=131; total time=   0.3s\n",
      "[CV] END bootstrap=True, max_depth=109, max_features=sqrt, min_samples_leaf=3, min_samples_split=5, n_estimators=128; total time=   0.3s\n",
      "[CV] END bootstrap=True, max_depth=109, max_features=sqrt, min_samples_leaf=3, min_samples_split=5, n_estimators=130; total time=   0.3s\n",
      "[CV] END bootstrap=True, max_depth=109, max_features=sqrt, min_samples_leaf=3, min_samples_split=5, n_estimators=131; total time=   0.3s\n",
      "[CV] END bootstrap=True, max_depth=109, max_features=sqrt, min_samples_leaf=3, min_samples_split=6, n_estimators=128; total time=   0.3s\n"
     ]
    },
    {
     "name": "stdout",
     "output_type": "stream",
     "text": [
      "[CV] END bootstrap=True, max_depth=108, max_features=sqrt, min_samples_leaf=3, min_samples_split=3, n_estimators=129; total time=   0.3s\n",
      "[CV] END bootstrap=True, max_depth=108, max_features=sqrt, min_samples_leaf=3, min_samples_split=3, n_estimators=129; total time=   0.3s\n",
      "[CV] END bootstrap=True, max_depth=108, max_features=sqrt, min_samples_leaf=3, min_samples_split=3, n_estimators=131; total time=   0.3s\n",
      "[CV] END bootstrap=True, max_depth=108, max_features=sqrt, min_samples_leaf=3, min_samples_split=4, n_estimators=128; total time=   0.3s\n",
      "[CV] END bootstrap=True, max_depth=108, max_features=sqrt, min_samples_leaf=3, min_samples_split=4, n_estimators=129; total time=   0.3s\n",
      "[CV] END bootstrap=True, max_depth=108, max_features=sqrt, min_samples_leaf=3, min_samples_split=4, n_estimators=131; total time=   0.3s\n",
      "[CV] END bootstrap=True, max_depth=108, max_features=sqrt, min_samples_leaf=3, min_samples_split=5, n_estimators=128; total time=   0.3s\n",
      "[CV] END bootstrap=True, max_depth=108, max_features=sqrt, min_samples_leaf=3, min_samples_split=5, n_estimators=130; total time=   0.3s\n",
      "[CV] END bootstrap=True, max_depth=108, max_features=sqrt, min_samples_leaf=3, min_samples_split=5, n_estimators=131; total time=   0.3s\n",
      "[CV] END bootstrap=True, max_depth=108, max_features=sqrt, min_samples_leaf=3, min_samples_split=6, n_estimators=128; total time=   0.3s\n",
      "[CV] END bootstrap=True, max_depth=108, max_features=sqrt, min_samples_leaf=3, min_samples_split=6, n_estimators=130; total time=   0.3s\n",
      "[CV] END bootstrap=True, max_depth=108, max_features=sqrt, min_samples_leaf=3, min_samples_split=6, n_estimators=131; total time=   0.3s\n",
      "[CV] END bootstrap=True, max_depth=108, max_features=sqrt, min_samples_leaf=4, min_samples_split=3, n_estimators=128; total time=   0.3s\n",
      "[CV] END bootstrap=True, max_depth=108, max_features=sqrt, min_samples_leaf=4, min_samples_split=3, n_estimators=130; total time=   0.3s\n",
      "[CV] END bootstrap=True, max_depth=108, max_features=sqrt, min_samples_leaf=4, min_samples_split=3, n_estimators=131; total time=   0.3s\n",
      "[CV] END bootstrap=True, max_depth=108, max_features=sqrt, min_samples_leaf=4, min_samples_split=4, n_estimators=128; total time=   0.3s\n",
      "[CV] END bootstrap=True, max_depth=108, max_features=sqrt, min_samples_leaf=4, min_samples_split=4, n_estimators=130; total time=   0.3s\n",
      "[CV] END bootstrap=True, max_depth=108, max_features=sqrt, min_samples_leaf=4, min_samples_split=4, n_estimators=131; total time=   0.3s\n",
      "[CV] END bootstrap=True, max_depth=108, max_features=sqrt, min_samples_leaf=4, min_samples_split=5, n_estimators=128; total time=   0.3s\n",
      "[CV] END bootstrap=True, max_depth=108, max_features=sqrt, min_samples_leaf=4, min_samples_split=5, n_estimators=130; total time=   0.3s\n",
      "[CV] END bootstrap=True, max_depth=108, max_features=sqrt, min_samples_leaf=4, min_samples_split=5, n_estimators=131; total time=   0.3s\n",
      "[CV] END bootstrap=True, max_depth=108, max_features=sqrt, min_samples_leaf=4, min_samples_split=6, n_estimators=128; total time=   0.3s\n",
      "[CV] END bootstrap=True, max_depth=108, max_features=sqrt, min_samples_leaf=4, min_samples_split=6, n_estimators=130; total time=   0.3s\n",
      "[CV] END bootstrap=True, max_depth=108, max_features=sqrt, min_samples_leaf=4, min_samples_split=6, n_estimators=131; total time=   0.3s\n",
      "[CV] END bootstrap=True, max_depth=108, max_features=sqrt, min_samples_leaf=5, min_samples_split=3, n_estimators=128; total time=   0.3s\n",
      "[CV] END bootstrap=True, max_depth=108, max_features=sqrt, min_samples_leaf=5, min_samples_split=3, n_estimators=130; total time=   0.3s\n",
      "[CV] END bootstrap=True, max_depth=108, max_features=sqrt, min_samples_leaf=5, min_samples_split=3, n_estimators=131; total time=   0.3s\n",
      "[CV] END bootstrap=True, max_depth=108, max_features=sqrt, min_samples_leaf=5, min_samples_split=4, n_estimators=128; total time=   0.3s\n",
      "[CV] END bootstrap=True, max_depth=108, max_features=sqrt, min_samples_leaf=5, min_samples_split=4, n_estimators=130; total time=   0.3s\n",
      "[CV] END bootstrap=True, max_depth=108, max_features=sqrt, min_samples_leaf=5, min_samples_split=4, n_estimators=131; total time=   0.3s\n",
      "[CV] END bootstrap=True, max_depth=108, max_features=sqrt, min_samples_leaf=5, min_samples_split=5, n_estimators=129; total time=   0.3s\n",
      "[CV] END bootstrap=True, max_depth=108, max_features=sqrt, min_samples_leaf=5, min_samples_split=5, n_estimators=130; total time=   0.3s\n",
      "[CV] END bootstrap=True, max_depth=108, max_features=sqrt, min_samples_leaf=5, min_samples_split=5, n_estimators=131; total time=   0.3s\n",
      "[CV] END bootstrap=True, max_depth=108, max_features=sqrt, min_samples_leaf=5, min_samples_split=6, n_estimators=129; total time=   0.3s\n",
      "[CV] END bootstrap=True, max_depth=108, max_features=sqrt, min_samples_leaf=5, min_samples_split=6, n_estimators=130; total time=   0.3s\n",
      "[CV] END bootstrap=True, max_depth=108, max_features=sqrt, min_samples_leaf=6, min_samples_split=3, n_estimators=128; total time=   0.3s\n",
      "[CV] END bootstrap=True, max_depth=108, max_features=sqrt, min_samples_leaf=6, min_samples_split=3, n_estimators=129; total time=   0.3s\n",
      "[CV] END bootstrap=True, max_depth=108, max_features=sqrt, min_samples_leaf=6, min_samples_split=3, n_estimators=130; total time=   0.3s\n",
      "[CV] END bootstrap=True, max_depth=108, max_features=sqrt, min_samples_leaf=6, min_samples_split=4, n_estimators=128; total time=   0.3s\n",
      "[CV] END bootstrap=True, max_depth=108, max_features=sqrt, min_samples_leaf=6, min_samples_split=4, n_estimators=129; total time=   0.3s\n",
      "[CV] END bootstrap=True, max_depth=108, max_features=sqrt, min_samples_leaf=6, min_samples_split=4, n_estimators=130; total time=   0.3s\n",
      "[CV] END bootstrap=True, max_depth=108, max_features=sqrt, min_samples_leaf=6, min_samples_split=5, n_estimators=128; total time=   0.3s\n",
      "[CV] END bootstrap=True, max_depth=108, max_features=sqrt, min_samples_leaf=6, min_samples_split=5, n_estimators=129; total time=   0.3s\n",
      "[CV] END bootstrap=True, max_depth=108, max_features=sqrt, min_samples_leaf=6, min_samples_split=5, n_estimators=130; total time=   0.3s\n",
      "[CV] END bootstrap=True, max_depth=108, max_features=sqrt, min_samples_leaf=6, min_samples_split=6, n_estimators=128; total time=   0.3s\n",
      "[CV] END bootstrap=True, max_depth=108, max_features=sqrt, min_samples_leaf=6, min_samples_split=6, n_estimators=129; total time=   0.3s\n",
      "[CV] END bootstrap=True, max_depth=108, max_features=sqrt, min_samples_leaf=6, min_samples_split=6, n_estimators=130; total time=   0.3s\n",
      "[CV] END bootstrap=True, max_depth=109, max_features=sqrt, min_samples_leaf=3, min_samples_split=3, n_estimators=128; total time=   0.3s\n",
      "[CV] END bootstrap=True, max_depth=109, max_features=sqrt, min_samples_leaf=3, min_samples_split=3, n_estimators=129; total time=   0.3s\n",
      "[CV] END bootstrap=True, max_depth=109, max_features=sqrt, min_samples_leaf=3, min_samples_split=3, n_estimators=130; total time=   0.3s\n",
      "[CV] END bootstrap=True, max_depth=109, max_features=sqrt, min_samples_leaf=3, min_samples_split=4, n_estimators=128; total time=   0.3s\n",
      "[CV] END bootstrap=True, max_depth=109, max_features=sqrt, min_samples_leaf=3, min_samples_split=4, n_estimators=129; total time=   0.3s\n",
      "[CV] END bootstrap=True, max_depth=109, max_features=sqrt, min_samples_leaf=3, min_samples_split=4, n_estimators=130; total time=   0.3s\n",
      "[CV] END bootstrap=True, max_depth=109, max_features=sqrt, min_samples_leaf=3, min_samples_split=5, n_estimators=128; total time=   0.3s\n",
      "[CV] END bootstrap=True, max_depth=109, max_features=sqrt, min_samples_leaf=3, min_samples_split=5, n_estimators=129; total time=   0.3s\n",
      "[CV] END bootstrap=True, max_depth=109, max_features=sqrt, min_samples_leaf=3, min_samples_split=5, n_estimators=130; total time=   0.3s\n",
      "[CV] END bootstrap=True, max_depth=109, max_features=sqrt, min_samples_leaf=3, min_samples_split=6, n_estimators=128; total time=   0.3s\n",
      "[CV] END bootstrap=True, max_depth=109, max_features=sqrt, min_samples_leaf=3, min_samples_split=6, n_estimators=129; total time=   0.3s\n",
      "[CV] END bootstrap=True, max_depth=109, max_features=sqrt, min_samples_leaf=3, min_samples_split=6, n_estimators=131; total time=   0.4s\n",
      "[CV] END bootstrap=True, max_depth=108, max_features=sqrt, min_samples_leaf=3, min_samples_split=3, n_estimators=128; total time=   0.3s\n",
      "[CV] END bootstrap=True, max_depth=108, max_features=sqrt, min_samples_leaf=3, min_samples_split=3, n_estimators=130; total time=   0.3s\n",
      "[CV] END bootstrap=True, max_depth=108, max_features=sqrt, min_samples_leaf=3, min_samples_split=3, n_estimators=131; total time=   0.3s\n",
      "[CV] END bootstrap=True, max_depth=108, max_features=sqrt, min_samples_leaf=3, min_samples_split=4, n_estimators=129; total time=   0.3s\n",
      "[CV] END bootstrap=True, max_depth=108, max_features=sqrt, min_samples_leaf=3, min_samples_split=4, n_estimators=130; total time=   0.3s\n",
      "[CV] END bootstrap=True, max_depth=108, max_features=sqrt, min_samples_leaf=3, min_samples_split=4, n_estimators=131; total time=   0.3s\n",
      "[CV] END bootstrap=True, max_depth=108, max_features=sqrt, min_samples_leaf=3, min_samples_split=5, n_estimators=129; total time=   0.3s\n",
      "[CV] END bootstrap=True, max_depth=108, max_features=sqrt, min_samples_leaf=3, min_samples_split=5, n_estimators=130; total time=   0.3s\n",
      "[CV] END bootstrap=True, max_depth=108, max_features=sqrt, min_samples_leaf=3, min_samples_split=5, n_estimators=131; total time=   0.3s\n",
      "[CV] END bootstrap=True, max_depth=108, max_features=sqrt, min_samples_leaf=3, min_samples_split=6, n_estimators=129; total time=   0.3s\n",
      "[CV] END bootstrap=True, max_depth=108, max_features=sqrt, min_samples_leaf=3, min_samples_split=6, n_estimators=130; total time=   0.3s\n",
      "[CV] END bootstrap=True, max_depth=108, max_features=sqrt, min_samples_leaf=3, min_samples_split=6, n_estimators=131; total time=   0.3s\n",
      "[CV] END bootstrap=True, max_depth=108, max_features=sqrt, min_samples_leaf=4, min_samples_split=3, n_estimators=129; total time=   0.3s\n",
      "[CV] END bootstrap=True, max_depth=108, max_features=sqrt, min_samples_leaf=4, min_samples_split=3, n_estimators=130; total time=   0.3s\n",
      "[CV] END bootstrap=True, max_depth=108, max_features=sqrt, min_samples_leaf=4, min_samples_split=3, n_estimators=131; total time=   0.3s\n",
      "[CV] END bootstrap=True, max_depth=108, max_features=sqrt, min_samples_leaf=4, min_samples_split=4, n_estimators=129; total time=   0.3s\n",
      "[CV] END bootstrap=True, max_depth=108, max_features=sqrt, min_samples_leaf=4, min_samples_split=4, n_estimators=130; total time=   0.3s\n",
      "[CV] END bootstrap=True, max_depth=108, max_features=sqrt, min_samples_leaf=4, min_samples_split=4, n_estimators=131; total time=   0.3s\n",
      "[CV] END bootstrap=True, max_depth=108, max_features=sqrt, min_samples_leaf=4, min_samples_split=5, n_estimators=129; total time=   0.3s\n",
      "[CV] END bootstrap=True, max_depth=108, max_features=sqrt, min_samples_leaf=4, min_samples_split=5, n_estimators=130; total time=   0.3s\n",
      "[CV] END bootstrap=True, max_depth=108, max_features=sqrt, min_samples_leaf=4, min_samples_split=5, n_estimators=131; total time=   0.3s\n",
      "[CV] END bootstrap=True, max_depth=108, max_features=sqrt, min_samples_leaf=4, min_samples_split=6, n_estimators=129; total time=   0.3s\n",
      "[CV] END bootstrap=True, max_depth=108, max_features=sqrt, min_samples_leaf=4, min_samples_split=6, n_estimators=130; total time=   0.3s\n",
      "[CV] END bootstrap=True, max_depth=108, max_features=sqrt, min_samples_leaf=5, min_samples_split=3, n_estimators=128; total time=   0.3s\n",
      "[CV] END bootstrap=True, max_depth=108, max_features=sqrt, min_samples_leaf=5, min_samples_split=3, n_estimators=129; total time=   0.3s\n",
      "[CV] END bootstrap=True, max_depth=108, max_features=sqrt, min_samples_leaf=5, min_samples_split=3, n_estimators=131; total time=   0.3s\n",
      "[CV] END bootstrap=True, max_depth=108, max_features=sqrt, min_samples_leaf=5, min_samples_split=4, n_estimators=128; total time=   0.3s\n",
      "[CV] END bootstrap=True, max_depth=108, max_features=sqrt, min_samples_leaf=5, min_samples_split=4, n_estimators=129; total time=   0.3s\n",
      "[CV] END bootstrap=True, max_depth=108, max_features=sqrt, min_samples_leaf=5, min_samples_split=4, n_estimators=131; total time=   0.3s\n",
      "[CV] END bootstrap=True, max_depth=108, max_features=sqrt, min_samples_leaf=5, min_samples_split=5, n_estimators=128; total time=   0.3s\n",
      "[CV] END bootstrap=True, max_depth=108, max_features=sqrt, min_samples_leaf=5, min_samples_split=5, n_estimators=129; total time=   0.3s\n",
      "[CV] END bootstrap=True, max_depth=108, max_features=sqrt, min_samples_leaf=5, min_samples_split=5, n_estimators=131; total time=   0.3s\n",
      "[CV] END bootstrap=True, max_depth=108, max_features=sqrt, min_samples_leaf=5, min_samples_split=6, n_estimators=128; total time=   0.3s\n",
      "[CV] END bootstrap=True, max_depth=108, max_features=sqrt, min_samples_leaf=5, min_samples_split=6, n_estimators=129; total time=   0.3s\n",
      "[CV] END bootstrap=True, max_depth=108, max_features=sqrt, min_samples_leaf=5, min_samples_split=6, n_estimators=131; total time=   0.3s\n",
      "[CV] END bootstrap=True, max_depth=108, max_features=sqrt, min_samples_leaf=6, min_samples_split=3, n_estimators=128; total time=   0.3s\n",
      "[CV] END bootstrap=True, max_depth=108, max_features=sqrt, min_samples_leaf=6, min_samples_split=3, n_estimators=129; total time=   0.3s\n",
      "[CV] END bootstrap=True, max_depth=108, max_features=sqrt, min_samples_leaf=6, min_samples_split=3, n_estimators=131; total time=   0.3s\n",
      "[CV] END bootstrap=True, max_depth=108, max_features=sqrt, min_samples_leaf=6, min_samples_split=4, n_estimators=128; total time=   0.3s\n",
      "[CV] END bootstrap=True, max_depth=108, max_features=sqrt, min_samples_leaf=6, min_samples_split=4, n_estimators=129; total time=   0.3s\n",
      "[CV] END bootstrap=True, max_depth=108, max_features=sqrt, min_samples_leaf=6, min_samples_split=4, n_estimators=131; total time=   0.3s\n",
      "[CV] END bootstrap=True, max_depth=108, max_features=sqrt, min_samples_leaf=6, min_samples_split=5, n_estimators=128; total time=   0.3s\n",
      "[CV] END bootstrap=True, max_depth=108, max_features=sqrt, min_samples_leaf=6, min_samples_split=5, n_estimators=129; total time=   0.3s\n",
      "[CV] END bootstrap=True, max_depth=108, max_features=sqrt, min_samples_leaf=6, min_samples_split=5, n_estimators=131; total time=   0.3s\n",
      "[CV] END bootstrap=True, max_depth=108, max_features=sqrt, min_samples_leaf=6, min_samples_split=6, n_estimators=128; total time=   0.3s\n",
      "[CV] END bootstrap=True, max_depth=108, max_features=sqrt, min_samples_leaf=6, min_samples_split=6, n_estimators=130; total time=   0.3s\n",
      "[CV] END bootstrap=True, max_depth=108, max_features=sqrt, min_samples_leaf=6, min_samples_split=6, n_estimators=131; total time=   0.3s\n",
      "[CV] END bootstrap=True, max_depth=109, max_features=sqrt, min_samples_leaf=3, min_samples_split=3, n_estimators=128; total time=   0.3s\n",
      "[CV] END bootstrap=True, max_depth=109, max_features=sqrt, min_samples_leaf=3, min_samples_split=3, n_estimators=130; total time=   0.3s\n",
      "[CV] END bootstrap=True, max_depth=109, max_features=sqrt, min_samples_leaf=3, min_samples_split=3, n_estimators=131; total time=   0.3s\n",
      "[CV] END bootstrap=True, max_depth=109, max_features=sqrt, min_samples_leaf=3, min_samples_split=4, n_estimators=129; total time=   0.3s\n",
      "[CV] END bootstrap=True, max_depth=109, max_features=sqrt, min_samples_leaf=3, min_samples_split=4, n_estimators=130; total time=   0.3s\n",
      "[CV] END bootstrap=True, max_depth=109, max_features=sqrt, min_samples_leaf=3, min_samples_split=4, n_estimators=131; total time=   0.3s\n",
      "[CV] END bootstrap=True, max_depth=109, max_features=sqrt, min_samples_leaf=3, min_samples_split=5, n_estimators=129; total time=   0.3s\n",
      "[CV] END bootstrap=True, max_depth=109, max_features=sqrt, min_samples_leaf=3, min_samples_split=5, n_estimators=130; total time=   0.3s\n",
      "[CV] END bootstrap=True, max_depth=109, max_features=sqrt, min_samples_leaf=3, min_samples_split=5, n_estimators=131; total time=   0.3s\n",
      "[CV] END bootstrap=True, max_depth=109, max_features=sqrt, min_samples_leaf=3, min_samples_split=6, n_estimators=129; total time=   0.3s\n",
      "[CV] END bootstrap=True, max_depth=109, max_features=sqrt, min_samples_leaf=3, min_samples_split=6, n_estimators=130; total time=   0.3s\n",
      "[CV] END bootstrap=True, max_depth=109, max_features=sqrt, min_samples_leaf=3, min_samples_split=6, n_estimators=131; total time=   0.3s\n"
     ]
    },
    {
     "name": "stdout",
     "output_type": "stream",
     "text": [
      "[CV] END bootstrap=True, max_depth=109, max_features=sqrt, min_samples_leaf=3, min_samples_split=6, n_estimators=129; total time=   0.3s\n",
      "[CV] END bootstrap=True, max_depth=109, max_features=sqrt, min_samples_leaf=3, min_samples_split=6, n_estimators=130; total time=   0.3s\n",
      "[CV] END bootstrap=True, max_depth=109, max_features=sqrt, min_samples_leaf=4, min_samples_split=3, n_estimators=128; total time=   0.3s\n",
      "[CV] END bootstrap=True, max_depth=109, max_features=sqrt, min_samples_leaf=4, min_samples_split=3, n_estimators=129; total time=   0.3s\n",
      "[CV] END bootstrap=True, max_depth=109, max_features=sqrt, min_samples_leaf=4, min_samples_split=3, n_estimators=130; total time=   0.3s\n",
      "[CV] END bootstrap=True, max_depth=109, max_features=sqrt, min_samples_leaf=4, min_samples_split=4, n_estimators=128; total time=   0.3s\n",
      "[CV] END bootstrap=True, max_depth=109, max_features=sqrt, min_samples_leaf=4, min_samples_split=4, n_estimators=129; total time=   0.3s\n",
      "[CV] END bootstrap=True, max_depth=109, max_features=sqrt, min_samples_leaf=4, min_samples_split=4, n_estimators=130; total time=   0.3s\n",
      "[CV] END bootstrap=True, max_depth=109, max_features=sqrt, min_samples_leaf=4, min_samples_split=4, n_estimators=131; total time=   0.3s\n",
      "[CV] END bootstrap=True, max_depth=109, max_features=sqrt, min_samples_leaf=4, min_samples_split=5, n_estimators=129; total time=   0.3s\n",
      "[CV] END bootstrap=True, max_depth=109, max_features=sqrt, min_samples_leaf=4, min_samples_split=5, n_estimators=130; total time=   0.3s\n",
      "[CV] END bootstrap=True, max_depth=109, max_features=sqrt, min_samples_leaf=4, min_samples_split=5, n_estimators=131; total time=   0.3s\n",
      "[CV] END bootstrap=True, max_depth=109, max_features=sqrt, min_samples_leaf=4, min_samples_split=6, n_estimators=129; total time=   0.3s\n",
      "[CV] END bootstrap=True, max_depth=109, max_features=sqrt, min_samples_leaf=4, min_samples_split=6, n_estimators=130; total time=   0.3s\n",
      "[CV] END bootstrap=True, max_depth=109, max_features=sqrt, min_samples_leaf=4, min_samples_split=6, n_estimators=131; total time=   0.3s\n",
      "[CV] END bootstrap=True, max_depth=109, max_features=sqrt, min_samples_leaf=5, min_samples_split=3, n_estimators=129; total time=   0.3s\n",
      "[CV] END bootstrap=True, max_depth=109, max_features=sqrt, min_samples_leaf=5, min_samples_split=3, n_estimators=130; total time=   0.3s\n",
      "[CV] END bootstrap=True, max_depth=109, max_features=sqrt, min_samples_leaf=5, min_samples_split=3, n_estimators=131; total time=   0.3s\n",
      "[CV] END bootstrap=True, max_depth=109, max_features=sqrt, min_samples_leaf=5, min_samples_split=4, n_estimators=129; total time=   0.3s\n",
      "[CV] END bootstrap=True, max_depth=109, max_features=sqrt, min_samples_leaf=5, min_samples_split=4, n_estimators=130; total time=   0.3s\n",
      "[CV] END bootstrap=True, max_depth=109, max_features=sqrt, min_samples_leaf=5, min_samples_split=4, n_estimators=131; total time=   0.3s\n",
      "[CV] END bootstrap=True, max_depth=109, max_features=sqrt, min_samples_leaf=5, min_samples_split=5, n_estimators=128; total time=   0.3s\n",
      "[CV] END bootstrap=True, max_depth=109, max_features=sqrt, min_samples_leaf=5, min_samples_split=5, n_estimators=130; total time=   0.3s\n",
      "[CV] END bootstrap=True, max_depth=109, max_features=sqrt, min_samples_leaf=5, min_samples_split=5, n_estimators=131; total time=   0.3s\n",
      "[CV] END bootstrap=True, max_depth=109, max_features=sqrt, min_samples_leaf=5, min_samples_split=6, n_estimators=128; total time=   0.3s\n",
      "[CV] END bootstrap=True, max_depth=109, max_features=sqrt, min_samples_leaf=5, min_samples_split=6, n_estimators=130; total time=   0.3s\n",
      "[CV] END bootstrap=True, max_depth=109, max_features=sqrt, min_samples_leaf=5, min_samples_split=6, n_estimators=131; total time=   0.3s\n",
      "[CV] END bootstrap=True, max_depth=109, max_features=sqrt, min_samples_leaf=6, min_samples_split=3, n_estimators=128; total time=   0.3s\n",
      "[CV] END bootstrap=True, max_depth=109, max_features=sqrt, min_samples_leaf=6, min_samples_split=3, n_estimators=130; total time=   0.3s\n",
      "[CV] END bootstrap=True, max_depth=109, max_features=sqrt, min_samples_leaf=6, min_samples_split=3, n_estimators=131; total time=   0.3s\n",
      "[CV] END bootstrap=True, max_depth=109, max_features=sqrt, min_samples_leaf=6, min_samples_split=4, n_estimators=128; total time=   0.3s\n",
      "[CV] END bootstrap=True, max_depth=109, max_features=sqrt, min_samples_leaf=6, min_samples_split=4, n_estimators=130; total time=   0.3s\n",
      "[CV] END bootstrap=True, max_depth=109, max_features=sqrt, min_samples_leaf=6, min_samples_split=4, n_estimators=131; total time=   0.3s\n",
      "[CV] END bootstrap=True, max_depth=109, max_features=sqrt, min_samples_leaf=6, min_samples_split=5, n_estimators=128; total time=   0.3s\n",
      "[CV] END bootstrap=True, max_depth=109, max_features=sqrt, min_samples_leaf=6, min_samples_split=5, n_estimators=129; total time=   0.3s\n",
      "[CV] END bootstrap=True, max_depth=109, max_features=sqrt, min_samples_leaf=6, min_samples_split=5, n_estimators=131; total time=   0.3s\n",
      "[CV] END bootstrap=True, max_depth=109, max_features=sqrt, min_samples_leaf=6, min_samples_split=6, n_estimators=128; total time=   0.3s\n",
      "[CV] END bootstrap=True, max_depth=109, max_features=sqrt, min_samples_leaf=6, min_samples_split=6, n_estimators=129; total time=   0.3s\n",
      "[CV] END bootstrap=True, max_depth=109, max_features=sqrt, min_samples_leaf=6, min_samples_split=6, n_estimators=131; total time=   0.3s\n",
      "[CV] END bootstrap=True, max_depth=110, max_features=sqrt, min_samples_leaf=3, min_samples_split=3, n_estimators=128; total time=   0.3s\n",
      "[CV] END bootstrap=True, max_depth=110, max_features=sqrt, min_samples_leaf=3, min_samples_split=3, n_estimators=129; total time=   0.3s\n",
      "[CV] END bootstrap=True, max_depth=110, max_features=sqrt, min_samples_leaf=3, min_samples_split=3, n_estimators=131; total time=   0.3s\n",
      "[CV] END bootstrap=True, max_depth=110, max_features=sqrt, min_samples_leaf=3, min_samples_split=4, n_estimators=128; total time=   0.3s\n",
      "[CV] END bootstrap=True, max_depth=110, max_features=sqrt, min_samples_leaf=3, min_samples_split=4, n_estimators=129; total time=   0.3s\n",
      "[CV] END bootstrap=True, max_depth=110, max_features=sqrt, min_samples_leaf=3, min_samples_split=4, n_estimators=131; total time=   0.3s\n",
      "[CV] END bootstrap=True, max_depth=110, max_features=sqrt, min_samples_leaf=3, min_samples_split=5, n_estimators=128; total time=   0.3s\n",
      "[CV] END bootstrap=True, max_depth=110, max_features=sqrt, min_samples_leaf=3, min_samples_split=5, n_estimators=129; total time=   0.3s\n",
      "[CV] END bootstrap=True, max_depth=110, max_features=sqrt, min_samples_leaf=3, min_samples_split=5, n_estimators=130; total time=   0.3s\n",
      "[CV] END bootstrap=True, max_depth=110, max_features=sqrt, min_samples_leaf=3, min_samples_split=6, n_estimators=128; total time=   0.3s\n",
      "[CV] END bootstrap=True, max_depth=110, max_features=sqrt, min_samples_leaf=3, min_samples_split=6, n_estimators=129; total time=   0.3s\n",
      "[CV] END bootstrap=True, max_depth=110, max_features=sqrt, min_samples_leaf=3, min_samples_split=6, n_estimators=130; total time=   0.3s\n",
      "[CV] END bootstrap=True, max_depth=110, max_features=sqrt, min_samples_leaf=4, min_samples_split=3, n_estimators=128; total time=   0.3s\n",
      "[CV] END bootstrap=True, max_depth=110, max_features=sqrt, min_samples_leaf=4, min_samples_split=3, n_estimators=129; total time=   0.4s\n",
      "[CV] END bootstrap=True, max_depth=110, max_features=sqrt, min_samples_leaf=4, min_samples_split=3, n_estimators=130; total time=   0.3s\n",
      "[CV] END bootstrap=True, max_depth=110, max_features=sqrt, min_samples_leaf=4, min_samples_split=3, n_estimators=131; total time=   0.3s\n",
      "[CV] END bootstrap=True, max_depth=110, max_features=sqrt, min_samples_leaf=4, min_samples_split=4, n_estimators=129; total time=   0.3s\n",
      "[CV] END bootstrap=True, max_depth=110, max_features=sqrt, min_samples_leaf=4, min_samples_split=4, n_estimators=130; total time=   0.3s\n",
      "[CV] END bootstrap=True, max_depth=110, max_features=sqrt, min_samples_leaf=4, min_samples_split=4, n_estimators=131; total time=   0.3s\n",
      "[CV] END bootstrap=True, max_depth=110, max_features=sqrt, min_samples_leaf=4, min_samples_split=5, n_estimators=129; total time=   0.4s\n",
      "[CV] END bootstrap=True, max_depth=109, max_features=sqrt, min_samples_leaf=3, min_samples_split=6, n_estimators=130; total time=   0.3s\n",
      "[CV] END bootstrap=True, max_depth=109, max_features=sqrt, min_samples_leaf=3, min_samples_split=6, n_estimators=131; total time=   0.3s\n",
      "[CV] END bootstrap=True, max_depth=109, max_features=sqrt, min_samples_leaf=4, min_samples_split=3, n_estimators=128; total time=   0.3s\n",
      "[CV] END bootstrap=True, max_depth=109, max_features=sqrt, min_samples_leaf=4, min_samples_split=3, n_estimators=129; total time=   0.3s\n",
      "[CV] END bootstrap=True, max_depth=109, max_features=sqrt, min_samples_leaf=4, min_samples_split=3, n_estimators=131; total time=   0.3s\n",
      "[CV] END bootstrap=True, max_depth=109, max_features=sqrt, min_samples_leaf=4, min_samples_split=4, n_estimators=128; total time=   0.3s\n",
      "[CV] END bootstrap=True, max_depth=109, max_features=sqrt, min_samples_leaf=4, min_samples_split=4, n_estimators=129; total time=   0.3s\n",
      "[CV] END bootstrap=True, max_depth=109, max_features=sqrt, min_samples_leaf=4, min_samples_split=4, n_estimators=131; total time=   0.3s\n",
      "[CV] END bootstrap=True, max_depth=109, max_features=sqrt, min_samples_leaf=4, min_samples_split=5, n_estimators=128; total time=   0.3s\n",
      "[CV] END bootstrap=True, max_depth=109, max_features=sqrt, min_samples_leaf=4, min_samples_split=5, n_estimators=129; total time=   0.3s\n",
      "[CV] END bootstrap=True, max_depth=109, max_features=sqrt, min_samples_leaf=4, min_samples_split=5, n_estimators=131; total time=   0.3s\n",
      "[CV] END bootstrap=True, max_depth=109, max_features=sqrt, min_samples_leaf=4, min_samples_split=6, n_estimators=128; total time=   0.3s\n",
      "[CV] END bootstrap=True, max_depth=109, max_features=sqrt, min_samples_leaf=4, min_samples_split=6, n_estimators=129; total time=   0.3s\n",
      "[CV] END bootstrap=True, max_depth=109, max_features=sqrt, min_samples_leaf=4, min_samples_split=6, n_estimators=131; total time=   0.3s\n",
      "[CV] END bootstrap=True, max_depth=109, max_features=sqrt, min_samples_leaf=5, min_samples_split=3, n_estimators=128; total time=   0.3s\n",
      "[CV] END bootstrap=True, max_depth=109, max_features=sqrt, min_samples_leaf=5, min_samples_split=3, n_estimators=129; total time=   0.3s\n",
      "[CV] END bootstrap=True, max_depth=109, max_features=sqrt, min_samples_leaf=5, min_samples_split=3, n_estimators=130; total time=   0.3s\n",
      "[CV] END bootstrap=True, max_depth=109, max_features=sqrt, min_samples_leaf=5, min_samples_split=4, n_estimators=128; total time=   0.3s\n",
      "[CV] END bootstrap=True, max_depth=109, max_features=sqrt, min_samples_leaf=5, min_samples_split=4, n_estimators=129; total time=   0.3s\n",
      "[CV] END bootstrap=True, max_depth=109, max_features=sqrt, min_samples_leaf=5, min_samples_split=4, n_estimators=130; total time=   0.3s\n",
      "[CV] END bootstrap=True, max_depth=109, max_features=sqrt, min_samples_leaf=5, min_samples_split=5, n_estimators=128; total time=   0.3s\n",
      "[CV] END bootstrap=True, max_depth=109, max_features=sqrt, min_samples_leaf=5, min_samples_split=5, n_estimators=129; total time=   0.3s\n",
      "[CV] END bootstrap=True, max_depth=109, max_features=sqrt, min_samples_leaf=5, min_samples_split=5, n_estimators=130; total time=   0.3s\n",
      "[CV] END bootstrap=True, max_depth=109, max_features=sqrt, min_samples_leaf=5, min_samples_split=6, n_estimators=128; total time=   0.3s\n",
      "[CV] END bootstrap=True, max_depth=109, max_features=sqrt, min_samples_leaf=5, min_samples_split=6, n_estimators=129; total time=   0.3s\n",
      "[CV] END bootstrap=True, max_depth=109, max_features=sqrt, min_samples_leaf=5, min_samples_split=6, n_estimators=130; total time=   0.3s\n",
      "[CV] END bootstrap=True, max_depth=109, max_features=sqrt, min_samples_leaf=6, min_samples_split=3, n_estimators=128; total time=   0.3s\n",
      "[CV] END bootstrap=True, max_depth=109, max_features=sqrt, min_samples_leaf=6, min_samples_split=3, n_estimators=129; total time=   0.3s\n",
      "[CV] END bootstrap=True, max_depth=109, max_features=sqrt, min_samples_leaf=6, min_samples_split=3, n_estimators=130; total time=   0.3s\n",
      "[CV] END bootstrap=True, max_depth=109, max_features=sqrt, min_samples_leaf=6, min_samples_split=3, n_estimators=131; total time=   0.3s\n",
      "[CV] END bootstrap=True, max_depth=109, max_features=sqrt, min_samples_leaf=6, min_samples_split=4, n_estimators=129; total time=   0.3s\n",
      "[CV] END bootstrap=True, max_depth=109, max_features=sqrt, min_samples_leaf=6, min_samples_split=4, n_estimators=130; total time=   0.3s\n",
      "[CV] END bootstrap=True, max_depth=109, max_features=sqrt, min_samples_leaf=6, min_samples_split=4, n_estimators=131; total time=   0.3s\n",
      "[CV] END bootstrap=True, max_depth=109, max_features=sqrt, min_samples_leaf=6, min_samples_split=5, n_estimators=129; total time=   0.3s\n",
      "[CV] END bootstrap=True, max_depth=109, max_features=sqrt, min_samples_leaf=6, min_samples_split=5, n_estimators=130; total time=   0.3s\n",
      "[CV] END bootstrap=True, max_depth=109, max_features=sqrt, min_samples_leaf=6, min_samples_split=5, n_estimators=131; total time=   0.3s\n",
      "[CV] END bootstrap=True, max_depth=109, max_features=sqrt, min_samples_leaf=6, min_samples_split=6, n_estimators=129; total time=   0.3s\n",
      "[CV] END bootstrap=True, max_depth=109, max_features=sqrt, min_samples_leaf=6, min_samples_split=6, n_estimators=130; total time=   0.3s\n",
      "[CV] END bootstrap=True, max_depth=109, max_features=sqrt, min_samples_leaf=6, min_samples_split=6, n_estimators=131; total time=   0.3s\n",
      "[CV] END bootstrap=True, max_depth=110, max_features=sqrt, min_samples_leaf=3, min_samples_split=3, n_estimators=129; total time=   0.3s\n",
      "[CV] END bootstrap=True, max_depth=110, max_features=sqrt, min_samples_leaf=3, min_samples_split=3, n_estimators=130; total time=   0.3s\n",
      "[CV] END bootstrap=True, max_depth=110, max_features=sqrt, min_samples_leaf=3, min_samples_split=3, n_estimators=131; total time=   0.3s\n",
      "[CV] END bootstrap=True, max_depth=110, max_features=sqrt, min_samples_leaf=3, min_samples_split=4, n_estimators=128; total time=   0.3s\n",
      "[CV] END bootstrap=True, max_depth=110, max_features=sqrt, min_samples_leaf=3, min_samples_split=4, n_estimators=130; total time=   0.3s\n",
      "[CV] END bootstrap=True, max_depth=110, max_features=sqrt, min_samples_leaf=3, min_samples_split=4, n_estimators=131; total time=   0.3s\n",
      "[CV] END bootstrap=True, max_depth=110, max_features=sqrt, min_samples_leaf=3, min_samples_split=5, n_estimators=128; total time=   0.3s\n",
      "[CV] END bootstrap=True, max_depth=110, max_features=sqrt, min_samples_leaf=3, min_samples_split=5, n_estimators=130; total time=   0.3s\n",
      "[CV] END bootstrap=True, max_depth=110, max_features=sqrt, min_samples_leaf=3, min_samples_split=5, n_estimators=131; total time=   0.3s\n",
      "[CV] END bootstrap=True, max_depth=110, max_features=sqrt, min_samples_leaf=3, min_samples_split=6, n_estimators=128; total time=   0.3s\n",
      "[CV] END bootstrap=True, max_depth=110, max_features=sqrt, min_samples_leaf=3, min_samples_split=6, n_estimators=130; total time=   0.3s\n",
      "[CV] END bootstrap=True, max_depth=110, max_features=sqrt, min_samples_leaf=3, min_samples_split=6, n_estimators=131; total time=   0.3s\n",
      "[CV] END bootstrap=True, max_depth=110, max_features=sqrt, min_samples_leaf=4, min_samples_split=3, n_estimators=128; total time=   0.3s\n",
      "[CV] END bootstrap=True, max_depth=110, max_features=sqrt, min_samples_leaf=4, min_samples_split=3, n_estimators=130; total time=   0.4s\n",
      "[CV] END bootstrap=True, max_depth=110, max_features=sqrt, min_samples_leaf=4, min_samples_split=3, n_estimators=131; total time=   0.3s\n",
      "[CV] END bootstrap=True, max_depth=110, max_features=sqrt, min_samples_leaf=4, min_samples_split=4, n_estimators=128; total time=   0.3s\n",
      "[CV] END bootstrap=True, max_depth=110, max_features=sqrt, min_samples_leaf=4, min_samples_split=4, n_estimators=129; total time=   0.3s\n",
      "[CV] END bootstrap=True, max_depth=110, max_features=sqrt, min_samples_leaf=4, min_samples_split=4, n_estimators=131; total time=   0.3s\n",
      "[CV] END bootstrap=True, max_depth=110, max_features=sqrt, min_samples_leaf=4, min_samples_split=5, n_estimators=128; total time=   0.3s\n",
      "[CV] END bootstrap=True, max_depth=110, max_features=sqrt, min_samples_leaf=4, min_samples_split=5, n_estimators=130; total time=   0.4s\n"
     ]
    },
    {
     "name": "stdout",
     "output_type": "stream",
     "text": [
      "[CV] END bootstrap=True, max_depth=109, max_features=sqrt, min_samples_leaf=4, min_samples_split=3, n_estimators=128; total time=   0.3s\n",
      "[CV] END bootstrap=True, max_depth=109, max_features=sqrt, min_samples_leaf=4, min_samples_split=3, n_estimators=130; total time=   0.3s\n",
      "[CV] END bootstrap=True, max_depth=109, max_features=sqrt, min_samples_leaf=4, min_samples_split=3, n_estimators=131; total time=   0.3s\n",
      "[CV] END bootstrap=True, max_depth=109, max_features=sqrt, min_samples_leaf=4, min_samples_split=4, n_estimators=128; total time=   0.3s\n",
      "[CV] END bootstrap=True, max_depth=109, max_features=sqrt, min_samples_leaf=4, min_samples_split=4, n_estimators=130; total time=   0.3s\n",
      "[CV] END bootstrap=True, max_depth=109, max_features=sqrt, min_samples_leaf=4, min_samples_split=4, n_estimators=131; total time=   0.3s\n",
      "[CV] END bootstrap=True, max_depth=109, max_features=sqrt, min_samples_leaf=4, min_samples_split=5, n_estimators=128; total time=   0.3s\n",
      "[CV] END bootstrap=True, max_depth=109, max_features=sqrt, min_samples_leaf=4, min_samples_split=5, n_estimators=130; total time=   0.3s\n",
      "[CV] END bootstrap=True, max_depth=109, max_features=sqrt, min_samples_leaf=4, min_samples_split=5, n_estimators=131; total time=   0.3s\n",
      "[CV] END bootstrap=True, max_depth=109, max_features=sqrt, min_samples_leaf=4, min_samples_split=6, n_estimators=128; total time=   0.3s\n",
      "[CV] END bootstrap=True, max_depth=109, max_features=sqrt, min_samples_leaf=4, min_samples_split=6, n_estimators=130; total time=   0.3s\n",
      "[CV] END bootstrap=True, max_depth=109, max_features=sqrt, min_samples_leaf=4, min_samples_split=6, n_estimators=131; total time=   0.3s\n",
      "[CV] END bootstrap=True, max_depth=109, max_features=sqrt, min_samples_leaf=5, min_samples_split=3, n_estimators=128; total time=   0.3s\n",
      "[CV] END bootstrap=True, max_depth=109, max_features=sqrt, min_samples_leaf=5, min_samples_split=3, n_estimators=130; total time=   0.3s\n",
      "[CV] END bootstrap=True, max_depth=109, max_features=sqrt, min_samples_leaf=5, min_samples_split=3, n_estimators=131; total time=   0.3s\n",
      "[CV] END bootstrap=True, max_depth=109, max_features=sqrt, min_samples_leaf=5, min_samples_split=4, n_estimators=128; total time=   0.3s\n",
      "[CV] END bootstrap=True, max_depth=109, max_features=sqrt, min_samples_leaf=5, min_samples_split=4, n_estimators=130; total time=   0.3s\n",
      "[CV] END bootstrap=True, max_depth=109, max_features=sqrt, min_samples_leaf=5, min_samples_split=4, n_estimators=131; total time=   0.3s\n",
      "[CV] END bootstrap=True, max_depth=109, max_features=sqrt, min_samples_leaf=5, min_samples_split=5, n_estimators=129; total time=   0.3s\n",
      "[CV] END bootstrap=True, max_depth=109, max_features=sqrt, min_samples_leaf=5, min_samples_split=5, n_estimators=130; total time=   0.3s\n",
      "[CV] END bootstrap=True, max_depth=109, max_features=sqrt, min_samples_leaf=5, min_samples_split=5, n_estimators=131; total time=   0.3s\n",
      "[CV] END bootstrap=True, max_depth=109, max_features=sqrt, min_samples_leaf=5, min_samples_split=6, n_estimators=129; total time=   0.3s\n",
      "[CV] END bootstrap=True, max_depth=109, max_features=sqrt, min_samples_leaf=5, min_samples_split=6, n_estimators=130; total time=   0.3s\n",
      "[CV] END bootstrap=True, max_depth=109, max_features=sqrt, min_samples_leaf=5, min_samples_split=6, n_estimators=131; total time=   0.3s\n",
      "[CV] END bootstrap=True, max_depth=109, max_features=sqrt, min_samples_leaf=6, min_samples_split=3, n_estimators=129; total time=   0.3s\n",
      "[CV] END bootstrap=True, max_depth=109, max_features=sqrt, min_samples_leaf=6, min_samples_split=3, n_estimators=130; total time=   0.3s\n",
      "[CV] END bootstrap=True, max_depth=109, max_features=sqrt, min_samples_leaf=6, min_samples_split=4, n_estimators=128; total time=   0.3s\n",
      "[CV] END bootstrap=True, max_depth=109, max_features=sqrt, min_samples_leaf=6, min_samples_split=4, n_estimators=129; total time=   0.3s\n",
      "[CV] END bootstrap=True, max_depth=109, max_features=sqrt, min_samples_leaf=6, min_samples_split=4, n_estimators=130; total time=   0.3s\n",
      "[CV] END bootstrap=True, max_depth=109, max_features=sqrt, min_samples_leaf=6, min_samples_split=5, n_estimators=128; total time=   0.3s\n",
      "[CV] END bootstrap=True, max_depth=109, max_features=sqrt, min_samples_leaf=6, min_samples_split=5, n_estimators=129; total time=   0.3s\n",
      "[CV] END bootstrap=True, max_depth=109, max_features=sqrt, min_samples_leaf=6, min_samples_split=5, n_estimators=130; total time=   0.3s\n",
      "[CV] END bootstrap=True, max_depth=109, max_features=sqrt, min_samples_leaf=6, min_samples_split=6, n_estimators=128; total time=   0.3s\n",
      "[CV] END bootstrap=True, max_depth=109, max_features=sqrt, min_samples_leaf=6, min_samples_split=6, n_estimators=129; total time=   0.3s\n",
      "[CV] END bootstrap=True, max_depth=109, max_features=sqrt, min_samples_leaf=6, min_samples_split=6, n_estimators=130; total time=   0.3s\n",
      "[CV] END bootstrap=True, max_depth=110, max_features=sqrt, min_samples_leaf=3, min_samples_split=3, n_estimators=128; total time=   0.3s\n",
      "[CV] END bootstrap=True, max_depth=110, max_features=sqrt, min_samples_leaf=3, min_samples_split=3, n_estimators=129; total time=   0.3s\n",
      "[CV] END bootstrap=True, max_depth=110, max_features=sqrt, min_samples_leaf=3, min_samples_split=3, n_estimators=130; total time=   0.3s\n",
      "[CV] END bootstrap=True, max_depth=110, max_features=sqrt, min_samples_leaf=3, min_samples_split=4, n_estimators=128; total time=   0.3s\n",
      "[CV] END bootstrap=True, max_depth=110, max_features=sqrt, min_samples_leaf=3, min_samples_split=4, n_estimators=129; total time=   0.3s\n",
      "[CV] END bootstrap=True, max_depth=110, max_features=sqrt, min_samples_leaf=3, min_samples_split=4, n_estimators=130; total time=   0.3s\n",
      "[CV] END bootstrap=True, max_depth=110, max_features=sqrt, min_samples_leaf=3, min_samples_split=5, n_estimators=128; total time=   0.3s\n",
      "[CV] END bootstrap=True, max_depth=110, max_features=sqrt, min_samples_leaf=3, min_samples_split=5, n_estimators=129; total time=   0.3s\n",
      "[CV] END bootstrap=True, max_depth=110, max_features=sqrt, min_samples_leaf=3, min_samples_split=5, n_estimators=131; total time=   0.3s\n",
      "[CV] END bootstrap=True, max_depth=110, max_features=sqrt, min_samples_leaf=3, min_samples_split=6, n_estimators=128; total time=   0.3s\n",
      "[CV] END bootstrap=True, max_depth=110, max_features=sqrt, min_samples_leaf=3, min_samples_split=6, n_estimators=129; total time=   0.3s\n",
      "[CV] END bootstrap=True, max_depth=110, max_features=sqrt, min_samples_leaf=3, min_samples_split=6, n_estimators=131; total time=   0.3s\n",
      "[CV] END bootstrap=True, max_depth=110, max_features=sqrt, min_samples_leaf=4, min_samples_split=3, n_estimators=128; total time=   0.4s\n",
      "[CV] END bootstrap=True, max_depth=110, max_features=sqrt, min_samples_leaf=4, min_samples_split=3, n_estimators=129; total time=   0.4s\n",
      "[CV] END bootstrap=True, max_depth=110, max_features=sqrt, min_samples_leaf=4, min_samples_split=3, n_estimators=131; total time=   0.3s\n",
      "[CV] END bootstrap=True, max_depth=110, max_features=sqrt, min_samples_leaf=4, min_samples_split=4, n_estimators=128; total time=   0.3s\n",
      "[CV] END bootstrap=True, max_depth=110, max_features=sqrt, min_samples_leaf=4, min_samples_split=4, n_estimators=130; total time=   0.3s\n",
      "[CV] END bootstrap=True, max_depth=110, max_features=sqrt, min_samples_leaf=4, min_samples_split=4, n_estimators=131; total time=   0.3s\n",
      "[CV] END bootstrap=True, max_depth=110, max_features=sqrt, min_samples_leaf=4, min_samples_split=5, n_estimators=128; total time=   0.3s\n",
      "[CV] END bootstrap=True, max_depth=110, max_features=sqrt, min_samples_leaf=4, min_samples_split=5, n_estimators=129; total time=   0.3s\n",
      "[CV] END bootstrap=True, max_depth=110, max_features=sqrt, min_samples_leaf=4, min_samples_split=5, n_estimators=131; total time=   0.3s\n",
      "[CV] END bootstrap=True, max_depth=110, max_features=sqrt, min_samples_leaf=4, min_samples_split=6, n_estimators=128; total time=   0.3s\n",
      "[CV] END bootstrap=True, max_depth=110, max_features=sqrt, min_samples_leaf=4, min_samples_split=6, n_estimators=129; total time=   0.3s\n",
      "[CV] END bootstrap=True, max_depth=110, max_features=sqrt, min_samples_leaf=4, min_samples_split=6, n_estimators=131; total time=   0.3s\n",
      "[CV] END bootstrap=True, max_depth=109, max_features=sqrt, min_samples_leaf=4, min_samples_split=3, n_estimators=129; total time=   0.3s\n",
      "[CV] END bootstrap=True, max_depth=109, max_features=sqrt, min_samples_leaf=4, min_samples_split=3, n_estimators=130; total time=   0.3s\n",
      "[CV] END bootstrap=True, max_depth=109, max_features=sqrt, min_samples_leaf=4, min_samples_split=3, n_estimators=131; total time=   0.3s\n",
      "[CV] END bootstrap=True, max_depth=109, max_features=sqrt, min_samples_leaf=4, min_samples_split=4, n_estimators=129; total time=   0.3s\n",
      "[CV] END bootstrap=True, max_depth=109, max_features=sqrt, min_samples_leaf=4, min_samples_split=4, n_estimators=130; total time=   0.3s\n",
      "[CV] END bootstrap=True, max_depth=109, max_features=sqrt, min_samples_leaf=4, min_samples_split=5, n_estimators=128; total time=   0.3s\n",
      "[CV] END bootstrap=True, max_depth=109, max_features=sqrt, min_samples_leaf=4, min_samples_split=5, n_estimators=129; total time=   0.3s\n",
      "[CV] END bootstrap=True, max_depth=109, max_features=sqrt, min_samples_leaf=4, min_samples_split=5, n_estimators=130; total time=   0.3s\n",
      "[CV] END bootstrap=True, max_depth=109, max_features=sqrt, min_samples_leaf=4, min_samples_split=6, n_estimators=128; total time=   0.3s\n",
      "[CV] END bootstrap=True, max_depth=109, max_features=sqrt, min_samples_leaf=4, min_samples_split=6, n_estimators=129; total time=   0.3s\n",
      "[CV] END bootstrap=True, max_depth=109, max_features=sqrt, min_samples_leaf=4, min_samples_split=6, n_estimators=130; total time=   0.3s\n",
      "[CV] END bootstrap=True, max_depth=109, max_features=sqrt, min_samples_leaf=5, min_samples_split=3, n_estimators=128; total time=   0.3s\n",
      "[CV] END bootstrap=True, max_depth=109, max_features=sqrt, min_samples_leaf=5, min_samples_split=3, n_estimators=129; total time=   0.3s\n",
      "[CV] END bootstrap=True, max_depth=109, max_features=sqrt, min_samples_leaf=5, min_samples_split=3, n_estimators=131; total time=   0.3s\n",
      "[CV] END bootstrap=True, max_depth=109, max_features=sqrt, min_samples_leaf=5, min_samples_split=4, n_estimators=128; total time=   0.3s\n",
      "[CV] END bootstrap=True, max_depth=109, max_features=sqrt, min_samples_leaf=5, min_samples_split=4, n_estimators=129; total time=   0.3s\n",
      "[CV] END bootstrap=True, max_depth=109, max_features=sqrt, min_samples_leaf=5, min_samples_split=4, n_estimators=131; total time=   0.3s\n",
      "[CV] END bootstrap=True, max_depth=109, max_features=sqrt, min_samples_leaf=5, min_samples_split=5, n_estimators=128; total time=   0.3s\n",
      "[CV] END bootstrap=True, max_depth=109, max_features=sqrt, min_samples_leaf=5, min_samples_split=5, n_estimators=129; total time=   0.3s\n",
      "[CV] END bootstrap=True, max_depth=109, max_features=sqrt, min_samples_leaf=5, min_samples_split=5, n_estimators=131; total time=   0.3s\n",
      "[CV] END bootstrap=True, max_depth=109, max_features=sqrt, min_samples_leaf=5, min_samples_split=6, n_estimators=128; total time=   0.3s\n",
      "[CV] END bootstrap=True, max_depth=109, max_features=sqrt, min_samples_leaf=5, min_samples_split=6, n_estimators=129; total time=   0.3s\n",
      "[CV] END bootstrap=True, max_depth=109, max_features=sqrt, min_samples_leaf=5, min_samples_split=6, n_estimators=131; total time=   0.3s\n",
      "[CV] END bootstrap=True, max_depth=109, max_features=sqrt, min_samples_leaf=6, min_samples_split=3, n_estimators=128; total time=   0.3s\n",
      "[CV] END bootstrap=True, max_depth=109, max_features=sqrt, min_samples_leaf=6, min_samples_split=3, n_estimators=129; total time=   0.3s\n",
      "[CV] END bootstrap=True, max_depth=109, max_features=sqrt, min_samples_leaf=6, min_samples_split=3, n_estimators=131; total time=   0.3s\n",
      "[CV] END bootstrap=True, max_depth=109, max_features=sqrt, min_samples_leaf=6, min_samples_split=4, n_estimators=128; total time=   0.3s\n",
      "[CV] END bootstrap=True, max_depth=109, max_features=sqrt, min_samples_leaf=6, min_samples_split=4, n_estimators=129; total time=   0.3s\n",
      "[CV] END bootstrap=True, max_depth=109, max_features=sqrt, min_samples_leaf=6, min_samples_split=4, n_estimators=131; total time=   0.3s\n",
      "[CV] END bootstrap=True, max_depth=109, max_features=sqrt, min_samples_leaf=6, min_samples_split=5, n_estimators=128; total time=   0.3s\n",
      "[CV] END bootstrap=True, max_depth=109, max_features=sqrt, min_samples_leaf=6, min_samples_split=5, n_estimators=130; total time=   0.3s\n",
      "[CV] END bootstrap=True, max_depth=109, max_features=sqrt, min_samples_leaf=6, min_samples_split=5, n_estimators=131; total time=   0.3s\n",
      "[CV] END bootstrap=True, max_depth=109, max_features=sqrt, min_samples_leaf=6, min_samples_split=6, n_estimators=128; total time=   0.3s\n",
      "[CV] END bootstrap=True, max_depth=109, max_features=sqrt, min_samples_leaf=6, min_samples_split=6, n_estimators=130; total time=   0.3s\n",
      "[CV] END bootstrap=True, max_depth=109, max_features=sqrt, min_samples_leaf=6, min_samples_split=6, n_estimators=131; total time=   0.3s\n",
      "[CV] END bootstrap=True, max_depth=110, max_features=sqrt, min_samples_leaf=3, min_samples_split=3, n_estimators=128; total time=   0.3s\n",
      "[CV] END bootstrap=True, max_depth=110, max_features=sqrt, min_samples_leaf=3, min_samples_split=3, n_estimators=130; total time=   0.3s\n",
      "[CV] END bootstrap=True, max_depth=110, max_features=sqrt, min_samples_leaf=3, min_samples_split=3, n_estimators=131; total time=   0.3s\n",
      "[CV] END bootstrap=True, max_depth=110, max_features=sqrt, min_samples_leaf=3, min_samples_split=4, n_estimators=129; total time=   0.3s\n",
      "[CV] END bootstrap=True, max_depth=110, max_features=sqrt, min_samples_leaf=3, min_samples_split=4, n_estimators=130; total time=   0.3s\n",
      "[CV] END bootstrap=True, max_depth=110, max_features=sqrt, min_samples_leaf=3, min_samples_split=4, n_estimators=131; total time=   0.3s\n",
      "[CV] END bootstrap=True, max_depth=110, max_features=sqrt, min_samples_leaf=3, min_samples_split=5, n_estimators=129; total time=   0.3s\n",
      "[CV] END bootstrap=True, max_depth=110, max_features=sqrt, min_samples_leaf=3, min_samples_split=5, n_estimators=130; total time=   0.3s\n",
      "[CV] END bootstrap=True, max_depth=110, max_features=sqrt, min_samples_leaf=3, min_samples_split=5, n_estimators=131; total time=   0.3s\n",
      "[CV] END bootstrap=True, max_depth=110, max_features=sqrt, min_samples_leaf=3, min_samples_split=6, n_estimators=129; total time=   0.3s\n",
      "[CV] END bootstrap=True, max_depth=110, max_features=sqrt, min_samples_leaf=3, min_samples_split=6, n_estimators=130; total time=   0.3s\n",
      "[CV] END bootstrap=True, max_depth=110, max_features=sqrt, min_samples_leaf=3, min_samples_split=6, n_estimators=131; total time=   0.3s\n",
      "[CV] END bootstrap=True, max_depth=110, max_features=sqrt, min_samples_leaf=4, min_samples_split=3, n_estimators=129; total time=   0.4s\n",
      "[CV] END bootstrap=True, max_depth=110, max_features=sqrt, min_samples_leaf=4, min_samples_split=3, n_estimators=130; total time=   0.3s\n",
      "[CV] END bootstrap=True, max_depth=110, max_features=sqrt, min_samples_leaf=4, min_samples_split=4, n_estimators=128; total time=   0.3s\n",
      "[CV] END bootstrap=True, max_depth=110, max_features=sqrt, min_samples_leaf=4, min_samples_split=4, n_estimators=129; total time=   0.3s\n",
      "[CV] END bootstrap=True, max_depth=110, max_features=sqrt, min_samples_leaf=4, min_samples_split=4, n_estimators=130; total time=   0.3s\n",
      "[CV] END bootstrap=True, max_depth=110, max_features=sqrt, min_samples_leaf=4, min_samples_split=5, n_estimators=128; total time=   0.3s\n",
      "[CV] END bootstrap=True, max_depth=110, max_features=sqrt, min_samples_leaf=4, min_samples_split=5, n_estimators=129; total time=   0.3s\n",
      "[CV] END bootstrap=True, max_depth=110, max_features=sqrt, min_samples_leaf=4, min_samples_split=5, n_estimators=130; total time=   0.3s\n",
      "[CV] END bootstrap=True, max_depth=110, max_features=sqrt, min_samples_leaf=4, min_samples_split=5, n_estimators=131; total time=   0.3s\n",
      "[CV] END bootstrap=True, max_depth=110, max_features=sqrt, min_samples_leaf=4, min_samples_split=6, n_estimators=129; total time=   0.3s\n",
      "[CV] END bootstrap=True, max_depth=110, max_features=sqrt, min_samples_leaf=4, min_samples_split=6, n_estimators=130; total time=   0.3s\n",
      "[CV] END bootstrap=True, max_depth=110, max_features=sqrt, min_samples_leaf=4, min_samples_split=6, n_estimators=131; total time=   0.3s\n"
     ]
    },
    {
     "name": "stdout",
     "output_type": "stream",
     "text": [
      "[CV] END bootstrap=True, max_depth=110, max_features=sqrt, min_samples_leaf=4, min_samples_split=5, n_estimators=131; total time=   0.3s\n",
      "[CV] END bootstrap=True, max_depth=110, max_features=sqrt, min_samples_leaf=4, min_samples_split=6, n_estimators=128; total time=   0.3s\n",
      "[CV] END bootstrap=True, max_depth=110, max_features=sqrt, min_samples_leaf=4, min_samples_split=6, n_estimators=130; total time=   0.3s\n",
      "[CV] END bootstrap=True, max_depth=110, max_features=sqrt, min_samples_leaf=4, min_samples_split=6, n_estimators=131; total time=   0.3s\n",
      "[CV] END bootstrap=True, max_depth=110, max_features=sqrt, min_samples_leaf=5, min_samples_split=3, n_estimators=128; total time=   0.3s\n",
      "[CV] END bootstrap=True, max_depth=110, max_features=sqrt, min_samples_leaf=5, min_samples_split=3, n_estimators=130; total time=   0.3s\n",
      "[CV] END bootstrap=True, max_depth=110, max_features=sqrt, min_samples_leaf=5, min_samples_split=3, n_estimators=131; total time=   0.3s\n",
      "[CV] END bootstrap=True, max_depth=110, max_features=sqrt, min_samples_leaf=5, min_samples_split=4, n_estimators=128; total time=   0.3s\n",
      "[CV] END bootstrap=True, max_depth=110, max_features=sqrt, min_samples_leaf=5, min_samples_split=4, n_estimators=130; total time=   0.3s\n",
      "[CV] END bootstrap=True, max_depth=110, max_features=sqrt, min_samples_leaf=5, min_samples_split=4, n_estimators=131; total time=   0.3s\n",
      "[CV] END bootstrap=True, max_depth=110, max_features=sqrt, min_samples_leaf=5, min_samples_split=5, n_estimators=128; total time=   0.3s\n",
      "[CV] END bootstrap=True, max_depth=110, max_features=sqrt, min_samples_leaf=5, min_samples_split=5, n_estimators=130; total time=   0.3s\n",
      "[CV] END bootstrap=True, max_depth=110, max_features=sqrt, min_samples_leaf=5, min_samples_split=5, n_estimators=131; total time=   0.4s\n",
      "[CV] END bootstrap=True, max_depth=110, max_features=sqrt, min_samples_leaf=5, min_samples_split=6, n_estimators=128; total time=   0.3s\n",
      "[CV] END bootstrap=True, max_depth=110, max_features=sqrt, min_samples_leaf=5, min_samples_split=6, n_estimators=129; total time=   0.3s\n",
      "[CV] END bootstrap=True, max_depth=110, max_features=sqrt, min_samples_leaf=5, min_samples_split=6, n_estimators=131; total time=   0.3s\n",
      "[CV] END bootstrap=True, max_depth=110, max_features=sqrt, min_samples_leaf=6, min_samples_split=3, n_estimators=128; total time=   0.3s\n",
      "[CV] END bootstrap=True, max_depth=110, max_features=sqrt, min_samples_leaf=6, min_samples_split=3, n_estimators=129; total time=   0.3s\n",
      "[CV] END bootstrap=True, max_depth=110, max_features=sqrt, min_samples_leaf=6, min_samples_split=3, n_estimators=131; total time=   0.3s\n",
      "[CV] END bootstrap=True, max_depth=110, max_features=sqrt, min_samples_leaf=6, min_samples_split=4, n_estimators=128; total time=   0.3s\n",
      "[CV] END bootstrap=True, max_depth=110, max_features=sqrt, min_samples_leaf=6, min_samples_split=4, n_estimators=129; total time=   0.3s\n",
      "[CV] END bootstrap=True, max_depth=110, max_features=sqrt, min_samples_leaf=6, min_samples_split=4, n_estimators=131; total time=   0.3s\n",
      "[CV] END bootstrap=True, max_depth=110, max_features=sqrt, min_samples_leaf=6, min_samples_split=5, n_estimators=128; total time=   0.3s\n",
      "[CV] END bootstrap=True, max_depth=110, max_features=sqrt, min_samples_leaf=6, min_samples_split=5, n_estimators=129; total time=   0.3s\n",
      "[CV] END bootstrap=True, max_depth=110, max_features=sqrt, min_samples_leaf=6, min_samples_split=5, n_estimators=131; total time=   0.3s\n",
      "[CV] END bootstrap=True, max_depth=110, max_features=sqrt, min_samples_leaf=6, min_samples_split=6, n_estimators=128; total time=   0.3s\n",
      "[CV] END bootstrap=True, max_depth=110, max_features=sqrt, min_samples_leaf=6, min_samples_split=6, n_estimators=129; total time=   0.3s\n",
      "[CV] END bootstrap=True, max_depth=110, max_features=sqrt, min_samples_leaf=6, min_samples_split=6, n_estimators=130; total time=   0.3s\n",
      "[CV] END bootstrap=True, max_depth=111, max_features=sqrt, min_samples_leaf=3, min_samples_split=3, n_estimators=128; total time=   0.3s\n",
      "[CV] END bootstrap=True, max_depth=111, max_features=sqrt, min_samples_leaf=3, min_samples_split=3, n_estimators=129; total time=   0.3s\n",
      "[CV] END bootstrap=True, max_depth=111, max_features=sqrt, min_samples_leaf=3, min_samples_split=3, n_estimators=130; total time=   0.3s\n",
      "[CV] END bootstrap=True, max_depth=111, max_features=sqrt, min_samples_leaf=3, min_samples_split=4, n_estimators=128; total time=   0.3s\n",
      "[CV] END bootstrap=True, max_depth=111, max_features=sqrt, min_samples_leaf=3, min_samples_split=4, n_estimators=129; total time=   0.3s\n",
      "[CV] END bootstrap=True, max_depth=111, max_features=sqrt, min_samples_leaf=3, min_samples_split=4, n_estimators=130; total time=   0.3s\n",
      "[CV] END bootstrap=True, max_depth=111, max_features=sqrt, min_samples_leaf=3, min_samples_split=5, n_estimators=128; total time=   0.3s\n",
      "[CV] END bootstrap=True, max_depth=111, max_features=sqrt, min_samples_leaf=3, min_samples_split=5, n_estimators=129; total time=   0.3s\n",
      "[CV] END bootstrap=True, max_depth=111, max_features=sqrt, min_samples_leaf=3, min_samples_split=5, n_estimators=130; total time=   0.3s\n",
      "[CV] END bootstrap=True, max_depth=111, max_features=sqrt, min_samples_leaf=3, min_samples_split=6, n_estimators=128; total time=   0.3s\n",
      "[CV] END bootstrap=True, max_depth=111, max_features=sqrt, min_samples_leaf=3, min_samples_split=6, n_estimators=129; total time=   0.3s\n",
      "[CV] END bootstrap=True, max_depth=111, max_features=sqrt, min_samples_leaf=3, min_samples_split=6, n_estimators=130; total time=   0.3s\n",
      "[CV] END bootstrap=True, max_depth=111, max_features=sqrt, min_samples_leaf=3, min_samples_split=6, n_estimators=131; total time=   0.3s\n",
      "[CV] END bootstrap=True, max_depth=111, max_features=sqrt, min_samples_leaf=4, min_samples_split=3, n_estimators=129; total time=   0.3s\n",
      "[CV] END bootstrap=True, max_depth=111, max_features=sqrt, min_samples_leaf=4, min_samples_split=3, n_estimators=130; total time=   0.3s\n",
      "[CV] END bootstrap=True, max_depth=111, max_features=sqrt, min_samples_leaf=4, min_samples_split=3, n_estimators=131; total time=   0.3s\n",
      "[CV] END bootstrap=True, max_depth=111, max_features=sqrt, min_samples_leaf=4, min_samples_split=4, n_estimators=128; total time=   0.3s\n",
      "[CV] END bootstrap=True, max_depth=111, max_features=sqrt, min_samples_leaf=4, min_samples_split=4, n_estimators=130; total time=   0.3s\n",
      "[CV] END bootstrap=True, max_depth=111, max_features=sqrt, min_samples_leaf=4, min_samples_split=4, n_estimators=131; total time=   0.3s\n",
      "[CV] END bootstrap=True, max_depth=111, max_features=sqrt, min_samples_leaf=4, min_samples_split=5, n_estimators=128; total time=   0.3s\n",
      "[CV] END bootstrap=True, max_depth=111, max_features=sqrt, min_samples_leaf=4, min_samples_split=5, n_estimators=130; total time=   0.3s\n",
      "[CV] END bootstrap=True, max_depth=111, max_features=sqrt, min_samples_leaf=4, min_samples_split=5, n_estimators=131; total time=   0.3s\n",
      "[CV] END bootstrap=True, max_depth=111, max_features=sqrt, min_samples_leaf=4, min_samples_split=6, n_estimators=128; total time=   0.3s\n",
      "[CV] END bootstrap=True, max_depth=111, max_features=sqrt, min_samples_leaf=4, min_samples_split=6, n_estimators=130; total time=   0.3s\n",
      "[CV] END bootstrap=True, max_depth=111, max_features=sqrt, min_samples_leaf=4, min_samples_split=6, n_estimators=131; total time=   0.3s\n",
      "[CV] END bootstrap=True, max_depth=111, max_features=sqrt, min_samples_leaf=5, min_samples_split=3, n_estimators=128; total time=   0.3s\n",
      "[CV] END bootstrap=True, max_depth=111, max_features=sqrt, min_samples_leaf=5, min_samples_split=3, n_estimators=130; total time=   0.3s\n",
      "[CV] END bootstrap=True, max_depth=111, max_features=sqrt, min_samples_leaf=5, min_samples_split=3, n_estimators=131; total time=   0.3s\n",
      "[CV] END bootstrap=True, max_depth=111, max_features=sqrt, min_samples_leaf=5, min_samples_split=4, n_estimators=128; total time=   0.3s\n",
      "[CV] END bootstrap=True, max_depth=111, max_features=sqrt, min_samples_leaf=5, min_samples_split=4, n_estimators=130; total time=   0.3s\n",
      "[CV] END bootstrap=True, max_depth=111, max_features=sqrt, min_samples_leaf=5, min_samples_split=4, n_estimators=131; total time=   0.3s\n",
      "[CV] END bootstrap=True, max_depth=110, max_features=sqrt, min_samples_leaf=4, min_samples_split=5, n_estimators=130; total time=   0.3s\n",
      "[CV] END bootstrap=True, max_depth=110, max_features=sqrt, min_samples_leaf=4, min_samples_split=6, n_estimators=128; total time=   0.3s\n",
      "[CV] END bootstrap=True, max_depth=110, max_features=sqrt, min_samples_leaf=4, min_samples_split=6, n_estimators=129; total time=   0.3s\n",
      "[CV] END bootstrap=True, max_depth=110, max_features=sqrt, min_samples_leaf=4, min_samples_split=6, n_estimators=130; total time=   0.3s\n",
      "[CV] END bootstrap=True, max_depth=110, max_features=sqrt, min_samples_leaf=5, min_samples_split=3, n_estimators=128; total time=   0.3s\n",
      "[CV] END bootstrap=True, max_depth=110, max_features=sqrt, min_samples_leaf=5, min_samples_split=3, n_estimators=129; total time=   0.3s\n",
      "[CV] END bootstrap=True, max_depth=110, max_features=sqrt, min_samples_leaf=5, min_samples_split=3, n_estimators=130; total time=   0.3s\n",
      "[CV] END bootstrap=True, max_depth=110, max_features=sqrt, min_samples_leaf=5, min_samples_split=3, n_estimators=131; total time=   0.3s\n",
      "[CV] END bootstrap=True, max_depth=110, max_features=sqrt, min_samples_leaf=5, min_samples_split=4, n_estimators=129; total time=   0.3s\n",
      "[CV] END bootstrap=True, max_depth=110, max_features=sqrt, min_samples_leaf=5, min_samples_split=4, n_estimators=130; total time=   0.3s\n",
      "[CV] END bootstrap=True, max_depth=110, max_features=sqrt, min_samples_leaf=5, min_samples_split=4, n_estimators=131; total time=   0.3s\n",
      "[CV] END bootstrap=True, max_depth=110, max_features=sqrt, min_samples_leaf=5, min_samples_split=5, n_estimators=129; total time=   0.3s\n",
      "[CV] END bootstrap=True, max_depth=110, max_features=sqrt, min_samples_leaf=5, min_samples_split=5, n_estimators=130; total time=   0.4s\n",
      "[CV] END bootstrap=True, max_depth=110, max_features=sqrt, min_samples_leaf=5, min_samples_split=5, n_estimators=131; total time=   0.4s\n",
      "[CV] END bootstrap=True, max_depth=110, max_features=sqrt, min_samples_leaf=5, min_samples_split=6, n_estimators=129; total time=   0.3s\n",
      "[CV] END bootstrap=True, max_depth=110, max_features=sqrt, min_samples_leaf=5, min_samples_split=6, n_estimators=130; total time=   0.3s\n",
      "[CV] END bootstrap=True, max_depth=110, max_features=sqrt, min_samples_leaf=5, min_samples_split=6, n_estimators=131; total time=   0.3s\n",
      "[CV] END bootstrap=True, max_depth=110, max_features=sqrt, min_samples_leaf=6, min_samples_split=3, n_estimators=129; total time=   0.3s\n",
      "[CV] END bootstrap=True, max_depth=110, max_features=sqrt, min_samples_leaf=6, min_samples_split=3, n_estimators=130; total time=   0.3s\n",
      "[CV] END bootstrap=True, max_depth=110, max_features=sqrt, min_samples_leaf=6, min_samples_split=3, n_estimators=131; total time=   0.3s\n",
      "[CV] END bootstrap=True, max_depth=110, max_features=sqrt, min_samples_leaf=6, min_samples_split=4, n_estimators=129; total time=   0.3s\n",
      "[CV] END bootstrap=True, max_depth=110, max_features=sqrt, min_samples_leaf=6, min_samples_split=4, n_estimators=130; total time=   0.3s\n",
      "[CV] END bootstrap=True, max_depth=110, max_features=sqrt, min_samples_leaf=6, min_samples_split=5, n_estimators=128; total time=   0.3s\n",
      "[CV] END bootstrap=True, max_depth=110, max_features=sqrt, min_samples_leaf=6, min_samples_split=5, n_estimators=129; total time=   0.3s\n",
      "[CV] END bootstrap=True, max_depth=110, max_features=sqrt, min_samples_leaf=6, min_samples_split=5, n_estimators=130; total time=   0.3s\n",
      "[CV] END bootstrap=True, max_depth=110, max_features=sqrt, min_samples_leaf=6, min_samples_split=6, n_estimators=128; total time=   0.3s\n",
      "[CV] END bootstrap=True, max_depth=110, max_features=sqrt, min_samples_leaf=6, min_samples_split=6, n_estimators=129; total time=   0.3s\n",
      "[CV] END bootstrap=True, max_depth=110, max_features=sqrt, min_samples_leaf=6, min_samples_split=6, n_estimators=131; total time=   0.3s\n",
      "[CV] END bootstrap=True, max_depth=111, max_features=sqrt, min_samples_leaf=3, min_samples_split=3, n_estimators=128; total time=   0.3s\n",
      "[CV] END bootstrap=True, max_depth=111, max_features=sqrt, min_samples_leaf=3, min_samples_split=3, n_estimators=129; total time=   0.3s\n",
      "[CV] END bootstrap=True, max_depth=111, max_features=sqrt, min_samples_leaf=3, min_samples_split=3, n_estimators=131; total time=   0.3s\n",
      "[CV] END bootstrap=True, max_depth=111, max_features=sqrt, min_samples_leaf=3, min_samples_split=4, n_estimators=128; total time=   0.3s\n",
      "[CV] END bootstrap=True, max_depth=111, max_features=sqrt, min_samples_leaf=3, min_samples_split=4, n_estimators=129; total time=   0.3s\n",
      "[CV] END bootstrap=True, max_depth=111, max_features=sqrt, min_samples_leaf=3, min_samples_split=4, n_estimators=131; total time=   0.3s\n",
      "[CV] END bootstrap=True, max_depth=111, max_features=sqrt, min_samples_leaf=3, min_samples_split=5, n_estimators=128; total time=   0.3s\n",
      "[CV] END bootstrap=True, max_depth=111, max_features=sqrt, min_samples_leaf=3, min_samples_split=5, n_estimators=129; total time=   0.3s\n",
      "[CV] END bootstrap=True, max_depth=111, max_features=sqrt, min_samples_leaf=3, min_samples_split=5, n_estimators=131; total time=   0.3s\n",
      "[CV] END bootstrap=True, max_depth=111, max_features=sqrt, min_samples_leaf=3, min_samples_split=6, n_estimators=128; total time=   0.3s\n",
      "[CV] END bootstrap=True, max_depth=111, max_features=sqrt, min_samples_leaf=3, min_samples_split=6, n_estimators=129; total time=   0.3s\n",
      "[CV] END bootstrap=True, max_depth=111, max_features=sqrt, min_samples_leaf=3, min_samples_split=6, n_estimators=131; total time=   0.3s\n",
      "[CV] END bootstrap=True, max_depth=111, max_features=sqrt, min_samples_leaf=4, min_samples_split=3, n_estimators=128; total time=   0.3s\n",
      "[CV] END bootstrap=True, max_depth=111, max_features=sqrt, min_samples_leaf=4, min_samples_split=3, n_estimators=129; total time=   0.3s\n",
      "[CV] END bootstrap=True, max_depth=111, max_features=sqrt, min_samples_leaf=4, min_samples_split=3, n_estimators=131; total time=   0.3s\n",
      "[CV] END bootstrap=True, max_depth=111, max_features=sqrt, min_samples_leaf=4, min_samples_split=4, n_estimators=128; total time=   0.3s\n",
      "[CV] END bootstrap=True, max_depth=111, max_features=sqrt, min_samples_leaf=4, min_samples_split=4, n_estimators=129; total time=   0.3s\n",
      "[CV] END bootstrap=True, max_depth=111, max_features=sqrt, min_samples_leaf=4, min_samples_split=4, n_estimators=131; total time=   0.3s\n",
      "[CV] END bootstrap=True, max_depth=111, max_features=sqrt, min_samples_leaf=4, min_samples_split=5, n_estimators=128; total time=   0.3s\n",
      "[CV] END bootstrap=True, max_depth=111, max_features=sqrt, min_samples_leaf=4, min_samples_split=5, n_estimators=129; total time=   0.3s\n",
      "[CV] END bootstrap=True, max_depth=111, max_features=sqrt, min_samples_leaf=4, min_samples_split=5, n_estimators=131; total time=   0.3s\n",
      "[CV] END bootstrap=True, max_depth=111, max_features=sqrt, min_samples_leaf=4, min_samples_split=6, n_estimators=128; total time=   0.3s\n",
      "[CV] END bootstrap=True, max_depth=111, max_features=sqrt, min_samples_leaf=4, min_samples_split=6, n_estimators=129; total time=   0.3s\n",
      "[CV] END bootstrap=True, max_depth=111, max_features=sqrt, min_samples_leaf=4, min_samples_split=6, n_estimators=131; total time=   0.3s\n",
      "[CV] END bootstrap=True, max_depth=111, max_features=sqrt, min_samples_leaf=5, min_samples_split=3, n_estimators=128; total time=   0.3s\n",
      "[CV] END bootstrap=True, max_depth=111, max_features=sqrt, min_samples_leaf=5, min_samples_split=3, n_estimators=129; total time=   0.3s\n",
      "[CV] END bootstrap=True, max_depth=111, max_features=sqrt, min_samples_leaf=5, min_samples_split=3, n_estimators=131; total time=   0.3s\n",
      "[CV] END bootstrap=True, max_depth=111, max_features=sqrt, min_samples_leaf=5, min_samples_split=4, n_estimators=128; total time=   0.3s\n",
      "[CV] END bootstrap=True, max_depth=111, max_features=sqrt, min_samples_leaf=5, min_samples_split=4, n_estimators=129; total time=   0.3s\n",
      "[CV] END bootstrap=True, max_depth=111, max_features=sqrt, min_samples_leaf=5, min_samples_split=4, n_estimators=131; total time=   0.3s\n",
      "[CV] END bootstrap=True, max_depth=111, max_features=sqrt, min_samples_leaf=5, min_samples_split=5, n_estimators=128; total time=   0.3s\n"
     ]
    },
    {
     "name": "stdout",
     "output_type": "stream",
     "text": [
      "[CV] END bootstrap=True, max_depth=110, max_features=sqrt, min_samples_leaf=5, min_samples_split=3, n_estimators=129; total time=   0.3s\n",
      "[CV] END bootstrap=True, max_depth=110, max_features=sqrt, min_samples_leaf=5, min_samples_split=3, n_estimators=130; total time=   0.3s\n",
      "[CV] END bootstrap=True, max_depth=110, max_features=sqrt, min_samples_leaf=5, min_samples_split=4, n_estimators=128; total time=   0.3s\n",
      "[CV] END bootstrap=True, max_depth=110, max_features=sqrt, min_samples_leaf=5, min_samples_split=4, n_estimators=129; total time=   0.3s\n",
      "[CV] END bootstrap=True, max_depth=110, max_features=sqrt, min_samples_leaf=5, min_samples_split=4, n_estimators=130; total time=   0.4s\n",
      "[CV] END bootstrap=True, max_depth=110, max_features=sqrt, min_samples_leaf=5, min_samples_split=5, n_estimators=128; total time=   0.3s\n",
      "[CV] END bootstrap=True, max_depth=110, max_features=sqrt, min_samples_leaf=5, min_samples_split=5, n_estimators=129; total time=   0.3s\n",
      "[CV] END bootstrap=True, max_depth=110, max_features=sqrt, min_samples_leaf=5, min_samples_split=5, n_estimators=130; total time=   0.3s\n",
      "[CV] END bootstrap=True, max_depth=110, max_features=sqrt, min_samples_leaf=5, min_samples_split=6, n_estimators=128; total time=   0.3s\n",
      "[CV] END bootstrap=True, max_depth=110, max_features=sqrt, min_samples_leaf=5, min_samples_split=6, n_estimators=129; total time=   0.3s\n",
      "[CV] END bootstrap=True, max_depth=110, max_features=sqrt, min_samples_leaf=5, min_samples_split=6, n_estimators=130; total time=   0.3s\n",
      "[CV] END bootstrap=True, max_depth=110, max_features=sqrt, min_samples_leaf=6, min_samples_split=3, n_estimators=128; total time=   0.3s\n",
      "[CV] END bootstrap=True, max_depth=110, max_features=sqrt, min_samples_leaf=6, min_samples_split=3, n_estimators=129; total time=   0.3s\n",
      "[CV] END bootstrap=True, max_depth=110, max_features=sqrt, min_samples_leaf=6, min_samples_split=3, n_estimators=130; total time=   0.3s\n",
      "[CV] END bootstrap=True, max_depth=110, max_features=sqrt, min_samples_leaf=6, min_samples_split=4, n_estimators=128; total time=   0.3s\n",
      "[CV] END bootstrap=True, max_depth=110, max_features=sqrt, min_samples_leaf=6, min_samples_split=4, n_estimators=129; total time=   0.3s\n",
      "[CV] END bootstrap=True, max_depth=110, max_features=sqrt, min_samples_leaf=6, min_samples_split=4, n_estimators=130; total time=   0.3s\n",
      "[CV] END bootstrap=True, max_depth=110, max_features=sqrt, min_samples_leaf=6, min_samples_split=4, n_estimators=131; total time=   0.3s\n",
      "[CV] END bootstrap=True, max_depth=110, max_features=sqrt, min_samples_leaf=6, min_samples_split=5, n_estimators=129; total time=   0.3s\n",
      "[CV] END bootstrap=True, max_depth=110, max_features=sqrt, min_samples_leaf=6, min_samples_split=5, n_estimators=130; total time=   0.3s\n",
      "[CV] END bootstrap=True, max_depth=110, max_features=sqrt, min_samples_leaf=6, min_samples_split=5, n_estimators=131; total time=   0.3s\n",
      "[CV] END bootstrap=True, max_depth=110, max_features=sqrt, min_samples_leaf=6, min_samples_split=6, n_estimators=129; total time=   0.3s\n",
      "[CV] END bootstrap=True, max_depth=110, max_features=sqrt, min_samples_leaf=6, min_samples_split=6, n_estimators=130; total time=   0.3s\n",
      "[CV] END bootstrap=True, max_depth=110, max_features=sqrt, min_samples_leaf=6, min_samples_split=6, n_estimators=131; total time=   0.3s\n",
      "[CV] END bootstrap=True, max_depth=111, max_features=sqrt, min_samples_leaf=3, min_samples_split=3, n_estimators=129; total time=   0.3s\n",
      "[CV] END bootstrap=True, max_depth=111, max_features=sqrt, min_samples_leaf=3, min_samples_split=3, n_estimators=130; total time=   0.3s\n",
      "[CV] END bootstrap=True, max_depth=111, max_features=sqrt, min_samples_leaf=3, min_samples_split=3, n_estimators=131; total time=   0.3s\n",
      "[CV] END bootstrap=True, max_depth=111, max_features=sqrt, min_samples_leaf=3, min_samples_split=4, n_estimators=129; total time=   0.3s\n",
      "[CV] END bootstrap=True, max_depth=111, max_features=sqrt, min_samples_leaf=3, min_samples_split=4, n_estimators=130; total time=   0.3s\n",
      "[CV] END bootstrap=True, max_depth=111, max_features=sqrt, min_samples_leaf=3, min_samples_split=4, n_estimators=131; total time=   0.3s\n",
      "[CV] END bootstrap=True, max_depth=111, max_features=sqrt, min_samples_leaf=3, min_samples_split=5, n_estimators=129; total time=   0.3s\n",
      "[CV] END bootstrap=True, max_depth=111, max_features=sqrt, min_samples_leaf=3, min_samples_split=5, n_estimators=130; total time=   0.3s\n",
      "[CV] END bootstrap=True, max_depth=111, max_features=sqrt, min_samples_leaf=3, min_samples_split=5, n_estimators=131; total time=   0.3s\n",
      "[CV] END bootstrap=True, max_depth=111, max_features=sqrt, min_samples_leaf=3, min_samples_split=6, n_estimators=129; total time=   0.3s\n",
      "[CV] END bootstrap=True, max_depth=111, max_features=sqrt, min_samples_leaf=3, min_samples_split=6, n_estimators=130; total time=   0.3s\n",
      "[CV] END bootstrap=True, max_depth=111, max_features=sqrt, min_samples_leaf=4, min_samples_split=3, n_estimators=128; total time=   0.3s\n",
      "[CV] END bootstrap=True, max_depth=111, max_features=sqrt, min_samples_leaf=4, min_samples_split=3, n_estimators=128; total time=   0.3s\n",
      "[CV] END bootstrap=True, max_depth=111, max_features=sqrt, min_samples_leaf=4, min_samples_split=3, n_estimators=130; total time=   0.3s\n",
      "[CV] END bootstrap=True, max_depth=111, max_features=sqrt, min_samples_leaf=4, min_samples_split=4, n_estimators=128; total time=   0.3s\n",
      "[CV] END bootstrap=True, max_depth=111, max_features=sqrt, min_samples_leaf=4, min_samples_split=4, n_estimators=129; total time=   0.3s\n",
      "[CV] END bootstrap=True, max_depth=111, max_features=sqrt, min_samples_leaf=4, min_samples_split=4, n_estimators=130; total time=   0.3s\n",
      "[CV] END bootstrap=True, max_depth=111, max_features=sqrt, min_samples_leaf=4, min_samples_split=4, n_estimators=131; total time=   0.3s\n",
      "[CV] END bootstrap=True, max_depth=111, max_features=sqrt, min_samples_leaf=4, min_samples_split=5, n_estimators=129; total time=   0.3s\n",
      "[CV] END bootstrap=True, max_depth=111, max_features=sqrt, min_samples_leaf=4, min_samples_split=5, n_estimators=130; total time=   0.3s\n",
      "[CV] END bootstrap=True, max_depth=111, max_features=sqrt, min_samples_leaf=4, min_samples_split=5, n_estimators=131; total time=   0.3s\n",
      "[CV] END bootstrap=True, max_depth=111, max_features=sqrt, min_samples_leaf=4, min_samples_split=6, n_estimators=129; total time=   0.3s\n",
      "[CV] END bootstrap=True, max_depth=111, max_features=sqrt, min_samples_leaf=4, min_samples_split=6, n_estimators=130; total time=   0.3s\n",
      "[CV] END bootstrap=True, max_depth=111, max_features=sqrt, min_samples_leaf=4, min_samples_split=6, n_estimators=131; total time=   0.3s\n",
      "[CV] END bootstrap=True, max_depth=111, max_features=sqrt, min_samples_leaf=5, min_samples_split=3, n_estimators=129; total time=   0.3s\n",
      "[CV] END bootstrap=True, max_depth=111, max_features=sqrt, min_samples_leaf=5, min_samples_split=3, n_estimators=130; total time=   0.3s\n",
      "[CV] END bootstrap=True, max_depth=111, max_features=sqrt, min_samples_leaf=5, min_samples_split=3, n_estimators=131; total time=   0.3s\n",
      "[CV] END bootstrap=True, max_depth=111, max_features=sqrt, min_samples_leaf=5, min_samples_split=4, n_estimators=129; total time=   0.3s\n",
      "[CV] END bootstrap=True, max_depth=111, max_features=sqrt, min_samples_leaf=5, min_samples_split=4, n_estimators=130; total time=   0.3s\n",
      "[CV] END bootstrap=True, max_depth=111, max_features=sqrt, min_samples_leaf=5, min_samples_split=4, n_estimators=131; total time=   0.3s\n",
      "[CV] END bootstrap=True, max_depth=111, max_features=sqrt, min_samples_leaf=5, min_samples_split=5, n_estimators=129; total time=   0.3s\n",
      "[CV] END bootstrap=True, max_depth=111, max_features=sqrt, min_samples_leaf=5, min_samples_split=5, n_estimators=130; total time=   0.3s\n",
      "[CV] END bootstrap=True, max_depth=111, max_features=sqrt, min_samples_leaf=5, min_samples_split=5, n_estimators=131; total time=   0.3s\n",
      "[CV] END bootstrap=True, max_depth=111, max_features=sqrt, min_samples_leaf=5, min_samples_split=6, n_estimators=129; total time=   0.3s\n",
      "[CV] END bootstrap=True, max_depth=111, max_features=sqrt, min_samples_leaf=5, min_samples_split=6, n_estimators=130; total time=   0.3s\n",
      "[CV] END bootstrap=True, max_depth=110, max_features=sqrt, min_samples_leaf=5, min_samples_split=3, n_estimators=128; total time=   0.3s\n",
      "[CV] END bootstrap=True, max_depth=110, max_features=sqrt, min_samples_leaf=5, min_samples_split=3, n_estimators=129; total time=   0.3s\n",
      "[CV] END bootstrap=True, max_depth=110, max_features=sqrt, min_samples_leaf=5, min_samples_split=3, n_estimators=131; total time=   0.3s\n",
      "[CV] END bootstrap=True, max_depth=110, max_features=sqrt, min_samples_leaf=5, min_samples_split=4, n_estimators=128; total time=   0.3s\n",
      "[CV] END bootstrap=True, max_depth=110, max_features=sqrt, min_samples_leaf=5, min_samples_split=4, n_estimators=129; total time=   0.3s\n",
      "[CV] END bootstrap=True, max_depth=110, max_features=sqrt, min_samples_leaf=5, min_samples_split=4, n_estimators=131; total time=   0.4s\n",
      "[CV] END bootstrap=True, max_depth=110, max_features=sqrt, min_samples_leaf=5, min_samples_split=5, n_estimators=128; total time=   0.3s\n",
      "[CV] END bootstrap=True, max_depth=110, max_features=sqrt, min_samples_leaf=5, min_samples_split=5, n_estimators=129; total time=   0.3s\n",
      "[CV] END bootstrap=True, max_depth=110, max_features=sqrt, min_samples_leaf=5, min_samples_split=5, n_estimators=131; total time=   0.4s\n",
      "[CV] END bootstrap=True, max_depth=110, max_features=sqrt, min_samples_leaf=5, min_samples_split=6, n_estimators=128; total time=   0.3s\n",
      "[CV] END bootstrap=True, max_depth=110, max_features=sqrt, min_samples_leaf=5, min_samples_split=6, n_estimators=130; total time=   0.3s\n",
      "[CV] END bootstrap=True, max_depth=110, max_features=sqrt, min_samples_leaf=5, min_samples_split=6, n_estimators=131; total time=   0.3s\n",
      "[CV] END bootstrap=True, max_depth=110, max_features=sqrt, min_samples_leaf=6, min_samples_split=3, n_estimators=128; total time=   0.3s\n",
      "[CV] END bootstrap=True, max_depth=110, max_features=sqrt, min_samples_leaf=6, min_samples_split=3, n_estimators=130; total time=   0.3s\n",
      "[CV] END bootstrap=True, max_depth=110, max_features=sqrt, min_samples_leaf=6, min_samples_split=3, n_estimators=131; total time=   0.3s\n",
      "[CV] END bootstrap=True, max_depth=110, max_features=sqrt, min_samples_leaf=6, min_samples_split=4, n_estimators=128; total time=   0.3s\n",
      "[CV] END bootstrap=True, max_depth=110, max_features=sqrt, min_samples_leaf=6, min_samples_split=4, n_estimators=130; total time=   0.3s\n",
      "[CV] END bootstrap=True, max_depth=110, max_features=sqrt, min_samples_leaf=6, min_samples_split=4, n_estimators=131; total time=   0.3s\n",
      "[CV] END bootstrap=True, max_depth=110, max_features=sqrt, min_samples_leaf=6, min_samples_split=5, n_estimators=128; total time=   0.3s\n",
      "[CV] END bootstrap=True, max_depth=110, max_features=sqrt, min_samples_leaf=6, min_samples_split=5, n_estimators=130; total time=   0.3s\n",
      "[CV] END bootstrap=True, max_depth=110, max_features=sqrt, min_samples_leaf=6, min_samples_split=5, n_estimators=131; total time=   0.3s\n",
      "[CV] END bootstrap=True, max_depth=110, max_features=sqrt, min_samples_leaf=6, min_samples_split=6, n_estimators=128; total time=   0.3s\n",
      "[CV] END bootstrap=True, max_depth=110, max_features=sqrt, min_samples_leaf=6, min_samples_split=6, n_estimators=130; total time=   0.3s\n",
      "[CV] END bootstrap=True, max_depth=110, max_features=sqrt, min_samples_leaf=6, min_samples_split=6, n_estimators=131; total time=   0.3s\n",
      "[CV] END bootstrap=True, max_depth=111, max_features=sqrt, min_samples_leaf=3, min_samples_split=3, n_estimators=128; total time=   0.3s\n",
      "[CV] END bootstrap=True, max_depth=111, max_features=sqrt, min_samples_leaf=3, min_samples_split=3, n_estimators=130; total time=   0.3s\n",
      "[CV] END bootstrap=True, max_depth=111, max_features=sqrt, min_samples_leaf=3, min_samples_split=3, n_estimators=131; total time=   0.3s\n",
      "[CV] END bootstrap=True, max_depth=111, max_features=sqrt, min_samples_leaf=3, min_samples_split=4, n_estimators=128; total time=   0.3s\n",
      "[CV] END bootstrap=True, max_depth=111, max_features=sqrt, min_samples_leaf=3, min_samples_split=4, n_estimators=130; total time=   0.3s\n",
      "[CV] END bootstrap=True, max_depth=111, max_features=sqrt, min_samples_leaf=3, min_samples_split=4, n_estimators=131; total time=   0.3s\n",
      "[CV] END bootstrap=True, max_depth=111, max_features=sqrt, min_samples_leaf=3, min_samples_split=5, n_estimators=128; total time=   0.3s\n",
      "[CV] END bootstrap=True, max_depth=111, max_features=sqrt, min_samples_leaf=3, min_samples_split=5, n_estimators=130; total time=   0.3s\n",
      "[CV] END bootstrap=True, max_depth=111, max_features=sqrt, min_samples_leaf=3, min_samples_split=5, n_estimators=131; total time=   0.3s\n",
      "[CV] END bootstrap=True, max_depth=111, max_features=sqrt, min_samples_leaf=3, min_samples_split=6, n_estimators=128; total time=   0.3s\n",
      "[CV] END bootstrap=True, max_depth=111, max_features=sqrt, min_samples_leaf=3, min_samples_split=6, n_estimators=130; total time=   0.3s\n",
      "[CV] END bootstrap=True, max_depth=111, max_features=sqrt, min_samples_leaf=3, min_samples_split=6, n_estimators=131; total time=   0.3s\n",
      "[CV] END bootstrap=True, max_depth=111, max_features=sqrt, min_samples_leaf=4, min_samples_split=3, n_estimators=129; total time=   0.3s\n",
      "[CV] END bootstrap=True, max_depth=111, max_features=sqrt, min_samples_leaf=4, min_samples_split=3, n_estimators=130; total time=   0.3s\n",
      "[CV] END bootstrap=True, max_depth=111, max_features=sqrt, min_samples_leaf=4, min_samples_split=3, n_estimators=131; total time=   0.3s\n",
      "[CV] END bootstrap=True, max_depth=111, max_features=sqrt, min_samples_leaf=4, min_samples_split=4, n_estimators=129; total time=   0.3s\n",
      "[CV] END bootstrap=True, max_depth=111, max_features=sqrt, min_samples_leaf=4, min_samples_split=4, n_estimators=130; total time=   0.3s\n",
      "[CV] END bootstrap=True, max_depth=111, max_features=sqrt, min_samples_leaf=4, min_samples_split=5, n_estimators=128; total time=   0.3s\n",
      "[CV] END bootstrap=True, max_depth=111, max_features=sqrt, min_samples_leaf=4, min_samples_split=5, n_estimators=129; total time=   0.3s\n",
      "[CV] END bootstrap=True, max_depth=111, max_features=sqrt, min_samples_leaf=4, min_samples_split=5, n_estimators=130; total time=   0.3s\n",
      "[CV] END bootstrap=True, max_depth=111, max_features=sqrt, min_samples_leaf=4, min_samples_split=6, n_estimators=128; total time=   0.3s\n",
      "[CV] END bootstrap=True, max_depth=111, max_features=sqrt, min_samples_leaf=4, min_samples_split=6, n_estimators=129; total time=   0.3s\n",
      "[CV] END bootstrap=True, max_depth=111, max_features=sqrt, min_samples_leaf=4, min_samples_split=6, n_estimators=130; total time=   0.3s\n",
      "[CV] END bootstrap=True, max_depth=111, max_features=sqrt, min_samples_leaf=5, min_samples_split=3, n_estimators=128; total time=   0.3s\n",
      "[CV] END bootstrap=True, max_depth=111, max_features=sqrt, min_samples_leaf=5, min_samples_split=3, n_estimators=129; total time=   0.3s\n",
      "[CV] END bootstrap=True, max_depth=111, max_features=sqrt, min_samples_leaf=5, min_samples_split=3, n_estimators=130; total time=   0.3s\n",
      "[CV] END bootstrap=True, max_depth=111, max_features=sqrt, min_samples_leaf=5, min_samples_split=4, n_estimators=128; total time=   0.3s\n",
      "[CV] END bootstrap=True, max_depth=111, max_features=sqrt, min_samples_leaf=5, min_samples_split=4, n_estimators=129; total time=   0.3s\n",
      "[CV] END bootstrap=True, max_depth=111, max_features=sqrt, min_samples_leaf=5, min_samples_split=4, n_estimators=130; total time=   0.3s\n",
      "[CV] END bootstrap=True, max_depth=111, max_features=sqrt, min_samples_leaf=5, min_samples_split=5, n_estimators=128; total time=   0.3s\n",
      "[CV] END bootstrap=True, max_depth=111, max_features=sqrt, min_samples_leaf=5, min_samples_split=5, n_estimators=129; total time=   0.3s\n",
      "[CV] END bootstrap=True, max_depth=111, max_features=sqrt, min_samples_leaf=5, min_samples_split=5, n_estimators=130; total time=   0.3s\n",
      "[CV] END bootstrap=True, max_depth=111, max_features=sqrt, min_samples_leaf=5, min_samples_split=6, n_estimators=128; total time=   0.3s\n",
      "[CV] END bootstrap=True, max_depth=111, max_features=sqrt, min_samples_leaf=5, min_samples_split=6, n_estimators=129; total time=   0.3s\n",
      "[CV] END bootstrap=True, max_depth=111, max_features=sqrt, min_samples_leaf=5, min_samples_split=6, n_estimators=130; total time=   0.3s\n"
     ]
    },
    {
     "data": {
      "text/plain": [
       "GridSearchCV(cv=3, estimator=RandomForestRegressor(), n_jobs=-1,\n",
       "             param_grid={'bootstrap': [True], 'max_depth': [108, 109, 110, 111],\n",
       "                         'max_features': ['sqrt'],\n",
       "                         'min_samples_leaf': [3, 4, 5, 6],\n",
       "                         'min_samples_split': [3, 4, 5, 6],\n",
       "                         'n_estimators': [128, 129, 130, 131]},\n",
       "             verbose=2)"
      ]
     },
     "execution_count": 28,
     "metadata": {},
     "output_type": "execute_result"
    }
   ],
   "source": [
    "# Fit the grid search to the data\n",
    "grid_search.fit(X_train, y_train)"
   ]
  },
  {
   "cell_type": "code",
   "execution_count": 29,
   "id": "93642cfc-6321-4b22-9c3b-3e246e7d3275",
   "metadata": {},
   "outputs": [
    {
     "data": {
      "text/plain": [
       "{'bootstrap': True,\n",
       " 'max_depth': 111,\n",
       " 'max_features': 'sqrt',\n",
       " 'min_samples_leaf': 3,\n",
       " 'min_samples_split': 5,\n",
       " 'n_estimators': 130}"
      ]
     },
     "execution_count": 29,
     "metadata": {},
     "output_type": "execute_result"
    }
   ],
   "source": [
    "grid_search.best_params_"
   ]
  },
  {
   "cell_type": "markdown",
   "id": "0c1deb65-ae70-4a23-8ce0-d361dc37e4ef",
   "metadata": {},
   "source": [
    "### Evaluate"
   ]
  },
  {
   "cell_type": "code",
   "execution_count": 30,
   "id": "07d5d203-3a21-4785-976f-73e00f045989",
   "metadata": {},
   "outputs": [
    {
     "name": "stdout",
     "output_type": "stream",
     "text": [
      "[CV] END bootstrap=True, max_depth=111, max_features=sqrt, min_samples_leaf=5, min_samples_split=6, n_estimators=131; total time=   0.3s\n",
      "[CV] END bootstrap=True, max_depth=111, max_features=sqrt, min_samples_leaf=6, min_samples_split=3, n_estimators=129; total time=   0.3s\n",
      "[CV] END bootstrap=True, max_depth=111, max_features=sqrt, min_samples_leaf=6, min_samples_split=3, n_estimators=130; total time=   0.3s\n",
      "[CV] END bootstrap=True, max_depth=111, max_features=sqrt, min_samples_leaf=6, min_samples_split=3, n_estimators=131; total time=   0.3s\n",
      "[CV] END bootstrap=True, max_depth=111, max_features=sqrt, min_samples_leaf=6, min_samples_split=4, n_estimators=129; total time=   0.3s\n",
      "[CV] END bootstrap=True, max_depth=111, max_features=sqrt, min_samples_leaf=6, min_samples_split=4, n_estimators=130; total time=   0.3s\n",
      "[CV] END bootstrap=True, max_depth=111, max_features=sqrt, min_samples_leaf=6, min_samples_split=4, n_estimators=131; total time=   0.3s\n",
      "[CV] END bootstrap=True, max_depth=111, max_features=sqrt, min_samples_leaf=6, min_samples_split=5, n_estimators=129; total time=   0.3s\n",
      "[CV] END bootstrap=True, max_depth=111, max_features=sqrt, min_samples_leaf=6, min_samples_split=5, n_estimators=130; total time=   0.3s\n",
      "[CV] END bootstrap=True, max_depth=111, max_features=sqrt, min_samples_leaf=6, min_samples_split=5, n_estimators=131; total time=   0.3s\n",
      "[CV] END bootstrap=True, max_depth=111, max_features=sqrt, min_samples_leaf=6, min_samples_split=6, n_estimators=129; total time=   0.3s\n",
      "[CV] END bootstrap=True, max_depth=111, max_features=sqrt, min_samples_leaf=6, min_samples_split=6, n_estimators=130; total time=   0.3s\n",
      "[CV] END bootstrap=True, max_depth=111, max_features=sqrt, min_samples_leaf=6, min_samples_split=6, n_estimators=131; total time=   0.3s\n",
      "[CV] END bootstrap=True, max_depth=111, max_features=sqrt, min_samples_leaf=5, min_samples_split=5, n_estimators=130; total time=   0.3s\n",
      "[CV] END bootstrap=True, max_depth=111, max_features=sqrt, min_samples_leaf=5, min_samples_split=5, n_estimators=131; total time=   0.3s\n",
      "[CV] END bootstrap=True, max_depth=111, max_features=sqrt, min_samples_leaf=5, min_samples_split=6, n_estimators=128; total time=   0.3s\n",
      "[CV] END bootstrap=True, max_depth=111, max_features=sqrt, min_samples_leaf=5, min_samples_split=6, n_estimators=130; total time=   0.3s\n",
      "[CV] END bootstrap=True, max_depth=111, max_features=sqrt, min_samples_leaf=5, min_samples_split=6, n_estimators=131; total time=   0.3s\n",
      "[CV] END bootstrap=True, max_depth=111, max_features=sqrt, min_samples_leaf=6, min_samples_split=3, n_estimators=128; total time=   0.3s\n",
      "[CV] END bootstrap=True, max_depth=111, max_features=sqrt, min_samples_leaf=6, min_samples_split=3, n_estimators=130; total time=   0.3s\n",
      "[CV] END bootstrap=True, max_depth=111, max_features=sqrt, min_samples_leaf=6, min_samples_split=3, n_estimators=131; total time=   0.3s\n",
      "[CV] END bootstrap=True, max_depth=111, max_features=sqrt, min_samples_leaf=6, min_samples_split=4, n_estimators=128; total time=   0.3s\n",
      "[CV] END bootstrap=True, max_depth=111, max_features=sqrt, min_samples_leaf=6, min_samples_split=4, n_estimators=129; total time=   0.3s\n",
      "[CV] END bootstrap=True, max_depth=111, max_features=sqrt, min_samples_leaf=6, min_samples_split=4, n_estimators=131; total time=   0.3s\n",
      "[CV] END bootstrap=True, max_depth=111, max_features=sqrt, min_samples_leaf=6, min_samples_split=5, n_estimators=128; total time=   0.3s\n",
      "[CV] END bootstrap=True, max_depth=111, max_features=sqrt, min_samples_leaf=6, min_samples_split=5, n_estimators=130; total time=   0.3s\n",
      "[CV] END bootstrap=True, max_depth=111, max_features=sqrt, min_samples_leaf=6, min_samples_split=5, n_estimators=131; total time=   0.3s\n",
      "[CV] END bootstrap=True, max_depth=111, max_features=sqrt, min_samples_leaf=6, min_samples_split=6, n_estimators=128; total time=   0.3s\n",
      "[CV] END bootstrap=True, max_depth=111, max_features=sqrt, min_samples_leaf=6, min_samples_split=6, n_estimators=130; total time=   0.3s\n",
      "[CV] END bootstrap=True, max_depth=111, max_features=sqrt, min_samples_leaf=6, min_samples_split=6, n_estimators=131; total time=   0.3s\n",
      "[CV] END bootstrap=True, max_depth=111, max_features=sqrt, min_samples_leaf=6, min_samples_split=3, n_estimators=128; total time=   0.3s\n",
      "[CV] END bootstrap=True, max_depth=111, max_features=sqrt, min_samples_leaf=6, min_samples_split=3, n_estimators=129; total time=   0.3s\n",
      "[CV] END bootstrap=True, max_depth=111, max_features=sqrt, min_samples_leaf=6, min_samples_split=3, n_estimators=130; total time=   0.3s\n",
      "[CV] END bootstrap=True, max_depth=111, max_features=sqrt, min_samples_leaf=6, min_samples_split=4, n_estimators=128; total time=   0.3s\n",
      "[CV] END bootstrap=True, max_depth=111, max_features=sqrt, min_samples_leaf=6, min_samples_split=4, n_estimators=129; total time=   0.3s\n",
      "[CV] END bootstrap=True, max_depth=111, max_features=sqrt, min_samples_leaf=6, min_samples_split=4, n_estimators=130; total time=   0.3s\n",
      "[CV] END bootstrap=True, max_depth=111, max_features=sqrt, min_samples_leaf=6, min_samples_split=5, n_estimators=128; total time=   0.3s\n",
      "[CV] END bootstrap=True, max_depth=111, max_features=sqrt, min_samples_leaf=6, min_samples_split=5, n_estimators=129; total time=   0.3s\n",
      "[CV] END bootstrap=True, max_depth=111, max_features=sqrt, min_samples_leaf=6, min_samples_split=5, n_estimators=131; total time=   0.3s\n",
      "[CV] END bootstrap=True, max_depth=111, max_features=sqrt, min_samples_leaf=6, min_samples_split=6, n_estimators=128; total time=   0.3s\n",
      "[CV] END bootstrap=True, max_depth=111, max_features=sqrt, min_samples_leaf=6, min_samples_split=6, n_estimators=129; total time=   0.3s\n",
      "[CV] END bootstrap=True, max_depth=111, max_features=sqrt, min_samples_leaf=6, min_samples_split=6, n_estimators=131; total time=   0.3s\n",
      "[CV] END bootstrap=True, max_depth=111, max_features=sqrt, min_samples_leaf=5, min_samples_split=5, n_estimators=128; total time=   0.3s\n",
      "[CV] END bootstrap=True, max_depth=111, max_features=sqrt, min_samples_leaf=5, min_samples_split=5, n_estimators=129; total time=   0.3s\n",
      "[CV] END bootstrap=True, max_depth=111, max_features=sqrt, min_samples_leaf=5, min_samples_split=5, n_estimators=131; total time=   0.3s\n",
      "[CV] END bootstrap=True, max_depth=111, max_features=sqrt, min_samples_leaf=5, min_samples_split=6, n_estimators=128; total time=   0.3s\n",
      "[CV] END bootstrap=True, max_depth=111, max_features=sqrt, min_samples_leaf=5, min_samples_split=6, n_estimators=129; total time=   0.3s\n",
      "[CV] END bootstrap=True, max_depth=111, max_features=sqrt, min_samples_leaf=5, min_samples_split=6, n_estimators=131; total time=   0.3s\n",
      "[CV] END bootstrap=True, max_depth=111, max_features=sqrt, min_samples_leaf=6, min_samples_split=3, n_estimators=128; total time=   0.3s\n",
      "[CV] END bootstrap=True, max_depth=111, max_features=sqrt, min_samples_leaf=6, min_samples_split=3, n_estimators=129; total time=   0.3s\n",
      "[CV] END bootstrap=True, max_depth=111, max_features=sqrt, min_samples_leaf=6, min_samples_split=3, n_estimators=131; total time=   0.3s\n",
      "[CV] END bootstrap=True, max_depth=111, max_features=sqrt, min_samples_leaf=6, min_samples_split=4, n_estimators=128; total time=   0.3s\n",
      "[CV] END bootstrap=True, max_depth=111, max_features=sqrt, min_samples_leaf=6, min_samples_split=4, n_estimators=130; total time=   0.3s\n",
      "[CV] END bootstrap=True, max_depth=111, max_features=sqrt, min_samples_leaf=6, min_samples_split=4, n_estimators=131; total time=   0.3s\n",
      "[CV] END bootstrap=True, max_depth=111, max_features=sqrt, min_samples_leaf=6, min_samples_split=5, n_estimators=128; total time=   0.3s\n",
      "[CV] END bootstrap=True, max_depth=111, max_features=sqrt, min_samples_leaf=6, min_samples_split=5, n_estimators=129; total time=   0.3s\n",
      "[CV] END bootstrap=True, max_depth=111, max_features=sqrt, min_samples_leaf=6, min_samples_split=5, n_estimators=130; total time=   0.3s\n",
      "[CV] END bootstrap=True, max_depth=111, max_features=sqrt, min_samples_leaf=6, min_samples_split=6, n_estimators=128; total time=   0.3s\n",
      "[CV] END bootstrap=True, max_depth=111, max_features=sqrt, min_samples_leaf=6, min_samples_split=6, n_estimators=129; total time=   0.3s\n",
      "[CV] END bootstrap=True, max_depth=111, max_features=sqrt, min_samples_leaf=6, min_samples_split=6, n_estimators=130; total time=   0.3s\n"
     ]
    }
   ],
   "source": [
    "# Modelo final \n",
    "final_model =grid_search.best_estimator_"
   ]
  }
 ],
 "metadata": {
  "kernelspec": {
   "display_name": "Python 3 (ipykernel)",
   "language": "python",
   "name": "python3"
  },
  "language_info": {
   "codemirror_mode": {
    "name": "ipython",
    "version": 3
   },
   "file_extension": ".py",
   "mimetype": "text/x-python",
   "name": "python",
   "nbconvert_exporter": "python",
   "pygments_lexer": "ipython3",
   "version": "3.8.8"
  }
 },
 "nbformat": 4,
 "nbformat_minor": 5
}
